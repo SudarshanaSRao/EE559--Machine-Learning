{
  "nbformat": 4,
  "nbformat_minor": 0,
  "metadata": {
    "colab": {
      "provenance": []
    },
    "kernelspec": {
      "name": "python3",
      "display_name": "Python 3"
    },
    "language_info": {
      "name": "python"
    }
  },
  "cells": [
    {
      "cell_type": "markdown",
      "source": [
        "1. Write code to implement a 2-class nearest-means classifier for data that has 2 features. (In part (e) below you will also need to run the case of data that has just 1 feature.) You are given 3 datasets, each of which is divided into a training set and test set.\n",
        "dataset1_train.csv, dataset1_test.csv,\n",
        "dataset2_train.csv, dataset2_test.csv,\n",
        "dataset3_train.csv, dataset3_test.csv\n",
        "Each csv file has one row for each data point, and one column for each feature; except the last column contains the class labels (1 or 2).\n",
        "Note that for a nearest-means classifier, the training or learning phase consists merely of computing the class means; and the classification of each data point can be done by finding\n",
        "which class mean is closer."
      ],
      "metadata": {
        "id": "ax45vuxTxu31"
      }
    },
    {
      "cell_type": "code",
      "execution_count": 552,
      "metadata": {
        "id": "NNdAGMylxrAb"
      },
      "outputs": [],
      "source": [
        "# Importing the required libraries:\n",
        "import pandas as pds\n",
        "import numpy as np\n",
        "import math\n",
        "import matplotlib.pyplot as plt\n",
        "from scipy.spatial.distance import cdist\n",
        "from plotDecBoundaries import plotDecBoundaries"
      ]
    },
    {
      "cell_type": "code",
      "source": [
        "# Reading the csv file using pandas and storing the dataset into respective data frames:\n",
        "df1_test = pds.read_csv('dataset1_test.csv')\n",
        "df1_train = pds.read_csv('dataset1_train.csv')\n",
        "df2_test = pds.read_csv('dataset2_test.csv')\n",
        "df2_train = pds.read_csv('dataset2_train.csv')\n",
        "df3_test = pds.read_csv('dataset3_test.csv')\n",
        "df3_train = pds.read_csv('dataset3_train.csv')"
      ],
      "metadata": {
        "id": "w9BVkY2fy5qs"
      },
      "execution_count": 553,
      "outputs": []
    },
    {
      "cell_type": "markdown",
      "source": [
        "Displaying the first five rows in each dataset file:"
      ],
      "metadata": {
        "id": "GqKhYuMT2Tjk"
      }
    },
    {
      "cell_type": "code",
      "source": [
        "df1_train.head()"
      ],
      "metadata": {
        "colab": {
          "base_uri": "https://localhost:8080/",
          "height": 206
        },
        "id": "2Kv0h_vRzo70",
        "outputId": "1018f4f0-39fc-454e-c6f2-c5a45ecd2cc5"
      },
      "execution_count": 554,
      "outputs": [
        {
          "output_type": "execute_result",
          "data": {
            "text/plain": [
              "   2.199291318455960820e+00  3.690399294158712706e+00  \\\n",
              "0                  0.472634                 -0.709271   \n",
              "1                 -0.026662                 -1.335827   \n",
              "2                 -0.116866                 -1.336345   \n",
              "3                  2.100909                  1.143771   \n",
              "4                  2.512397                  1.345972   \n",
              "\n",
              "   1.000000000000000000e+00  \n",
              "0                       2.0  \n",
              "1                       2.0  \n",
              "2                       2.0  \n",
              "3                       2.0  \n",
              "4                       2.0  "
            ],
            "text/html": [
              "\n",
              "  <div id=\"df-27b96012-1102-4e04-9d9b-b0a5cf0670e4\">\n",
              "    <div class=\"colab-df-container\">\n",
              "      <div>\n",
              "<style scoped>\n",
              "    .dataframe tbody tr th:only-of-type {\n",
              "        vertical-align: middle;\n",
              "    }\n",
              "\n",
              "    .dataframe tbody tr th {\n",
              "        vertical-align: top;\n",
              "    }\n",
              "\n",
              "    .dataframe thead th {\n",
              "        text-align: right;\n",
              "    }\n",
              "</style>\n",
              "<table border=\"1\" class=\"dataframe\">\n",
              "  <thead>\n",
              "    <tr style=\"text-align: right;\">\n",
              "      <th></th>\n",
              "      <th>2.199291318455960820e+00</th>\n",
              "      <th>3.690399294158712706e+00</th>\n",
              "      <th>1.000000000000000000e+00</th>\n",
              "    </tr>\n",
              "  </thead>\n",
              "  <tbody>\n",
              "    <tr>\n",
              "      <th>0</th>\n",
              "      <td>0.472634</td>\n",
              "      <td>-0.709271</td>\n",
              "      <td>2.0</td>\n",
              "    </tr>\n",
              "    <tr>\n",
              "      <th>1</th>\n",
              "      <td>-0.026662</td>\n",
              "      <td>-1.335827</td>\n",
              "      <td>2.0</td>\n",
              "    </tr>\n",
              "    <tr>\n",
              "      <th>2</th>\n",
              "      <td>-0.116866</td>\n",
              "      <td>-1.336345</td>\n",
              "      <td>2.0</td>\n",
              "    </tr>\n",
              "    <tr>\n",
              "      <th>3</th>\n",
              "      <td>2.100909</td>\n",
              "      <td>1.143771</td>\n",
              "      <td>2.0</td>\n",
              "    </tr>\n",
              "    <tr>\n",
              "      <th>4</th>\n",
              "      <td>2.512397</td>\n",
              "      <td>1.345972</td>\n",
              "      <td>2.0</td>\n",
              "    </tr>\n",
              "  </tbody>\n",
              "</table>\n",
              "</div>\n",
              "      <button class=\"colab-df-convert\" onclick=\"convertToInteractive('df-27b96012-1102-4e04-9d9b-b0a5cf0670e4')\"\n",
              "              title=\"Convert this dataframe to an interactive table.\"\n",
              "              style=\"display:none;\">\n",
              "        \n",
              "  <svg xmlns=\"http://www.w3.org/2000/svg\" height=\"24px\"viewBox=\"0 0 24 24\"\n",
              "       width=\"24px\">\n",
              "    <path d=\"M0 0h24v24H0V0z\" fill=\"none\"/>\n",
              "    <path d=\"M18.56 5.44l.94 2.06.94-2.06 2.06-.94-2.06-.94-.94-2.06-.94 2.06-2.06.94zm-11 1L8.5 8.5l.94-2.06 2.06-.94-2.06-.94L8.5 2.5l-.94 2.06-2.06.94zm10 10l.94 2.06.94-2.06 2.06-.94-2.06-.94-.94-2.06-.94 2.06-2.06.94z\"/><path d=\"M17.41 7.96l-1.37-1.37c-.4-.4-.92-.59-1.43-.59-.52 0-1.04.2-1.43.59L10.3 9.45l-7.72 7.72c-.78.78-.78 2.05 0 2.83L4 21.41c.39.39.9.59 1.41.59.51 0 1.02-.2 1.41-.59l7.78-7.78 2.81-2.81c.8-.78.8-2.07 0-2.86zM5.41 20L4 18.59l7.72-7.72 1.47 1.35L5.41 20z\"/>\n",
              "  </svg>\n",
              "      </button>\n",
              "      \n",
              "  <style>\n",
              "    .colab-df-container {\n",
              "      display:flex;\n",
              "      flex-wrap:wrap;\n",
              "      gap: 12px;\n",
              "    }\n",
              "\n",
              "    .colab-df-convert {\n",
              "      background-color: #E8F0FE;\n",
              "      border: none;\n",
              "      border-radius: 50%;\n",
              "      cursor: pointer;\n",
              "      display: none;\n",
              "      fill: #1967D2;\n",
              "      height: 32px;\n",
              "      padding: 0 0 0 0;\n",
              "      width: 32px;\n",
              "    }\n",
              "\n",
              "    .colab-df-convert:hover {\n",
              "      background-color: #E2EBFA;\n",
              "      box-shadow: 0px 1px 2px rgba(60, 64, 67, 0.3), 0px 1px 3px 1px rgba(60, 64, 67, 0.15);\n",
              "      fill: #174EA6;\n",
              "    }\n",
              "\n",
              "    [theme=dark] .colab-df-convert {\n",
              "      background-color: #3B4455;\n",
              "      fill: #D2E3FC;\n",
              "    }\n",
              "\n",
              "    [theme=dark] .colab-df-convert:hover {\n",
              "      background-color: #434B5C;\n",
              "      box-shadow: 0px 1px 3px 1px rgba(0, 0, 0, 0.15);\n",
              "      filter: drop-shadow(0px 1px 2px rgba(0, 0, 0, 0.3));\n",
              "      fill: #FFFFFF;\n",
              "    }\n",
              "  </style>\n",
              "\n",
              "      <script>\n",
              "        const buttonEl =\n",
              "          document.querySelector('#df-27b96012-1102-4e04-9d9b-b0a5cf0670e4 button.colab-df-convert');\n",
              "        buttonEl.style.display =\n",
              "          google.colab.kernel.accessAllowed ? 'block' : 'none';\n",
              "\n",
              "        async function convertToInteractive(key) {\n",
              "          const element = document.querySelector('#df-27b96012-1102-4e04-9d9b-b0a5cf0670e4');\n",
              "          const dataTable =\n",
              "            await google.colab.kernel.invokeFunction('convertToInteractive',\n",
              "                                                     [key], {});\n",
              "          if (!dataTable) return;\n",
              "\n",
              "          const docLinkHtml = 'Like what you see? Visit the ' +\n",
              "            '<a target=\"_blank\" href=https://colab.research.google.com/notebooks/data_table.ipynb>data table notebook</a>'\n",
              "            + ' to learn more about interactive tables.';\n",
              "          element.innerHTML = '';\n",
              "          dataTable['output_type'] = 'display_data';\n",
              "          await google.colab.output.renderOutput(dataTable, element);\n",
              "          const docLink = document.createElement('div');\n",
              "          docLink.innerHTML = docLinkHtml;\n",
              "          element.appendChild(docLink);\n",
              "        }\n",
              "      </script>\n",
              "    </div>\n",
              "  </div>\n",
              "  "
            ]
          },
          "metadata": {},
          "execution_count": 554
        }
      ]
    },
    {
      "cell_type": "code",
      "source": [
        "df1_test.head()"
      ],
      "metadata": {
        "colab": {
          "base_uri": "https://localhost:8080/",
          "height": 206
        },
        "id": "svrwRuU51YzE",
        "outputId": "05f7a8db-8f06-43dc-ce1b-7d2016a430c5"
      },
      "execution_count": 555,
      "outputs": [
        {
          "output_type": "execute_result",
          "data": {
            "text/plain": [
              "   1.226844523717489865e+00  2.737906870864166842e-01  \\\n",
              "0                 -0.929775                  0.300098   \n",
              "1                  0.220924                  0.835073   \n",
              "2                  0.783772                 -0.233020   \n",
              "3                  2.116507                  0.728805   \n",
              "4                  0.002064                 -1.187643   \n",
              "\n",
              "   2.000000000000000000e+00  \n",
              "0                       1.0  \n",
              "1                       1.0  \n",
              "2                       2.0  \n",
              "3                       2.0  \n",
              "4                       2.0  "
            ],
            "text/html": [
              "\n",
              "  <div id=\"df-3db4929e-6aa6-4bbc-be91-dbde8b97c884\">\n",
              "    <div class=\"colab-df-container\">\n",
              "      <div>\n",
              "<style scoped>\n",
              "    .dataframe tbody tr th:only-of-type {\n",
              "        vertical-align: middle;\n",
              "    }\n",
              "\n",
              "    .dataframe tbody tr th {\n",
              "        vertical-align: top;\n",
              "    }\n",
              "\n",
              "    .dataframe thead th {\n",
              "        text-align: right;\n",
              "    }\n",
              "</style>\n",
              "<table border=\"1\" class=\"dataframe\">\n",
              "  <thead>\n",
              "    <tr style=\"text-align: right;\">\n",
              "      <th></th>\n",
              "      <th>1.226844523717489865e+00</th>\n",
              "      <th>2.737906870864166842e-01</th>\n",
              "      <th>2.000000000000000000e+00</th>\n",
              "    </tr>\n",
              "  </thead>\n",
              "  <tbody>\n",
              "    <tr>\n",
              "      <th>0</th>\n",
              "      <td>-0.929775</td>\n",
              "      <td>0.300098</td>\n",
              "      <td>1.0</td>\n",
              "    </tr>\n",
              "    <tr>\n",
              "      <th>1</th>\n",
              "      <td>0.220924</td>\n",
              "      <td>0.835073</td>\n",
              "      <td>1.0</td>\n",
              "    </tr>\n",
              "    <tr>\n",
              "      <th>2</th>\n",
              "      <td>0.783772</td>\n",
              "      <td>-0.233020</td>\n",
              "      <td>2.0</td>\n",
              "    </tr>\n",
              "    <tr>\n",
              "      <th>3</th>\n",
              "      <td>2.116507</td>\n",
              "      <td>0.728805</td>\n",
              "      <td>2.0</td>\n",
              "    </tr>\n",
              "    <tr>\n",
              "      <th>4</th>\n",
              "      <td>0.002064</td>\n",
              "      <td>-1.187643</td>\n",
              "      <td>2.0</td>\n",
              "    </tr>\n",
              "  </tbody>\n",
              "</table>\n",
              "</div>\n",
              "      <button class=\"colab-df-convert\" onclick=\"convertToInteractive('df-3db4929e-6aa6-4bbc-be91-dbde8b97c884')\"\n",
              "              title=\"Convert this dataframe to an interactive table.\"\n",
              "              style=\"display:none;\">\n",
              "        \n",
              "  <svg xmlns=\"http://www.w3.org/2000/svg\" height=\"24px\"viewBox=\"0 0 24 24\"\n",
              "       width=\"24px\">\n",
              "    <path d=\"M0 0h24v24H0V0z\" fill=\"none\"/>\n",
              "    <path d=\"M18.56 5.44l.94 2.06.94-2.06 2.06-.94-2.06-.94-.94-2.06-.94 2.06-2.06.94zm-11 1L8.5 8.5l.94-2.06 2.06-.94-2.06-.94L8.5 2.5l-.94 2.06-2.06.94zm10 10l.94 2.06.94-2.06 2.06-.94-2.06-.94-.94-2.06-.94 2.06-2.06.94z\"/><path d=\"M17.41 7.96l-1.37-1.37c-.4-.4-.92-.59-1.43-.59-.52 0-1.04.2-1.43.59L10.3 9.45l-7.72 7.72c-.78.78-.78 2.05 0 2.83L4 21.41c.39.39.9.59 1.41.59.51 0 1.02-.2 1.41-.59l7.78-7.78 2.81-2.81c.8-.78.8-2.07 0-2.86zM5.41 20L4 18.59l7.72-7.72 1.47 1.35L5.41 20z\"/>\n",
              "  </svg>\n",
              "      </button>\n",
              "      \n",
              "  <style>\n",
              "    .colab-df-container {\n",
              "      display:flex;\n",
              "      flex-wrap:wrap;\n",
              "      gap: 12px;\n",
              "    }\n",
              "\n",
              "    .colab-df-convert {\n",
              "      background-color: #E8F0FE;\n",
              "      border: none;\n",
              "      border-radius: 50%;\n",
              "      cursor: pointer;\n",
              "      display: none;\n",
              "      fill: #1967D2;\n",
              "      height: 32px;\n",
              "      padding: 0 0 0 0;\n",
              "      width: 32px;\n",
              "    }\n",
              "\n",
              "    .colab-df-convert:hover {\n",
              "      background-color: #E2EBFA;\n",
              "      box-shadow: 0px 1px 2px rgba(60, 64, 67, 0.3), 0px 1px 3px 1px rgba(60, 64, 67, 0.15);\n",
              "      fill: #174EA6;\n",
              "    }\n",
              "\n",
              "    [theme=dark] .colab-df-convert {\n",
              "      background-color: #3B4455;\n",
              "      fill: #D2E3FC;\n",
              "    }\n",
              "\n",
              "    [theme=dark] .colab-df-convert:hover {\n",
              "      background-color: #434B5C;\n",
              "      box-shadow: 0px 1px 3px 1px rgba(0, 0, 0, 0.15);\n",
              "      filter: drop-shadow(0px 1px 2px rgba(0, 0, 0, 0.3));\n",
              "      fill: #FFFFFF;\n",
              "    }\n",
              "  </style>\n",
              "\n",
              "      <script>\n",
              "        const buttonEl =\n",
              "          document.querySelector('#df-3db4929e-6aa6-4bbc-be91-dbde8b97c884 button.colab-df-convert');\n",
              "        buttonEl.style.display =\n",
              "          google.colab.kernel.accessAllowed ? 'block' : 'none';\n",
              "\n",
              "        async function convertToInteractive(key) {\n",
              "          const element = document.querySelector('#df-3db4929e-6aa6-4bbc-be91-dbde8b97c884');\n",
              "          const dataTable =\n",
              "            await google.colab.kernel.invokeFunction('convertToInteractive',\n",
              "                                                     [key], {});\n",
              "          if (!dataTable) return;\n",
              "\n",
              "          const docLinkHtml = 'Like what you see? Visit the ' +\n",
              "            '<a target=\"_blank\" href=https://colab.research.google.com/notebooks/data_table.ipynb>data table notebook</a>'\n",
              "            + ' to learn more about interactive tables.';\n",
              "          element.innerHTML = '';\n",
              "          dataTable['output_type'] = 'display_data';\n",
              "          await google.colab.output.renderOutput(dataTable, element);\n",
              "          const docLink = document.createElement('div');\n",
              "          docLink.innerHTML = docLinkHtml;\n",
              "          element.appendChild(docLink);\n",
              "        }\n",
              "      </script>\n",
              "    </div>\n",
              "  </div>\n",
              "  "
            ]
          },
          "metadata": {},
          "execution_count": 555
        }
      ]
    },
    {
      "cell_type": "code",
      "source": [
        "df2_train.head()"
      ],
      "metadata": {
        "colab": {
          "base_uri": "https://localhost:8080/",
          "height": 206
        },
        "id": "_4Mujcs32KVs",
        "outputId": "51f0ed77-ed77-44b1-da1b-431a2fd828fb"
      },
      "execution_count": 556,
      "outputs": [
        {
          "output_type": "execute_result",
          "data": {
            "text/plain": [
              "   4.936546812986483124e-01  9.059484132037098902e-01  \\\n",
              "0                  0.872053                 -0.355721   \n",
              "1                 -0.009021                  0.132694   \n",
              "2                 -0.578481                  1.000596   \n",
              "3                 -0.438395                  1.038901   \n",
              "4                  2.365306                 -0.136852   \n",
              "\n",
              "   1.000000000000000000e+00  \n",
              "0                       2.0  \n",
              "1                       2.0  \n",
              "2                       1.0  \n",
              "3                       1.0  \n",
              "4                       2.0  "
            ],
            "text/html": [
              "\n",
              "  <div id=\"df-82545293-7492-4f4e-af1e-455545ee5db0\">\n",
              "    <div class=\"colab-df-container\">\n",
              "      <div>\n",
              "<style scoped>\n",
              "    .dataframe tbody tr th:only-of-type {\n",
              "        vertical-align: middle;\n",
              "    }\n",
              "\n",
              "    .dataframe tbody tr th {\n",
              "        vertical-align: top;\n",
              "    }\n",
              "\n",
              "    .dataframe thead th {\n",
              "        text-align: right;\n",
              "    }\n",
              "</style>\n",
              "<table border=\"1\" class=\"dataframe\">\n",
              "  <thead>\n",
              "    <tr style=\"text-align: right;\">\n",
              "      <th></th>\n",
              "      <th>4.936546812986483124e-01</th>\n",
              "      <th>9.059484132037098902e-01</th>\n",
              "      <th>1.000000000000000000e+00</th>\n",
              "    </tr>\n",
              "  </thead>\n",
              "  <tbody>\n",
              "    <tr>\n",
              "      <th>0</th>\n",
              "      <td>0.872053</td>\n",
              "      <td>-0.355721</td>\n",
              "      <td>2.0</td>\n",
              "    </tr>\n",
              "    <tr>\n",
              "      <th>1</th>\n",
              "      <td>-0.009021</td>\n",
              "      <td>0.132694</td>\n",
              "      <td>2.0</td>\n",
              "    </tr>\n",
              "    <tr>\n",
              "      <th>2</th>\n",
              "      <td>-0.578481</td>\n",
              "      <td>1.000596</td>\n",
              "      <td>1.0</td>\n",
              "    </tr>\n",
              "    <tr>\n",
              "      <th>3</th>\n",
              "      <td>-0.438395</td>\n",
              "      <td>1.038901</td>\n",
              "      <td>1.0</td>\n",
              "    </tr>\n",
              "    <tr>\n",
              "      <th>4</th>\n",
              "      <td>2.365306</td>\n",
              "      <td>-0.136852</td>\n",
              "      <td>2.0</td>\n",
              "    </tr>\n",
              "  </tbody>\n",
              "</table>\n",
              "</div>\n",
              "      <button class=\"colab-df-convert\" onclick=\"convertToInteractive('df-82545293-7492-4f4e-af1e-455545ee5db0')\"\n",
              "              title=\"Convert this dataframe to an interactive table.\"\n",
              "              style=\"display:none;\">\n",
              "        \n",
              "  <svg xmlns=\"http://www.w3.org/2000/svg\" height=\"24px\"viewBox=\"0 0 24 24\"\n",
              "       width=\"24px\">\n",
              "    <path d=\"M0 0h24v24H0V0z\" fill=\"none\"/>\n",
              "    <path d=\"M18.56 5.44l.94 2.06.94-2.06 2.06-.94-2.06-.94-.94-2.06-.94 2.06-2.06.94zm-11 1L8.5 8.5l.94-2.06 2.06-.94-2.06-.94L8.5 2.5l-.94 2.06-2.06.94zm10 10l.94 2.06.94-2.06 2.06-.94-2.06-.94-.94-2.06-.94 2.06-2.06.94z\"/><path d=\"M17.41 7.96l-1.37-1.37c-.4-.4-.92-.59-1.43-.59-.52 0-1.04.2-1.43.59L10.3 9.45l-7.72 7.72c-.78.78-.78 2.05 0 2.83L4 21.41c.39.39.9.59 1.41.59.51 0 1.02-.2 1.41-.59l7.78-7.78 2.81-2.81c.8-.78.8-2.07 0-2.86zM5.41 20L4 18.59l7.72-7.72 1.47 1.35L5.41 20z\"/>\n",
              "  </svg>\n",
              "      </button>\n",
              "      \n",
              "  <style>\n",
              "    .colab-df-container {\n",
              "      display:flex;\n",
              "      flex-wrap:wrap;\n",
              "      gap: 12px;\n",
              "    }\n",
              "\n",
              "    .colab-df-convert {\n",
              "      background-color: #E8F0FE;\n",
              "      border: none;\n",
              "      border-radius: 50%;\n",
              "      cursor: pointer;\n",
              "      display: none;\n",
              "      fill: #1967D2;\n",
              "      height: 32px;\n",
              "      padding: 0 0 0 0;\n",
              "      width: 32px;\n",
              "    }\n",
              "\n",
              "    .colab-df-convert:hover {\n",
              "      background-color: #E2EBFA;\n",
              "      box-shadow: 0px 1px 2px rgba(60, 64, 67, 0.3), 0px 1px 3px 1px rgba(60, 64, 67, 0.15);\n",
              "      fill: #174EA6;\n",
              "    }\n",
              "\n",
              "    [theme=dark] .colab-df-convert {\n",
              "      background-color: #3B4455;\n",
              "      fill: #D2E3FC;\n",
              "    }\n",
              "\n",
              "    [theme=dark] .colab-df-convert:hover {\n",
              "      background-color: #434B5C;\n",
              "      box-shadow: 0px 1px 3px 1px rgba(0, 0, 0, 0.15);\n",
              "      filter: drop-shadow(0px 1px 2px rgba(0, 0, 0, 0.3));\n",
              "      fill: #FFFFFF;\n",
              "    }\n",
              "  </style>\n",
              "\n",
              "      <script>\n",
              "        const buttonEl =\n",
              "          document.querySelector('#df-82545293-7492-4f4e-af1e-455545ee5db0 button.colab-df-convert');\n",
              "        buttonEl.style.display =\n",
              "          google.colab.kernel.accessAllowed ? 'block' : 'none';\n",
              "\n",
              "        async function convertToInteractive(key) {\n",
              "          const element = document.querySelector('#df-82545293-7492-4f4e-af1e-455545ee5db0');\n",
              "          const dataTable =\n",
              "            await google.colab.kernel.invokeFunction('convertToInteractive',\n",
              "                                                     [key], {});\n",
              "          if (!dataTable) return;\n",
              "\n",
              "          const docLinkHtml = 'Like what you see? Visit the ' +\n",
              "            '<a target=\"_blank\" href=https://colab.research.google.com/notebooks/data_table.ipynb>data table notebook</a>'\n",
              "            + ' to learn more about interactive tables.';\n",
              "          element.innerHTML = '';\n",
              "          dataTable['output_type'] = 'display_data';\n",
              "          await google.colab.output.renderOutput(dataTable, element);\n",
              "          const docLink = document.createElement('div');\n",
              "          docLink.innerHTML = docLinkHtml;\n",
              "          element.appendChild(docLink);\n",
              "        }\n",
              "      </script>\n",
              "    </div>\n",
              "  </div>\n",
              "  "
            ]
          },
          "metadata": {},
          "execution_count": 556
        }
      ]
    },
    {
      "cell_type": "code",
      "source": [
        "df2_test.head()"
      ],
      "metadata": {
        "colab": {
          "base_uri": "https://localhost:8080/",
          "height": 206
        },
        "id": "pakdRjcG2K8b",
        "outputId": "712cf7d0-cecb-48db-d744-b8f4d3e3e1a9"
      },
      "execution_count": 557,
      "outputs": [
        {
          "output_type": "execute_result",
          "data": {
            "text/plain": [
              "   -7.004360146863475300e-02  -1.184574247464941360e-01  \\\n",
              "0                  -0.824375                   0.892066   \n",
              "1                   1.384810                   0.016317   \n",
              "2                   0.304828                   0.286498   \n",
              "3                   1.651588                   0.902572   \n",
              "4                   0.249487                   0.150905   \n",
              "\n",
              "   2.000000000000000000e+00  \n",
              "0                       1.0  \n",
              "1                       2.0  \n",
              "2                       2.0  \n",
              "3                       1.0  \n",
              "4                       2.0  "
            ],
            "text/html": [
              "\n",
              "  <div id=\"df-1112ac2d-f089-446a-ba07-f1f09f82e9d9\">\n",
              "    <div class=\"colab-df-container\">\n",
              "      <div>\n",
              "<style scoped>\n",
              "    .dataframe tbody tr th:only-of-type {\n",
              "        vertical-align: middle;\n",
              "    }\n",
              "\n",
              "    .dataframe tbody tr th {\n",
              "        vertical-align: top;\n",
              "    }\n",
              "\n",
              "    .dataframe thead th {\n",
              "        text-align: right;\n",
              "    }\n",
              "</style>\n",
              "<table border=\"1\" class=\"dataframe\">\n",
              "  <thead>\n",
              "    <tr style=\"text-align: right;\">\n",
              "      <th></th>\n",
              "      <th>-7.004360146863475300e-02</th>\n",
              "      <th>-1.184574247464941360e-01</th>\n",
              "      <th>2.000000000000000000e+00</th>\n",
              "    </tr>\n",
              "  </thead>\n",
              "  <tbody>\n",
              "    <tr>\n",
              "      <th>0</th>\n",
              "      <td>-0.824375</td>\n",
              "      <td>0.892066</td>\n",
              "      <td>1.0</td>\n",
              "    </tr>\n",
              "    <tr>\n",
              "      <th>1</th>\n",
              "      <td>1.384810</td>\n",
              "      <td>0.016317</td>\n",
              "      <td>2.0</td>\n",
              "    </tr>\n",
              "    <tr>\n",
              "      <th>2</th>\n",
              "      <td>0.304828</td>\n",
              "      <td>0.286498</td>\n",
              "      <td>2.0</td>\n",
              "    </tr>\n",
              "    <tr>\n",
              "      <th>3</th>\n",
              "      <td>1.651588</td>\n",
              "      <td>0.902572</td>\n",
              "      <td>1.0</td>\n",
              "    </tr>\n",
              "    <tr>\n",
              "      <th>4</th>\n",
              "      <td>0.249487</td>\n",
              "      <td>0.150905</td>\n",
              "      <td>2.0</td>\n",
              "    </tr>\n",
              "  </tbody>\n",
              "</table>\n",
              "</div>\n",
              "      <button class=\"colab-df-convert\" onclick=\"convertToInteractive('df-1112ac2d-f089-446a-ba07-f1f09f82e9d9')\"\n",
              "              title=\"Convert this dataframe to an interactive table.\"\n",
              "              style=\"display:none;\">\n",
              "        \n",
              "  <svg xmlns=\"http://www.w3.org/2000/svg\" height=\"24px\"viewBox=\"0 0 24 24\"\n",
              "       width=\"24px\">\n",
              "    <path d=\"M0 0h24v24H0V0z\" fill=\"none\"/>\n",
              "    <path d=\"M18.56 5.44l.94 2.06.94-2.06 2.06-.94-2.06-.94-.94-2.06-.94 2.06-2.06.94zm-11 1L8.5 8.5l.94-2.06 2.06-.94-2.06-.94L8.5 2.5l-.94 2.06-2.06.94zm10 10l.94 2.06.94-2.06 2.06-.94-2.06-.94-.94-2.06-.94 2.06-2.06.94z\"/><path d=\"M17.41 7.96l-1.37-1.37c-.4-.4-.92-.59-1.43-.59-.52 0-1.04.2-1.43.59L10.3 9.45l-7.72 7.72c-.78.78-.78 2.05 0 2.83L4 21.41c.39.39.9.59 1.41.59.51 0 1.02-.2 1.41-.59l7.78-7.78 2.81-2.81c.8-.78.8-2.07 0-2.86zM5.41 20L4 18.59l7.72-7.72 1.47 1.35L5.41 20z\"/>\n",
              "  </svg>\n",
              "      </button>\n",
              "      \n",
              "  <style>\n",
              "    .colab-df-container {\n",
              "      display:flex;\n",
              "      flex-wrap:wrap;\n",
              "      gap: 12px;\n",
              "    }\n",
              "\n",
              "    .colab-df-convert {\n",
              "      background-color: #E8F0FE;\n",
              "      border: none;\n",
              "      border-radius: 50%;\n",
              "      cursor: pointer;\n",
              "      display: none;\n",
              "      fill: #1967D2;\n",
              "      height: 32px;\n",
              "      padding: 0 0 0 0;\n",
              "      width: 32px;\n",
              "    }\n",
              "\n",
              "    .colab-df-convert:hover {\n",
              "      background-color: #E2EBFA;\n",
              "      box-shadow: 0px 1px 2px rgba(60, 64, 67, 0.3), 0px 1px 3px 1px rgba(60, 64, 67, 0.15);\n",
              "      fill: #174EA6;\n",
              "    }\n",
              "\n",
              "    [theme=dark] .colab-df-convert {\n",
              "      background-color: #3B4455;\n",
              "      fill: #D2E3FC;\n",
              "    }\n",
              "\n",
              "    [theme=dark] .colab-df-convert:hover {\n",
              "      background-color: #434B5C;\n",
              "      box-shadow: 0px 1px 3px 1px rgba(0, 0, 0, 0.15);\n",
              "      filter: drop-shadow(0px 1px 2px rgba(0, 0, 0, 0.3));\n",
              "      fill: #FFFFFF;\n",
              "    }\n",
              "  </style>\n",
              "\n",
              "      <script>\n",
              "        const buttonEl =\n",
              "          document.querySelector('#df-1112ac2d-f089-446a-ba07-f1f09f82e9d9 button.colab-df-convert');\n",
              "        buttonEl.style.display =\n",
              "          google.colab.kernel.accessAllowed ? 'block' : 'none';\n",
              "\n",
              "        async function convertToInteractive(key) {\n",
              "          const element = document.querySelector('#df-1112ac2d-f089-446a-ba07-f1f09f82e9d9');\n",
              "          const dataTable =\n",
              "            await google.colab.kernel.invokeFunction('convertToInteractive',\n",
              "                                                     [key], {});\n",
              "          if (!dataTable) return;\n",
              "\n",
              "          const docLinkHtml = 'Like what you see? Visit the ' +\n",
              "            '<a target=\"_blank\" href=https://colab.research.google.com/notebooks/data_table.ipynb>data table notebook</a>'\n",
              "            + ' to learn more about interactive tables.';\n",
              "          element.innerHTML = '';\n",
              "          dataTable['output_type'] = 'display_data';\n",
              "          await google.colab.output.renderOutput(dataTable, element);\n",
              "          const docLink = document.createElement('div');\n",
              "          docLink.innerHTML = docLinkHtml;\n",
              "          element.appendChild(docLink);\n",
              "        }\n",
              "      </script>\n",
              "    </div>\n",
              "  </div>\n",
              "  "
            ]
          },
          "metadata": {},
          "execution_count": 557
        }
      ]
    },
    {
      "cell_type": "code",
      "source": [
        "df3_test.head()"
      ],
      "metadata": {
        "colab": {
          "base_uri": "https://localhost:8080/",
          "height": 206
        },
        "id": "R9INZAmY2LXD",
        "outputId": "822f3090-e08b-4feb-af46-16a57e0ab71b"
      },
      "execution_count": 558,
      "outputs": [
        {
          "output_type": "execute_result",
          "data": {
            "text/plain": [
              "   6.248327246921626665e-01  1.394104810933641581e+00  \\\n",
              "0                  2.976187                 -0.119177   \n",
              "1                  0.489271                 -2.653542   \n",
              "2                  0.159336                  1.642712   \n",
              "3                  0.059028                  0.772479   \n",
              "4                  1.188627                  0.430223   \n",
              "\n",
              "   2.000000000000000000e+00  \n",
              "0                       1.0  \n",
              "1                       1.0  \n",
              "2                       2.0  \n",
              "3                       2.0  \n",
              "4                       1.0  "
            ],
            "text/html": [
              "\n",
              "  <div id=\"df-574ca988-f2fe-4419-b474-701a2fc70011\">\n",
              "    <div class=\"colab-df-container\">\n",
              "      <div>\n",
              "<style scoped>\n",
              "    .dataframe tbody tr th:only-of-type {\n",
              "        vertical-align: middle;\n",
              "    }\n",
              "\n",
              "    .dataframe tbody tr th {\n",
              "        vertical-align: top;\n",
              "    }\n",
              "\n",
              "    .dataframe thead th {\n",
              "        text-align: right;\n",
              "    }\n",
              "</style>\n",
              "<table border=\"1\" class=\"dataframe\">\n",
              "  <thead>\n",
              "    <tr style=\"text-align: right;\">\n",
              "      <th></th>\n",
              "      <th>6.248327246921626665e-01</th>\n",
              "      <th>1.394104810933641581e+00</th>\n",
              "      <th>2.000000000000000000e+00</th>\n",
              "    </tr>\n",
              "  </thead>\n",
              "  <tbody>\n",
              "    <tr>\n",
              "      <th>0</th>\n",
              "      <td>2.976187</td>\n",
              "      <td>-0.119177</td>\n",
              "      <td>1.0</td>\n",
              "    </tr>\n",
              "    <tr>\n",
              "      <th>1</th>\n",
              "      <td>0.489271</td>\n",
              "      <td>-2.653542</td>\n",
              "      <td>1.0</td>\n",
              "    </tr>\n",
              "    <tr>\n",
              "      <th>2</th>\n",
              "      <td>0.159336</td>\n",
              "      <td>1.642712</td>\n",
              "      <td>2.0</td>\n",
              "    </tr>\n",
              "    <tr>\n",
              "      <th>3</th>\n",
              "      <td>0.059028</td>\n",
              "      <td>0.772479</td>\n",
              "      <td>2.0</td>\n",
              "    </tr>\n",
              "    <tr>\n",
              "      <th>4</th>\n",
              "      <td>1.188627</td>\n",
              "      <td>0.430223</td>\n",
              "      <td>1.0</td>\n",
              "    </tr>\n",
              "  </tbody>\n",
              "</table>\n",
              "</div>\n",
              "      <button class=\"colab-df-convert\" onclick=\"convertToInteractive('df-574ca988-f2fe-4419-b474-701a2fc70011')\"\n",
              "              title=\"Convert this dataframe to an interactive table.\"\n",
              "              style=\"display:none;\">\n",
              "        \n",
              "  <svg xmlns=\"http://www.w3.org/2000/svg\" height=\"24px\"viewBox=\"0 0 24 24\"\n",
              "       width=\"24px\">\n",
              "    <path d=\"M0 0h24v24H0V0z\" fill=\"none\"/>\n",
              "    <path d=\"M18.56 5.44l.94 2.06.94-2.06 2.06-.94-2.06-.94-.94-2.06-.94 2.06-2.06.94zm-11 1L8.5 8.5l.94-2.06 2.06-.94-2.06-.94L8.5 2.5l-.94 2.06-2.06.94zm10 10l.94 2.06.94-2.06 2.06-.94-2.06-.94-.94-2.06-.94 2.06-2.06.94z\"/><path d=\"M17.41 7.96l-1.37-1.37c-.4-.4-.92-.59-1.43-.59-.52 0-1.04.2-1.43.59L10.3 9.45l-7.72 7.72c-.78.78-.78 2.05 0 2.83L4 21.41c.39.39.9.59 1.41.59.51 0 1.02-.2 1.41-.59l7.78-7.78 2.81-2.81c.8-.78.8-2.07 0-2.86zM5.41 20L4 18.59l7.72-7.72 1.47 1.35L5.41 20z\"/>\n",
              "  </svg>\n",
              "      </button>\n",
              "      \n",
              "  <style>\n",
              "    .colab-df-container {\n",
              "      display:flex;\n",
              "      flex-wrap:wrap;\n",
              "      gap: 12px;\n",
              "    }\n",
              "\n",
              "    .colab-df-convert {\n",
              "      background-color: #E8F0FE;\n",
              "      border: none;\n",
              "      border-radius: 50%;\n",
              "      cursor: pointer;\n",
              "      display: none;\n",
              "      fill: #1967D2;\n",
              "      height: 32px;\n",
              "      padding: 0 0 0 0;\n",
              "      width: 32px;\n",
              "    }\n",
              "\n",
              "    .colab-df-convert:hover {\n",
              "      background-color: #E2EBFA;\n",
              "      box-shadow: 0px 1px 2px rgba(60, 64, 67, 0.3), 0px 1px 3px 1px rgba(60, 64, 67, 0.15);\n",
              "      fill: #174EA6;\n",
              "    }\n",
              "\n",
              "    [theme=dark] .colab-df-convert {\n",
              "      background-color: #3B4455;\n",
              "      fill: #D2E3FC;\n",
              "    }\n",
              "\n",
              "    [theme=dark] .colab-df-convert:hover {\n",
              "      background-color: #434B5C;\n",
              "      box-shadow: 0px 1px 3px 1px rgba(0, 0, 0, 0.15);\n",
              "      filter: drop-shadow(0px 1px 2px rgba(0, 0, 0, 0.3));\n",
              "      fill: #FFFFFF;\n",
              "    }\n",
              "  </style>\n",
              "\n",
              "      <script>\n",
              "        const buttonEl =\n",
              "          document.querySelector('#df-574ca988-f2fe-4419-b474-701a2fc70011 button.colab-df-convert');\n",
              "        buttonEl.style.display =\n",
              "          google.colab.kernel.accessAllowed ? 'block' : 'none';\n",
              "\n",
              "        async function convertToInteractive(key) {\n",
              "          const element = document.querySelector('#df-574ca988-f2fe-4419-b474-701a2fc70011');\n",
              "          const dataTable =\n",
              "            await google.colab.kernel.invokeFunction('convertToInteractive',\n",
              "                                                     [key], {});\n",
              "          if (!dataTable) return;\n",
              "\n",
              "          const docLinkHtml = 'Like what you see? Visit the ' +\n",
              "            '<a target=\"_blank\" href=https://colab.research.google.com/notebooks/data_table.ipynb>data table notebook</a>'\n",
              "            + ' to learn more about interactive tables.';\n",
              "          element.innerHTML = '';\n",
              "          dataTable['output_type'] = 'display_data';\n",
              "          await google.colab.output.renderOutput(dataTable, element);\n",
              "          const docLink = document.createElement('div');\n",
              "          docLink.innerHTML = docLinkHtml;\n",
              "          element.appendChild(docLink);\n",
              "        }\n",
              "      </script>\n",
              "    </div>\n",
              "  </div>\n",
              "  "
            ]
          },
          "metadata": {},
          "execution_count": 558
        }
      ]
    },
    {
      "cell_type": "code",
      "source": [
        "df3_train.head()"
      ],
      "metadata": {
        "colab": {
          "base_uri": "https://localhost:8080/",
          "height": 206
        },
        "id": "A1NOYE9B2LpT",
        "outputId": "92995c24-973f-419d-c938-390e570eddd9"
      },
      "execution_count": 559,
      "outputs": [
        {
          "output_type": "execute_result",
          "data": {
            "text/plain": [
              "   -3.182181156462917215e+00  1.966440828370777494e+00  \\\n",
              "0                   0.245498                  1.287367   \n",
              "1                   0.480500                  0.785206   \n",
              "2                   0.338015                 -0.906211   \n",
              "3                   0.396452                  1.345380   \n",
              "4                   0.179873                  0.277002   \n",
              "\n",
              "   1.000000000000000000e+00  \n",
              "0                       2.0  \n",
              "1                       2.0  \n",
              "2                       1.0  \n",
              "3                       2.0  \n",
              "4                       2.0  "
            ],
            "text/html": [
              "\n",
              "  <div id=\"df-addf5601-6245-4d56-8d15-09b1c7a27dd6\">\n",
              "    <div class=\"colab-df-container\">\n",
              "      <div>\n",
              "<style scoped>\n",
              "    .dataframe tbody tr th:only-of-type {\n",
              "        vertical-align: middle;\n",
              "    }\n",
              "\n",
              "    .dataframe tbody tr th {\n",
              "        vertical-align: top;\n",
              "    }\n",
              "\n",
              "    .dataframe thead th {\n",
              "        text-align: right;\n",
              "    }\n",
              "</style>\n",
              "<table border=\"1\" class=\"dataframe\">\n",
              "  <thead>\n",
              "    <tr style=\"text-align: right;\">\n",
              "      <th></th>\n",
              "      <th>-3.182181156462917215e+00</th>\n",
              "      <th>1.966440828370777494e+00</th>\n",
              "      <th>1.000000000000000000e+00</th>\n",
              "    </tr>\n",
              "  </thead>\n",
              "  <tbody>\n",
              "    <tr>\n",
              "      <th>0</th>\n",
              "      <td>0.245498</td>\n",
              "      <td>1.287367</td>\n",
              "      <td>2.0</td>\n",
              "    </tr>\n",
              "    <tr>\n",
              "      <th>1</th>\n",
              "      <td>0.480500</td>\n",
              "      <td>0.785206</td>\n",
              "      <td>2.0</td>\n",
              "    </tr>\n",
              "    <tr>\n",
              "      <th>2</th>\n",
              "      <td>0.338015</td>\n",
              "      <td>-0.906211</td>\n",
              "      <td>1.0</td>\n",
              "    </tr>\n",
              "    <tr>\n",
              "      <th>3</th>\n",
              "      <td>0.396452</td>\n",
              "      <td>1.345380</td>\n",
              "      <td>2.0</td>\n",
              "    </tr>\n",
              "    <tr>\n",
              "      <th>4</th>\n",
              "      <td>0.179873</td>\n",
              "      <td>0.277002</td>\n",
              "      <td>2.0</td>\n",
              "    </tr>\n",
              "  </tbody>\n",
              "</table>\n",
              "</div>\n",
              "      <button class=\"colab-df-convert\" onclick=\"convertToInteractive('df-addf5601-6245-4d56-8d15-09b1c7a27dd6')\"\n",
              "              title=\"Convert this dataframe to an interactive table.\"\n",
              "              style=\"display:none;\">\n",
              "        \n",
              "  <svg xmlns=\"http://www.w3.org/2000/svg\" height=\"24px\"viewBox=\"0 0 24 24\"\n",
              "       width=\"24px\">\n",
              "    <path d=\"M0 0h24v24H0V0z\" fill=\"none\"/>\n",
              "    <path d=\"M18.56 5.44l.94 2.06.94-2.06 2.06-.94-2.06-.94-.94-2.06-.94 2.06-2.06.94zm-11 1L8.5 8.5l.94-2.06 2.06-.94-2.06-.94L8.5 2.5l-.94 2.06-2.06.94zm10 10l.94 2.06.94-2.06 2.06-.94-2.06-.94-.94-2.06-.94 2.06-2.06.94z\"/><path d=\"M17.41 7.96l-1.37-1.37c-.4-.4-.92-.59-1.43-.59-.52 0-1.04.2-1.43.59L10.3 9.45l-7.72 7.72c-.78.78-.78 2.05 0 2.83L4 21.41c.39.39.9.59 1.41.59.51 0 1.02-.2 1.41-.59l7.78-7.78 2.81-2.81c.8-.78.8-2.07 0-2.86zM5.41 20L4 18.59l7.72-7.72 1.47 1.35L5.41 20z\"/>\n",
              "  </svg>\n",
              "      </button>\n",
              "      \n",
              "  <style>\n",
              "    .colab-df-container {\n",
              "      display:flex;\n",
              "      flex-wrap:wrap;\n",
              "      gap: 12px;\n",
              "    }\n",
              "\n",
              "    .colab-df-convert {\n",
              "      background-color: #E8F0FE;\n",
              "      border: none;\n",
              "      border-radius: 50%;\n",
              "      cursor: pointer;\n",
              "      display: none;\n",
              "      fill: #1967D2;\n",
              "      height: 32px;\n",
              "      padding: 0 0 0 0;\n",
              "      width: 32px;\n",
              "    }\n",
              "\n",
              "    .colab-df-convert:hover {\n",
              "      background-color: #E2EBFA;\n",
              "      box-shadow: 0px 1px 2px rgba(60, 64, 67, 0.3), 0px 1px 3px 1px rgba(60, 64, 67, 0.15);\n",
              "      fill: #174EA6;\n",
              "    }\n",
              "\n",
              "    [theme=dark] .colab-df-convert {\n",
              "      background-color: #3B4455;\n",
              "      fill: #D2E3FC;\n",
              "    }\n",
              "\n",
              "    [theme=dark] .colab-df-convert:hover {\n",
              "      background-color: #434B5C;\n",
              "      box-shadow: 0px 1px 3px 1px rgba(0, 0, 0, 0.15);\n",
              "      filter: drop-shadow(0px 1px 2px rgba(0, 0, 0, 0.3));\n",
              "      fill: #FFFFFF;\n",
              "    }\n",
              "  </style>\n",
              "\n",
              "      <script>\n",
              "        const buttonEl =\n",
              "          document.querySelector('#df-addf5601-6245-4d56-8d15-09b1c7a27dd6 button.colab-df-convert');\n",
              "        buttonEl.style.display =\n",
              "          google.colab.kernel.accessAllowed ? 'block' : 'none';\n",
              "\n",
              "        async function convertToInteractive(key) {\n",
              "          const element = document.querySelector('#df-addf5601-6245-4d56-8d15-09b1c7a27dd6');\n",
              "          const dataTable =\n",
              "            await google.colab.kernel.invokeFunction('convertToInteractive',\n",
              "                                                     [key], {});\n",
              "          if (!dataTable) return;\n",
              "\n",
              "          const docLinkHtml = 'Like what you see? Visit the ' +\n",
              "            '<a target=\"_blank\" href=https://colab.research.google.com/notebooks/data_table.ipynb>data table notebook</a>'\n",
              "            + ' to learn more about interactive tables.';\n",
              "          element.innerHTML = '';\n",
              "          dataTable['output_type'] = 'display_data';\n",
              "          await google.colab.output.renderOutput(dataTable, element);\n",
              "          const docLink = document.createElement('div');\n",
              "          docLink.innerHTML = docLinkHtml;\n",
              "          element.appendChild(docLink);\n",
              "        }\n",
              "      </script>\n",
              "    </div>\n",
              "  </div>\n",
              "  "
            ]
          },
          "metadata": {},
          "execution_count": 559
        }
      ]
    },
    {
      "cell_type": "markdown",
      "source": [
        "Displaying statistical information of the datasets:"
      ],
      "metadata": {
        "id": "v38-zGy8rOo3"
      }
    },
    {
      "cell_type": "code",
      "source": [
        "df1_train.describe()"
      ],
      "metadata": {
        "colab": {
          "base_uri": "https://localhost:8080/",
          "height": 300
        },
        "id": "rDSfW9Cf2amk",
        "outputId": "05fc1a73-e3e8-4a45-9e4f-65e5186bb3c8"
      },
      "execution_count": 560,
      "outputs": [
        {
          "output_type": "execute_result",
          "data": {
            "text/plain": [
              "       2.199291318455960820e+00  3.690399294158712706e+00  \\\n",
              "count                 99.000000                 99.000000   \n",
              "mean                   0.548602                  0.523083   \n",
              "std                    1.171185                  1.151679   \n",
              "min                   -2.292968                 -2.565868   \n",
              "25%                   -0.281355                 -0.203310   \n",
              "50%                    0.559263                  0.592935   \n",
              "75%                    1.360165                  1.362689   \n",
              "max                    3.447650                  3.283017   \n",
              "\n",
              "       1.000000000000000000e+00  \n",
              "count                 99.000000  \n",
              "mean                   1.505051  \n",
              "std                    0.502519  \n",
              "min                    1.000000  \n",
              "25%                    1.000000  \n",
              "50%                    2.000000  \n",
              "75%                    2.000000  \n",
              "max                    2.000000  "
            ],
            "text/html": [
              "\n",
              "  <div id=\"df-c73eeed2-cc35-4b19-a93a-0399091259f4\">\n",
              "    <div class=\"colab-df-container\">\n",
              "      <div>\n",
              "<style scoped>\n",
              "    .dataframe tbody tr th:only-of-type {\n",
              "        vertical-align: middle;\n",
              "    }\n",
              "\n",
              "    .dataframe tbody tr th {\n",
              "        vertical-align: top;\n",
              "    }\n",
              "\n",
              "    .dataframe thead th {\n",
              "        text-align: right;\n",
              "    }\n",
              "</style>\n",
              "<table border=\"1\" class=\"dataframe\">\n",
              "  <thead>\n",
              "    <tr style=\"text-align: right;\">\n",
              "      <th></th>\n",
              "      <th>2.199291318455960820e+00</th>\n",
              "      <th>3.690399294158712706e+00</th>\n",
              "      <th>1.000000000000000000e+00</th>\n",
              "    </tr>\n",
              "  </thead>\n",
              "  <tbody>\n",
              "    <tr>\n",
              "      <th>count</th>\n",
              "      <td>99.000000</td>\n",
              "      <td>99.000000</td>\n",
              "      <td>99.000000</td>\n",
              "    </tr>\n",
              "    <tr>\n",
              "      <th>mean</th>\n",
              "      <td>0.548602</td>\n",
              "      <td>0.523083</td>\n",
              "      <td>1.505051</td>\n",
              "    </tr>\n",
              "    <tr>\n",
              "      <th>std</th>\n",
              "      <td>1.171185</td>\n",
              "      <td>1.151679</td>\n",
              "      <td>0.502519</td>\n",
              "    </tr>\n",
              "    <tr>\n",
              "      <th>min</th>\n",
              "      <td>-2.292968</td>\n",
              "      <td>-2.565868</td>\n",
              "      <td>1.000000</td>\n",
              "    </tr>\n",
              "    <tr>\n",
              "      <th>25%</th>\n",
              "      <td>-0.281355</td>\n",
              "      <td>-0.203310</td>\n",
              "      <td>1.000000</td>\n",
              "    </tr>\n",
              "    <tr>\n",
              "      <th>50%</th>\n",
              "      <td>0.559263</td>\n",
              "      <td>0.592935</td>\n",
              "      <td>2.000000</td>\n",
              "    </tr>\n",
              "    <tr>\n",
              "      <th>75%</th>\n",
              "      <td>1.360165</td>\n",
              "      <td>1.362689</td>\n",
              "      <td>2.000000</td>\n",
              "    </tr>\n",
              "    <tr>\n",
              "      <th>max</th>\n",
              "      <td>3.447650</td>\n",
              "      <td>3.283017</td>\n",
              "      <td>2.000000</td>\n",
              "    </tr>\n",
              "  </tbody>\n",
              "</table>\n",
              "</div>\n",
              "      <button class=\"colab-df-convert\" onclick=\"convertToInteractive('df-c73eeed2-cc35-4b19-a93a-0399091259f4')\"\n",
              "              title=\"Convert this dataframe to an interactive table.\"\n",
              "              style=\"display:none;\">\n",
              "        \n",
              "  <svg xmlns=\"http://www.w3.org/2000/svg\" height=\"24px\"viewBox=\"0 0 24 24\"\n",
              "       width=\"24px\">\n",
              "    <path d=\"M0 0h24v24H0V0z\" fill=\"none\"/>\n",
              "    <path d=\"M18.56 5.44l.94 2.06.94-2.06 2.06-.94-2.06-.94-.94-2.06-.94 2.06-2.06.94zm-11 1L8.5 8.5l.94-2.06 2.06-.94-2.06-.94L8.5 2.5l-.94 2.06-2.06.94zm10 10l.94 2.06.94-2.06 2.06-.94-2.06-.94-.94-2.06-.94 2.06-2.06.94z\"/><path d=\"M17.41 7.96l-1.37-1.37c-.4-.4-.92-.59-1.43-.59-.52 0-1.04.2-1.43.59L10.3 9.45l-7.72 7.72c-.78.78-.78 2.05 0 2.83L4 21.41c.39.39.9.59 1.41.59.51 0 1.02-.2 1.41-.59l7.78-7.78 2.81-2.81c.8-.78.8-2.07 0-2.86zM5.41 20L4 18.59l7.72-7.72 1.47 1.35L5.41 20z\"/>\n",
              "  </svg>\n",
              "      </button>\n",
              "      \n",
              "  <style>\n",
              "    .colab-df-container {\n",
              "      display:flex;\n",
              "      flex-wrap:wrap;\n",
              "      gap: 12px;\n",
              "    }\n",
              "\n",
              "    .colab-df-convert {\n",
              "      background-color: #E8F0FE;\n",
              "      border: none;\n",
              "      border-radius: 50%;\n",
              "      cursor: pointer;\n",
              "      display: none;\n",
              "      fill: #1967D2;\n",
              "      height: 32px;\n",
              "      padding: 0 0 0 0;\n",
              "      width: 32px;\n",
              "    }\n",
              "\n",
              "    .colab-df-convert:hover {\n",
              "      background-color: #E2EBFA;\n",
              "      box-shadow: 0px 1px 2px rgba(60, 64, 67, 0.3), 0px 1px 3px 1px rgba(60, 64, 67, 0.15);\n",
              "      fill: #174EA6;\n",
              "    }\n",
              "\n",
              "    [theme=dark] .colab-df-convert {\n",
              "      background-color: #3B4455;\n",
              "      fill: #D2E3FC;\n",
              "    }\n",
              "\n",
              "    [theme=dark] .colab-df-convert:hover {\n",
              "      background-color: #434B5C;\n",
              "      box-shadow: 0px 1px 3px 1px rgba(0, 0, 0, 0.15);\n",
              "      filter: drop-shadow(0px 1px 2px rgba(0, 0, 0, 0.3));\n",
              "      fill: #FFFFFF;\n",
              "    }\n",
              "  </style>\n",
              "\n",
              "      <script>\n",
              "        const buttonEl =\n",
              "          document.querySelector('#df-c73eeed2-cc35-4b19-a93a-0399091259f4 button.colab-df-convert');\n",
              "        buttonEl.style.display =\n",
              "          google.colab.kernel.accessAllowed ? 'block' : 'none';\n",
              "\n",
              "        async function convertToInteractive(key) {\n",
              "          const element = document.querySelector('#df-c73eeed2-cc35-4b19-a93a-0399091259f4');\n",
              "          const dataTable =\n",
              "            await google.colab.kernel.invokeFunction('convertToInteractive',\n",
              "                                                     [key], {});\n",
              "          if (!dataTable) return;\n",
              "\n",
              "          const docLinkHtml = 'Like what you see? Visit the ' +\n",
              "            '<a target=\"_blank\" href=https://colab.research.google.com/notebooks/data_table.ipynb>data table notebook</a>'\n",
              "            + ' to learn more about interactive tables.';\n",
              "          element.innerHTML = '';\n",
              "          dataTable['output_type'] = 'display_data';\n",
              "          await google.colab.output.renderOutput(dataTable, element);\n",
              "          const docLink = document.createElement('div');\n",
              "          docLink.innerHTML = docLinkHtml;\n",
              "          element.appendChild(docLink);\n",
              "        }\n",
              "      </script>\n",
              "    </div>\n",
              "  </div>\n",
              "  "
            ]
          },
          "metadata": {},
          "execution_count": 560
        }
      ]
    },
    {
      "cell_type": "code",
      "source": [
        "df1_train.info()"
      ],
      "metadata": {
        "colab": {
          "base_uri": "https://localhost:8080/"
        },
        "id": "jdtl3cN_2qo9",
        "outputId": "9f26afca-9fba-4b72-f082-862c7bddd48a"
      },
      "execution_count": 561,
      "outputs": [
        {
          "output_type": "stream",
          "name": "stdout",
          "text": [
            "<class 'pandas.core.frame.DataFrame'>\n",
            "RangeIndex: 99 entries, 0 to 98\n",
            "Data columns (total 3 columns):\n",
            " #   Column                    Non-Null Count  Dtype  \n",
            "---  ------                    --------------  -----  \n",
            " 0   2.199291318455960820e+00  99 non-null     float64\n",
            " 1   3.690399294158712706e+00  99 non-null     float64\n",
            " 2   1.000000000000000000e+00  99 non-null     float64\n",
            "dtypes: float64(3)\n",
            "memory usage: 2.4 KB\n"
          ]
        }
      ]
    },
    {
      "cell_type": "code",
      "source": [
        "df1_test.info()"
      ],
      "metadata": {
        "colab": {
          "base_uri": "https://localhost:8080/"
        },
        "id": "-HcL7R1F2tYk",
        "outputId": "7a0f6abc-2d31-464d-e669-1e4fc6dd42e6"
      },
      "execution_count": 562,
      "outputs": [
        {
          "output_type": "stream",
          "name": "stdout",
          "text": [
            "<class 'pandas.core.frame.DataFrame'>\n",
            "RangeIndex: 99 entries, 0 to 98\n",
            "Data columns (total 3 columns):\n",
            " #   Column                    Non-Null Count  Dtype  \n",
            "---  ------                    --------------  -----  \n",
            " 0   1.226844523717489865e+00  99 non-null     float64\n",
            " 1   2.737906870864166842e-01  99 non-null     float64\n",
            " 2   2.000000000000000000e+00  99 non-null     float64\n",
            "dtypes: float64(3)\n",
            "memory usage: 2.4 KB\n"
          ]
        }
      ]
    },
    {
      "cell_type": "code",
      "source": [
        "df1_test.describe()"
      ],
      "metadata": {
        "colab": {
          "base_uri": "https://localhost:8080/",
          "height": 300
        },
        "id": "R86tKThT2tQz",
        "outputId": "45f5993c-1bfc-41c6-8d86-8f051072bb09"
      },
      "execution_count": 563,
      "outputs": [
        {
          "output_type": "execute_result",
          "data": {
            "text/plain": [
              "       1.226844523717489865e+00  2.737906870864166842e-01  \\\n",
              "count                 99.000000                 99.000000   \n",
              "mean                   0.497148                  0.501499   \n",
              "std                    1.103996                  1.225549   \n",
              "min                   -1.806468                 -2.268844   \n",
              "25%                   -0.323696                 -0.228264   \n",
              "50%                    0.508559                  0.471312   \n",
              "75%                    1.190355                  1.335118   \n",
              "max                    2.866262                  3.029122   \n",
              "\n",
              "       2.000000000000000000e+00  \n",
              "count                 99.000000  \n",
              "mean                   1.494949  \n",
              "std                    0.502519  \n",
              "min                    1.000000  \n",
              "25%                    1.000000  \n",
              "50%                    1.000000  \n",
              "75%                    2.000000  \n",
              "max                    2.000000  "
            ],
            "text/html": [
              "\n",
              "  <div id=\"df-5147bbfe-af11-465d-956e-d2f0588c12cf\">\n",
              "    <div class=\"colab-df-container\">\n",
              "      <div>\n",
              "<style scoped>\n",
              "    .dataframe tbody tr th:only-of-type {\n",
              "        vertical-align: middle;\n",
              "    }\n",
              "\n",
              "    .dataframe tbody tr th {\n",
              "        vertical-align: top;\n",
              "    }\n",
              "\n",
              "    .dataframe thead th {\n",
              "        text-align: right;\n",
              "    }\n",
              "</style>\n",
              "<table border=\"1\" class=\"dataframe\">\n",
              "  <thead>\n",
              "    <tr style=\"text-align: right;\">\n",
              "      <th></th>\n",
              "      <th>1.226844523717489865e+00</th>\n",
              "      <th>2.737906870864166842e-01</th>\n",
              "      <th>2.000000000000000000e+00</th>\n",
              "    </tr>\n",
              "  </thead>\n",
              "  <tbody>\n",
              "    <tr>\n",
              "      <th>count</th>\n",
              "      <td>99.000000</td>\n",
              "      <td>99.000000</td>\n",
              "      <td>99.000000</td>\n",
              "    </tr>\n",
              "    <tr>\n",
              "      <th>mean</th>\n",
              "      <td>0.497148</td>\n",
              "      <td>0.501499</td>\n",
              "      <td>1.494949</td>\n",
              "    </tr>\n",
              "    <tr>\n",
              "      <th>std</th>\n",
              "      <td>1.103996</td>\n",
              "      <td>1.225549</td>\n",
              "      <td>0.502519</td>\n",
              "    </tr>\n",
              "    <tr>\n",
              "      <th>min</th>\n",
              "      <td>-1.806468</td>\n",
              "      <td>-2.268844</td>\n",
              "      <td>1.000000</td>\n",
              "    </tr>\n",
              "    <tr>\n",
              "      <th>25%</th>\n",
              "      <td>-0.323696</td>\n",
              "      <td>-0.228264</td>\n",
              "      <td>1.000000</td>\n",
              "    </tr>\n",
              "    <tr>\n",
              "      <th>50%</th>\n",
              "      <td>0.508559</td>\n",
              "      <td>0.471312</td>\n",
              "      <td>1.000000</td>\n",
              "    </tr>\n",
              "    <tr>\n",
              "      <th>75%</th>\n",
              "      <td>1.190355</td>\n",
              "      <td>1.335118</td>\n",
              "      <td>2.000000</td>\n",
              "    </tr>\n",
              "    <tr>\n",
              "      <th>max</th>\n",
              "      <td>2.866262</td>\n",
              "      <td>3.029122</td>\n",
              "      <td>2.000000</td>\n",
              "    </tr>\n",
              "  </tbody>\n",
              "</table>\n",
              "</div>\n",
              "      <button class=\"colab-df-convert\" onclick=\"convertToInteractive('df-5147bbfe-af11-465d-956e-d2f0588c12cf')\"\n",
              "              title=\"Convert this dataframe to an interactive table.\"\n",
              "              style=\"display:none;\">\n",
              "        \n",
              "  <svg xmlns=\"http://www.w3.org/2000/svg\" height=\"24px\"viewBox=\"0 0 24 24\"\n",
              "       width=\"24px\">\n",
              "    <path d=\"M0 0h24v24H0V0z\" fill=\"none\"/>\n",
              "    <path d=\"M18.56 5.44l.94 2.06.94-2.06 2.06-.94-2.06-.94-.94-2.06-.94 2.06-2.06.94zm-11 1L8.5 8.5l.94-2.06 2.06-.94-2.06-.94L8.5 2.5l-.94 2.06-2.06.94zm10 10l.94 2.06.94-2.06 2.06-.94-2.06-.94-.94-2.06-.94 2.06-2.06.94z\"/><path d=\"M17.41 7.96l-1.37-1.37c-.4-.4-.92-.59-1.43-.59-.52 0-1.04.2-1.43.59L10.3 9.45l-7.72 7.72c-.78.78-.78 2.05 0 2.83L4 21.41c.39.39.9.59 1.41.59.51 0 1.02-.2 1.41-.59l7.78-7.78 2.81-2.81c.8-.78.8-2.07 0-2.86zM5.41 20L4 18.59l7.72-7.72 1.47 1.35L5.41 20z\"/>\n",
              "  </svg>\n",
              "      </button>\n",
              "      \n",
              "  <style>\n",
              "    .colab-df-container {\n",
              "      display:flex;\n",
              "      flex-wrap:wrap;\n",
              "      gap: 12px;\n",
              "    }\n",
              "\n",
              "    .colab-df-convert {\n",
              "      background-color: #E8F0FE;\n",
              "      border: none;\n",
              "      border-radius: 50%;\n",
              "      cursor: pointer;\n",
              "      display: none;\n",
              "      fill: #1967D2;\n",
              "      height: 32px;\n",
              "      padding: 0 0 0 0;\n",
              "      width: 32px;\n",
              "    }\n",
              "\n",
              "    .colab-df-convert:hover {\n",
              "      background-color: #E2EBFA;\n",
              "      box-shadow: 0px 1px 2px rgba(60, 64, 67, 0.3), 0px 1px 3px 1px rgba(60, 64, 67, 0.15);\n",
              "      fill: #174EA6;\n",
              "    }\n",
              "\n",
              "    [theme=dark] .colab-df-convert {\n",
              "      background-color: #3B4455;\n",
              "      fill: #D2E3FC;\n",
              "    }\n",
              "\n",
              "    [theme=dark] .colab-df-convert:hover {\n",
              "      background-color: #434B5C;\n",
              "      box-shadow: 0px 1px 3px 1px rgba(0, 0, 0, 0.15);\n",
              "      filter: drop-shadow(0px 1px 2px rgba(0, 0, 0, 0.3));\n",
              "      fill: #FFFFFF;\n",
              "    }\n",
              "  </style>\n",
              "\n",
              "      <script>\n",
              "        const buttonEl =\n",
              "          document.querySelector('#df-5147bbfe-af11-465d-956e-d2f0588c12cf button.colab-df-convert');\n",
              "        buttonEl.style.display =\n",
              "          google.colab.kernel.accessAllowed ? 'block' : 'none';\n",
              "\n",
              "        async function convertToInteractive(key) {\n",
              "          const element = document.querySelector('#df-5147bbfe-af11-465d-956e-d2f0588c12cf');\n",
              "          const dataTable =\n",
              "            await google.colab.kernel.invokeFunction('convertToInteractive',\n",
              "                                                     [key], {});\n",
              "          if (!dataTable) return;\n",
              "\n",
              "          const docLinkHtml = 'Like what you see? Visit the ' +\n",
              "            '<a target=\"_blank\" href=https://colab.research.google.com/notebooks/data_table.ipynb>data table notebook</a>'\n",
              "            + ' to learn more about interactive tables.';\n",
              "          element.innerHTML = '';\n",
              "          dataTable['output_type'] = 'display_data';\n",
              "          await google.colab.output.renderOutput(dataTable, element);\n",
              "          const docLink = document.createElement('div');\n",
              "          docLink.innerHTML = docLinkHtml;\n",
              "          element.appendChild(docLink);\n",
              "        }\n",
              "      </script>\n",
              "    </div>\n",
              "  </div>\n",
              "  "
            ]
          },
          "metadata": {},
          "execution_count": 563
        }
      ]
    },
    {
      "cell_type": "code",
      "source": [
        "df2_train.info()"
      ],
      "metadata": {
        "colab": {
          "base_uri": "https://localhost:8080/"
        },
        "id": "MONSciSF2tNY",
        "outputId": "53517d5e-6f08-464b-df5d-209be5c56123"
      },
      "execution_count": 564,
      "outputs": [
        {
          "output_type": "stream",
          "name": "stdout",
          "text": [
            "<class 'pandas.core.frame.DataFrame'>\n",
            "RangeIndex: 99 entries, 0 to 98\n",
            "Data columns (total 3 columns):\n",
            " #   Column                    Non-Null Count  Dtype  \n",
            "---  ------                    --------------  -----  \n",
            " 0   4.936546812986483124e-01  99 non-null     float64\n",
            " 1   9.059484132037098902e-01  99 non-null     float64\n",
            " 2   1.000000000000000000e+00  99 non-null     float64\n",
            "dtypes: float64(3)\n",
            "memory usage: 2.4 KB\n"
          ]
        }
      ]
    },
    {
      "cell_type": "code",
      "source": [
        "df2_train.describe()"
      ],
      "metadata": {
        "colab": {
          "base_uri": "https://localhost:8080/",
          "height": 300
        },
        "id": "f9pw7dfr2tKi",
        "outputId": "74252e02-9550-4d21-ce24-2d2419471a9e"
      },
      "execution_count": 565,
      "outputs": [
        {
          "output_type": "execute_result",
          "data": {
            "text/plain": [
              "       4.936546812986483124e-01  9.059484132037098902e-01  \\\n",
              "count                 99.000000                 99.000000   \n",
              "mean                   0.339926                  0.474754   \n",
              "std                    1.312513                  0.536922   \n",
              "min                   -3.618054                 -0.494060   \n",
              "25%                   -0.559349                 -0.016009   \n",
              "50%                    0.294120                  0.207284   \n",
              "75%                    1.310090                  1.018522   \n",
              "max                    2.904524                  1.221371   \n",
              "\n",
              "       1.000000000000000000e+00  \n",
              "count                 99.000000  \n",
              "mean                   1.505051  \n",
              "std                    0.502519  \n",
              "min                    1.000000  \n",
              "25%                    1.000000  \n",
              "50%                    2.000000  \n",
              "75%                    2.000000  \n",
              "max                    2.000000  "
            ],
            "text/html": [
              "\n",
              "  <div id=\"df-05ff39ad-19d9-4a6d-ac6b-8637222e463f\">\n",
              "    <div class=\"colab-df-container\">\n",
              "      <div>\n",
              "<style scoped>\n",
              "    .dataframe tbody tr th:only-of-type {\n",
              "        vertical-align: middle;\n",
              "    }\n",
              "\n",
              "    .dataframe tbody tr th {\n",
              "        vertical-align: top;\n",
              "    }\n",
              "\n",
              "    .dataframe thead th {\n",
              "        text-align: right;\n",
              "    }\n",
              "</style>\n",
              "<table border=\"1\" class=\"dataframe\">\n",
              "  <thead>\n",
              "    <tr style=\"text-align: right;\">\n",
              "      <th></th>\n",
              "      <th>4.936546812986483124e-01</th>\n",
              "      <th>9.059484132037098902e-01</th>\n",
              "      <th>1.000000000000000000e+00</th>\n",
              "    </tr>\n",
              "  </thead>\n",
              "  <tbody>\n",
              "    <tr>\n",
              "      <th>count</th>\n",
              "      <td>99.000000</td>\n",
              "      <td>99.000000</td>\n",
              "      <td>99.000000</td>\n",
              "    </tr>\n",
              "    <tr>\n",
              "      <th>mean</th>\n",
              "      <td>0.339926</td>\n",
              "      <td>0.474754</td>\n",
              "      <td>1.505051</td>\n",
              "    </tr>\n",
              "    <tr>\n",
              "      <th>std</th>\n",
              "      <td>1.312513</td>\n",
              "      <td>0.536922</td>\n",
              "      <td>0.502519</td>\n",
              "    </tr>\n",
              "    <tr>\n",
              "      <th>min</th>\n",
              "      <td>-3.618054</td>\n",
              "      <td>-0.494060</td>\n",
              "      <td>1.000000</td>\n",
              "    </tr>\n",
              "    <tr>\n",
              "      <th>25%</th>\n",
              "      <td>-0.559349</td>\n",
              "      <td>-0.016009</td>\n",
              "      <td>1.000000</td>\n",
              "    </tr>\n",
              "    <tr>\n",
              "      <th>50%</th>\n",
              "      <td>0.294120</td>\n",
              "      <td>0.207284</td>\n",
              "      <td>2.000000</td>\n",
              "    </tr>\n",
              "    <tr>\n",
              "      <th>75%</th>\n",
              "      <td>1.310090</td>\n",
              "      <td>1.018522</td>\n",
              "      <td>2.000000</td>\n",
              "    </tr>\n",
              "    <tr>\n",
              "      <th>max</th>\n",
              "      <td>2.904524</td>\n",
              "      <td>1.221371</td>\n",
              "      <td>2.000000</td>\n",
              "    </tr>\n",
              "  </tbody>\n",
              "</table>\n",
              "</div>\n",
              "      <button class=\"colab-df-convert\" onclick=\"convertToInteractive('df-05ff39ad-19d9-4a6d-ac6b-8637222e463f')\"\n",
              "              title=\"Convert this dataframe to an interactive table.\"\n",
              "              style=\"display:none;\">\n",
              "        \n",
              "  <svg xmlns=\"http://www.w3.org/2000/svg\" height=\"24px\"viewBox=\"0 0 24 24\"\n",
              "       width=\"24px\">\n",
              "    <path d=\"M0 0h24v24H0V0z\" fill=\"none\"/>\n",
              "    <path d=\"M18.56 5.44l.94 2.06.94-2.06 2.06-.94-2.06-.94-.94-2.06-.94 2.06-2.06.94zm-11 1L8.5 8.5l.94-2.06 2.06-.94-2.06-.94L8.5 2.5l-.94 2.06-2.06.94zm10 10l.94 2.06.94-2.06 2.06-.94-2.06-.94-.94-2.06-.94 2.06-2.06.94z\"/><path d=\"M17.41 7.96l-1.37-1.37c-.4-.4-.92-.59-1.43-.59-.52 0-1.04.2-1.43.59L10.3 9.45l-7.72 7.72c-.78.78-.78 2.05 0 2.83L4 21.41c.39.39.9.59 1.41.59.51 0 1.02-.2 1.41-.59l7.78-7.78 2.81-2.81c.8-.78.8-2.07 0-2.86zM5.41 20L4 18.59l7.72-7.72 1.47 1.35L5.41 20z\"/>\n",
              "  </svg>\n",
              "      </button>\n",
              "      \n",
              "  <style>\n",
              "    .colab-df-container {\n",
              "      display:flex;\n",
              "      flex-wrap:wrap;\n",
              "      gap: 12px;\n",
              "    }\n",
              "\n",
              "    .colab-df-convert {\n",
              "      background-color: #E8F0FE;\n",
              "      border: none;\n",
              "      border-radius: 50%;\n",
              "      cursor: pointer;\n",
              "      display: none;\n",
              "      fill: #1967D2;\n",
              "      height: 32px;\n",
              "      padding: 0 0 0 0;\n",
              "      width: 32px;\n",
              "    }\n",
              "\n",
              "    .colab-df-convert:hover {\n",
              "      background-color: #E2EBFA;\n",
              "      box-shadow: 0px 1px 2px rgba(60, 64, 67, 0.3), 0px 1px 3px 1px rgba(60, 64, 67, 0.15);\n",
              "      fill: #174EA6;\n",
              "    }\n",
              "\n",
              "    [theme=dark] .colab-df-convert {\n",
              "      background-color: #3B4455;\n",
              "      fill: #D2E3FC;\n",
              "    }\n",
              "\n",
              "    [theme=dark] .colab-df-convert:hover {\n",
              "      background-color: #434B5C;\n",
              "      box-shadow: 0px 1px 3px 1px rgba(0, 0, 0, 0.15);\n",
              "      filter: drop-shadow(0px 1px 2px rgba(0, 0, 0, 0.3));\n",
              "      fill: #FFFFFF;\n",
              "    }\n",
              "  </style>\n",
              "\n",
              "      <script>\n",
              "        const buttonEl =\n",
              "          document.querySelector('#df-05ff39ad-19d9-4a6d-ac6b-8637222e463f button.colab-df-convert');\n",
              "        buttonEl.style.display =\n",
              "          google.colab.kernel.accessAllowed ? 'block' : 'none';\n",
              "\n",
              "        async function convertToInteractive(key) {\n",
              "          const element = document.querySelector('#df-05ff39ad-19d9-4a6d-ac6b-8637222e463f');\n",
              "          const dataTable =\n",
              "            await google.colab.kernel.invokeFunction('convertToInteractive',\n",
              "                                                     [key], {});\n",
              "          if (!dataTable) return;\n",
              "\n",
              "          const docLinkHtml = 'Like what you see? Visit the ' +\n",
              "            '<a target=\"_blank\" href=https://colab.research.google.com/notebooks/data_table.ipynb>data table notebook</a>'\n",
              "            + ' to learn more about interactive tables.';\n",
              "          element.innerHTML = '';\n",
              "          dataTable['output_type'] = 'display_data';\n",
              "          await google.colab.output.renderOutput(dataTable, element);\n",
              "          const docLink = document.createElement('div');\n",
              "          docLink.innerHTML = docLinkHtml;\n",
              "          element.appendChild(docLink);\n",
              "        }\n",
              "      </script>\n",
              "    </div>\n",
              "  </div>\n",
              "  "
            ]
          },
          "metadata": {},
          "execution_count": 565
        }
      ]
    },
    {
      "cell_type": "code",
      "source": [
        "df2_test.info()"
      ],
      "metadata": {
        "colab": {
          "base_uri": "https://localhost:8080/"
        },
        "id": "0gA-1X_L2tHF",
        "outputId": "b19a55db-cc24-47c4-b558-60fc1b0a5a5a"
      },
      "execution_count": 566,
      "outputs": [
        {
          "output_type": "stream",
          "name": "stdout",
          "text": [
            "<class 'pandas.core.frame.DataFrame'>\n",
            "RangeIndex: 99 entries, 0 to 98\n",
            "Data columns (total 3 columns):\n",
            " #   Column                     Non-Null Count  Dtype  \n",
            "---  ------                     --------------  -----  \n",
            " 0   -7.004360146863475300e-02  99 non-null     float64\n",
            " 1   -1.184574247464941360e-01  99 non-null     float64\n",
            " 2   2.000000000000000000e+00   99 non-null     float64\n",
            "dtypes: float64(3)\n",
            "memory usage: 2.4 KB\n"
          ]
        }
      ]
    },
    {
      "cell_type": "code",
      "source": [
        "df2_test.describe()"
      ],
      "metadata": {
        "colab": {
          "base_uri": "https://localhost:8080/",
          "height": 300
        },
        "id": "_dXWXw5R2s_M",
        "outputId": "c79c55e7-5777-4696-b631-0b8dad4176fa"
      },
      "execution_count": 567,
      "outputs": [
        {
          "output_type": "execute_result",
          "data": {
            "text/plain": [
              "       -7.004360146863475300e-02  -1.184574247464941360e-01  \\\n",
              "count                  99.000000                  99.000000   \n",
              "mean                    0.525484                   0.525038   \n",
              "std                     1.400118                   0.510716   \n",
              "min                    -2.360086                  -0.272534   \n",
              "25%                    -0.363097                   0.023980   \n",
              "50%                     0.463198                   0.726466   \n",
              "75%                     1.438459                   1.016077   \n",
              "max                     5.342143                   1.318235   \n",
              "\n",
              "       2.000000000000000000e+00  \n",
              "count                 99.000000  \n",
              "mean                   1.494949  \n",
              "std                    0.502519  \n",
              "min                    1.000000  \n",
              "25%                    1.000000  \n",
              "50%                    1.000000  \n",
              "75%                    2.000000  \n",
              "max                    2.000000  "
            ],
            "text/html": [
              "\n",
              "  <div id=\"df-3654f920-32ea-426f-9d65-43fba78bb83c\">\n",
              "    <div class=\"colab-df-container\">\n",
              "      <div>\n",
              "<style scoped>\n",
              "    .dataframe tbody tr th:only-of-type {\n",
              "        vertical-align: middle;\n",
              "    }\n",
              "\n",
              "    .dataframe tbody tr th {\n",
              "        vertical-align: top;\n",
              "    }\n",
              "\n",
              "    .dataframe thead th {\n",
              "        text-align: right;\n",
              "    }\n",
              "</style>\n",
              "<table border=\"1\" class=\"dataframe\">\n",
              "  <thead>\n",
              "    <tr style=\"text-align: right;\">\n",
              "      <th></th>\n",
              "      <th>-7.004360146863475300e-02</th>\n",
              "      <th>-1.184574247464941360e-01</th>\n",
              "      <th>2.000000000000000000e+00</th>\n",
              "    </tr>\n",
              "  </thead>\n",
              "  <tbody>\n",
              "    <tr>\n",
              "      <th>count</th>\n",
              "      <td>99.000000</td>\n",
              "      <td>99.000000</td>\n",
              "      <td>99.000000</td>\n",
              "    </tr>\n",
              "    <tr>\n",
              "      <th>mean</th>\n",
              "      <td>0.525484</td>\n",
              "      <td>0.525038</td>\n",
              "      <td>1.494949</td>\n",
              "    </tr>\n",
              "    <tr>\n",
              "      <th>std</th>\n",
              "      <td>1.400118</td>\n",
              "      <td>0.510716</td>\n",
              "      <td>0.502519</td>\n",
              "    </tr>\n",
              "    <tr>\n",
              "      <th>min</th>\n",
              "      <td>-2.360086</td>\n",
              "      <td>-0.272534</td>\n",
              "      <td>1.000000</td>\n",
              "    </tr>\n",
              "    <tr>\n",
              "      <th>25%</th>\n",
              "      <td>-0.363097</td>\n",
              "      <td>0.023980</td>\n",
              "      <td>1.000000</td>\n",
              "    </tr>\n",
              "    <tr>\n",
              "      <th>50%</th>\n",
              "      <td>0.463198</td>\n",
              "      <td>0.726466</td>\n",
              "      <td>1.000000</td>\n",
              "    </tr>\n",
              "    <tr>\n",
              "      <th>75%</th>\n",
              "      <td>1.438459</td>\n",
              "      <td>1.016077</td>\n",
              "      <td>2.000000</td>\n",
              "    </tr>\n",
              "    <tr>\n",
              "      <th>max</th>\n",
              "      <td>5.342143</td>\n",
              "      <td>1.318235</td>\n",
              "      <td>2.000000</td>\n",
              "    </tr>\n",
              "  </tbody>\n",
              "</table>\n",
              "</div>\n",
              "      <button class=\"colab-df-convert\" onclick=\"convertToInteractive('df-3654f920-32ea-426f-9d65-43fba78bb83c')\"\n",
              "              title=\"Convert this dataframe to an interactive table.\"\n",
              "              style=\"display:none;\">\n",
              "        \n",
              "  <svg xmlns=\"http://www.w3.org/2000/svg\" height=\"24px\"viewBox=\"0 0 24 24\"\n",
              "       width=\"24px\">\n",
              "    <path d=\"M0 0h24v24H0V0z\" fill=\"none\"/>\n",
              "    <path d=\"M18.56 5.44l.94 2.06.94-2.06 2.06-.94-2.06-.94-.94-2.06-.94 2.06-2.06.94zm-11 1L8.5 8.5l.94-2.06 2.06-.94-2.06-.94L8.5 2.5l-.94 2.06-2.06.94zm10 10l.94 2.06.94-2.06 2.06-.94-2.06-.94-.94-2.06-.94 2.06-2.06.94z\"/><path d=\"M17.41 7.96l-1.37-1.37c-.4-.4-.92-.59-1.43-.59-.52 0-1.04.2-1.43.59L10.3 9.45l-7.72 7.72c-.78.78-.78 2.05 0 2.83L4 21.41c.39.39.9.59 1.41.59.51 0 1.02-.2 1.41-.59l7.78-7.78 2.81-2.81c.8-.78.8-2.07 0-2.86zM5.41 20L4 18.59l7.72-7.72 1.47 1.35L5.41 20z\"/>\n",
              "  </svg>\n",
              "      </button>\n",
              "      \n",
              "  <style>\n",
              "    .colab-df-container {\n",
              "      display:flex;\n",
              "      flex-wrap:wrap;\n",
              "      gap: 12px;\n",
              "    }\n",
              "\n",
              "    .colab-df-convert {\n",
              "      background-color: #E8F0FE;\n",
              "      border: none;\n",
              "      border-radius: 50%;\n",
              "      cursor: pointer;\n",
              "      display: none;\n",
              "      fill: #1967D2;\n",
              "      height: 32px;\n",
              "      padding: 0 0 0 0;\n",
              "      width: 32px;\n",
              "    }\n",
              "\n",
              "    .colab-df-convert:hover {\n",
              "      background-color: #E2EBFA;\n",
              "      box-shadow: 0px 1px 2px rgba(60, 64, 67, 0.3), 0px 1px 3px 1px rgba(60, 64, 67, 0.15);\n",
              "      fill: #174EA6;\n",
              "    }\n",
              "\n",
              "    [theme=dark] .colab-df-convert {\n",
              "      background-color: #3B4455;\n",
              "      fill: #D2E3FC;\n",
              "    }\n",
              "\n",
              "    [theme=dark] .colab-df-convert:hover {\n",
              "      background-color: #434B5C;\n",
              "      box-shadow: 0px 1px 3px 1px rgba(0, 0, 0, 0.15);\n",
              "      filter: drop-shadow(0px 1px 2px rgba(0, 0, 0, 0.3));\n",
              "      fill: #FFFFFF;\n",
              "    }\n",
              "  </style>\n",
              "\n",
              "      <script>\n",
              "        const buttonEl =\n",
              "          document.querySelector('#df-3654f920-32ea-426f-9d65-43fba78bb83c button.colab-df-convert');\n",
              "        buttonEl.style.display =\n",
              "          google.colab.kernel.accessAllowed ? 'block' : 'none';\n",
              "\n",
              "        async function convertToInteractive(key) {\n",
              "          const element = document.querySelector('#df-3654f920-32ea-426f-9d65-43fba78bb83c');\n",
              "          const dataTable =\n",
              "            await google.colab.kernel.invokeFunction('convertToInteractive',\n",
              "                                                     [key], {});\n",
              "          if (!dataTable) return;\n",
              "\n",
              "          const docLinkHtml = 'Like what you see? Visit the ' +\n",
              "            '<a target=\"_blank\" href=https://colab.research.google.com/notebooks/data_table.ipynb>data table notebook</a>'\n",
              "            + ' to learn more about interactive tables.';\n",
              "          element.innerHTML = '';\n",
              "          dataTable['output_type'] = 'display_data';\n",
              "          await google.colab.output.renderOutput(dataTable, element);\n",
              "          const docLink = document.createElement('div');\n",
              "          docLink.innerHTML = docLinkHtml;\n",
              "          element.appendChild(docLink);\n",
              "        }\n",
              "      </script>\n",
              "    </div>\n",
              "  </div>\n",
              "  "
            ]
          },
          "metadata": {},
          "execution_count": 567
        }
      ]
    },
    {
      "cell_type": "code",
      "source": [
        "df3_train.info()"
      ],
      "metadata": {
        "colab": {
          "base_uri": "https://localhost:8080/"
        },
        "id": "iFLK4gji3TiF",
        "outputId": "b65949c8-4191-4406-cc22-ba96c1c9a1af"
      },
      "execution_count": 568,
      "outputs": [
        {
          "output_type": "stream",
          "name": "stdout",
          "text": [
            "<class 'pandas.core.frame.DataFrame'>\n",
            "RangeIndex: 99 entries, 0 to 98\n",
            "Data columns (total 3 columns):\n",
            " #   Column                     Non-Null Count  Dtype  \n",
            "---  ------                     --------------  -----  \n",
            " 0   -3.182181156462917215e+00  99 non-null     float64\n",
            " 1   1.966440828370777494e+00   99 non-null     float64\n",
            " 2   1.000000000000000000e+00   99 non-null     float64\n",
            "dtypes: float64(3)\n",
            "memory usage: 2.4 KB\n"
          ]
        }
      ]
    },
    {
      "cell_type": "code",
      "source": [
        "df3_train.describe()"
      ],
      "metadata": {
        "colab": {
          "base_uri": "https://localhost:8080/",
          "height": 300
        },
        "id": "idL0K1P83TaN",
        "outputId": "651fb3b3-cbe9-4b03-9c51-2c295bed0b77"
      },
      "execution_count": 569,
      "outputs": [
        {
          "output_type": "execute_result",
          "data": {
            "text/plain": [
              "       -3.182181156462917215e+00  1.966440828370777494e+00  \\\n",
              "count                  99.000000                 99.000000   \n",
              "mean                    0.261897                  0.558881   \n",
              "std                     1.403009                  1.182601   \n",
              "min                    -4.274687                 -3.211368   \n",
              "25%                    -0.132703                  0.141389   \n",
              "50%                     0.452574                  0.782891   \n",
              "75%                     0.815691                  1.208065   \n",
              "max                     4.185900                  3.601428   \n",
              "\n",
              "       1.000000000000000000e+00  \n",
              "count                 99.000000  \n",
              "mean                   1.505051  \n",
              "std                    0.502519  \n",
              "min                    1.000000  \n",
              "25%                    1.000000  \n",
              "50%                    2.000000  \n",
              "75%                    2.000000  \n",
              "max                    2.000000  "
            ],
            "text/html": [
              "\n",
              "  <div id=\"df-65487b28-f1d7-41fa-a7e6-6f26c2084fb6\">\n",
              "    <div class=\"colab-df-container\">\n",
              "      <div>\n",
              "<style scoped>\n",
              "    .dataframe tbody tr th:only-of-type {\n",
              "        vertical-align: middle;\n",
              "    }\n",
              "\n",
              "    .dataframe tbody tr th {\n",
              "        vertical-align: top;\n",
              "    }\n",
              "\n",
              "    .dataframe thead th {\n",
              "        text-align: right;\n",
              "    }\n",
              "</style>\n",
              "<table border=\"1\" class=\"dataframe\">\n",
              "  <thead>\n",
              "    <tr style=\"text-align: right;\">\n",
              "      <th></th>\n",
              "      <th>-3.182181156462917215e+00</th>\n",
              "      <th>1.966440828370777494e+00</th>\n",
              "      <th>1.000000000000000000e+00</th>\n",
              "    </tr>\n",
              "  </thead>\n",
              "  <tbody>\n",
              "    <tr>\n",
              "      <th>count</th>\n",
              "      <td>99.000000</td>\n",
              "      <td>99.000000</td>\n",
              "      <td>99.000000</td>\n",
              "    </tr>\n",
              "    <tr>\n",
              "      <th>mean</th>\n",
              "      <td>0.261897</td>\n",
              "      <td>0.558881</td>\n",
              "      <td>1.505051</td>\n",
              "    </tr>\n",
              "    <tr>\n",
              "      <th>std</th>\n",
              "      <td>1.403009</td>\n",
              "      <td>1.182601</td>\n",
              "      <td>0.502519</td>\n",
              "    </tr>\n",
              "    <tr>\n",
              "      <th>min</th>\n",
              "      <td>-4.274687</td>\n",
              "      <td>-3.211368</td>\n",
              "      <td>1.000000</td>\n",
              "    </tr>\n",
              "    <tr>\n",
              "      <th>25%</th>\n",
              "      <td>-0.132703</td>\n",
              "      <td>0.141389</td>\n",
              "      <td>1.000000</td>\n",
              "    </tr>\n",
              "    <tr>\n",
              "      <th>50%</th>\n",
              "      <td>0.452574</td>\n",
              "      <td>0.782891</td>\n",
              "      <td>2.000000</td>\n",
              "    </tr>\n",
              "    <tr>\n",
              "      <th>75%</th>\n",
              "      <td>0.815691</td>\n",
              "      <td>1.208065</td>\n",
              "      <td>2.000000</td>\n",
              "    </tr>\n",
              "    <tr>\n",
              "      <th>max</th>\n",
              "      <td>4.185900</td>\n",
              "      <td>3.601428</td>\n",
              "      <td>2.000000</td>\n",
              "    </tr>\n",
              "  </tbody>\n",
              "</table>\n",
              "</div>\n",
              "      <button class=\"colab-df-convert\" onclick=\"convertToInteractive('df-65487b28-f1d7-41fa-a7e6-6f26c2084fb6')\"\n",
              "              title=\"Convert this dataframe to an interactive table.\"\n",
              "              style=\"display:none;\">\n",
              "        \n",
              "  <svg xmlns=\"http://www.w3.org/2000/svg\" height=\"24px\"viewBox=\"0 0 24 24\"\n",
              "       width=\"24px\">\n",
              "    <path d=\"M0 0h24v24H0V0z\" fill=\"none\"/>\n",
              "    <path d=\"M18.56 5.44l.94 2.06.94-2.06 2.06-.94-2.06-.94-.94-2.06-.94 2.06-2.06.94zm-11 1L8.5 8.5l.94-2.06 2.06-.94-2.06-.94L8.5 2.5l-.94 2.06-2.06.94zm10 10l.94 2.06.94-2.06 2.06-.94-2.06-.94-.94-2.06-.94 2.06-2.06.94z\"/><path d=\"M17.41 7.96l-1.37-1.37c-.4-.4-.92-.59-1.43-.59-.52 0-1.04.2-1.43.59L10.3 9.45l-7.72 7.72c-.78.78-.78 2.05 0 2.83L4 21.41c.39.39.9.59 1.41.59.51 0 1.02-.2 1.41-.59l7.78-7.78 2.81-2.81c.8-.78.8-2.07 0-2.86zM5.41 20L4 18.59l7.72-7.72 1.47 1.35L5.41 20z\"/>\n",
              "  </svg>\n",
              "      </button>\n",
              "      \n",
              "  <style>\n",
              "    .colab-df-container {\n",
              "      display:flex;\n",
              "      flex-wrap:wrap;\n",
              "      gap: 12px;\n",
              "    }\n",
              "\n",
              "    .colab-df-convert {\n",
              "      background-color: #E8F0FE;\n",
              "      border: none;\n",
              "      border-radius: 50%;\n",
              "      cursor: pointer;\n",
              "      display: none;\n",
              "      fill: #1967D2;\n",
              "      height: 32px;\n",
              "      padding: 0 0 0 0;\n",
              "      width: 32px;\n",
              "    }\n",
              "\n",
              "    .colab-df-convert:hover {\n",
              "      background-color: #E2EBFA;\n",
              "      box-shadow: 0px 1px 2px rgba(60, 64, 67, 0.3), 0px 1px 3px 1px rgba(60, 64, 67, 0.15);\n",
              "      fill: #174EA6;\n",
              "    }\n",
              "\n",
              "    [theme=dark] .colab-df-convert {\n",
              "      background-color: #3B4455;\n",
              "      fill: #D2E3FC;\n",
              "    }\n",
              "\n",
              "    [theme=dark] .colab-df-convert:hover {\n",
              "      background-color: #434B5C;\n",
              "      box-shadow: 0px 1px 3px 1px rgba(0, 0, 0, 0.15);\n",
              "      filter: drop-shadow(0px 1px 2px rgba(0, 0, 0, 0.3));\n",
              "      fill: #FFFFFF;\n",
              "    }\n",
              "  </style>\n",
              "\n",
              "      <script>\n",
              "        const buttonEl =\n",
              "          document.querySelector('#df-65487b28-f1d7-41fa-a7e6-6f26c2084fb6 button.colab-df-convert');\n",
              "        buttonEl.style.display =\n",
              "          google.colab.kernel.accessAllowed ? 'block' : 'none';\n",
              "\n",
              "        async function convertToInteractive(key) {\n",
              "          const element = document.querySelector('#df-65487b28-f1d7-41fa-a7e6-6f26c2084fb6');\n",
              "          const dataTable =\n",
              "            await google.colab.kernel.invokeFunction('convertToInteractive',\n",
              "                                                     [key], {});\n",
              "          if (!dataTable) return;\n",
              "\n",
              "          const docLinkHtml = 'Like what you see? Visit the ' +\n",
              "            '<a target=\"_blank\" href=https://colab.research.google.com/notebooks/data_table.ipynb>data table notebook</a>'\n",
              "            + ' to learn more about interactive tables.';\n",
              "          element.innerHTML = '';\n",
              "          dataTable['output_type'] = 'display_data';\n",
              "          await google.colab.output.renderOutput(dataTable, element);\n",
              "          const docLink = document.createElement('div');\n",
              "          docLink.innerHTML = docLinkHtml;\n",
              "          element.appendChild(docLink);\n",
              "        }\n",
              "      </script>\n",
              "    </div>\n",
              "  </div>\n",
              "  "
            ]
          },
          "metadata": {},
          "execution_count": 569
        }
      ]
    },
    {
      "cell_type": "code",
      "source": [
        "df3_test.info()"
      ],
      "metadata": {
        "colab": {
          "base_uri": "https://localhost:8080/"
        },
        "id": "FSIvVTKe3ZNe",
        "outputId": "4f7d5a5d-02ab-480e-d1f1-36022be87a93"
      },
      "execution_count": 570,
      "outputs": [
        {
          "output_type": "stream",
          "name": "stdout",
          "text": [
            "<class 'pandas.core.frame.DataFrame'>\n",
            "RangeIndex: 99 entries, 0 to 98\n",
            "Data columns (total 3 columns):\n",
            " #   Column                    Non-Null Count  Dtype  \n",
            "---  ------                    --------------  -----  \n",
            " 0   6.248327246921626665e-01  99 non-null     float64\n",
            " 1   1.394104810933641581e+00  99 non-null     float64\n",
            " 2   2.000000000000000000e+00  99 non-null     float64\n",
            "dtypes: float64(3)\n",
            "memory usage: 2.4 KB\n"
          ]
        }
      ]
    },
    {
      "cell_type": "code",
      "source": [
        "df1_test.describe()"
      ],
      "metadata": {
        "colab": {
          "base_uri": "https://localhost:8080/",
          "height": 300
        },
        "id": "SSwajHIt3Y8G",
        "outputId": "8fa8fc50-c65a-4a0b-9900-12abf79db52a"
      },
      "execution_count": 571,
      "outputs": [
        {
          "output_type": "execute_result",
          "data": {
            "text/plain": [
              "       1.226844523717489865e+00  2.737906870864166842e-01  \\\n",
              "count                 99.000000                 99.000000   \n",
              "mean                   0.497148                  0.501499   \n",
              "std                    1.103996                  1.225549   \n",
              "min                   -1.806468                 -2.268844   \n",
              "25%                   -0.323696                 -0.228264   \n",
              "50%                    0.508559                  0.471312   \n",
              "75%                    1.190355                  1.335118   \n",
              "max                    2.866262                  3.029122   \n",
              "\n",
              "       2.000000000000000000e+00  \n",
              "count                 99.000000  \n",
              "mean                   1.494949  \n",
              "std                    0.502519  \n",
              "min                    1.000000  \n",
              "25%                    1.000000  \n",
              "50%                    1.000000  \n",
              "75%                    2.000000  \n",
              "max                    2.000000  "
            ],
            "text/html": [
              "\n",
              "  <div id=\"df-df763e07-fb0a-4767-9a84-062bd4165b71\">\n",
              "    <div class=\"colab-df-container\">\n",
              "      <div>\n",
              "<style scoped>\n",
              "    .dataframe tbody tr th:only-of-type {\n",
              "        vertical-align: middle;\n",
              "    }\n",
              "\n",
              "    .dataframe tbody tr th {\n",
              "        vertical-align: top;\n",
              "    }\n",
              "\n",
              "    .dataframe thead th {\n",
              "        text-align: right;\n",
              "    }\n",
              "</style>\n",
              "<table border=\"1\" class=\"dataframe\">\n",
              "  <thead>\n",
              "    <tr style=\"text-align: right;\">\n",
              "      <th></th>\n",
              "      <th>1.226844523717489865e+00</th>\n",
              "      <th>2.737906870864166842e-01</th>\n",
              "      <th>2.000000000000000000e+00</th>\n",
              "    </tr>\n",
              "  </thead>\n",
              "  <tbody>\n",
              "    <tr>\n",
              "      <th>count</th>\n",
              "      <td>99.000000</td>\n",
              "      <td>99.000000</td>\n",
              "      <td>99.000000</td>\n",
              "    </tr>\n",
              "    <tr>\n",
              "      <th>mean</th>\n",
              "      <td>0.497148</td>\n",
              "      <td>0.501499</td>\n",
              "      <td>1.494949</td>\n",
              "    </tr>\n",
              "    <tr>\n",
              "      <th>std</th>\n",
              "      <td>1.103996</td>\n",
              "      <td>1.225549</td>\n",
              "      <td>0.502519</td>\n",
              "    </tr>\n",
              "    <tr>\n",
              "      <th>min</th>\n",
              "      <td>-1.806468</td>\n",
              "      <td>-2.268844</td>\n",
              "      <td>1.000000</td>\n",
              "    </tr>\n",
              "    <tr>\n",
              "      <th>25%</th>\n",
              "      <td>-0.323696</td>\n",
              "      <td>-0.228264</td>\n",
              "      <td>1.000000</td>\n",
              "    </tr>\n",
              "    <tr>\n",
              "      <th>50%</th>\n",
              "      <td>0.508559</td>\n",
              "      <td>0.471312</td>\n",
              "      <td>1.000000</td>\n",
              "    </tr>\n",
              "    <tr>\n",
              "      <th>75%</th>\n",
              "      <td>1.190355</td>\n",
              "      <td>1.335118</td>\n",
              "      <td>2.000000</td>\n",
              "    </tr>\n",
              "    <tr>\n",
              "      <th>max</th>\n",
              "      <td>2.866262</td>\n",
              "      <td>3.029122</td>\n",
              "      <td>2.000000</td>\n",
              "    </tr>\n",
              "  </tbody>\n",
              "</table>\n",
              "</div>\n",
              "      <button class=\"colab-df-convert\" onclick=\"convertToInteractive('df-df763e07-fb0a-4767-9a84-062bd4165b71')\"\n",
              "              title=\"Convert this dataframe to an interactive table.\"\n",
              "              style=\"display:none;\">\n",
              "        \n",
              "  <svg xmlns=\"http://www.w3.org/2000/svg\" height=\"24px\"viewBox=\"0 0 24 24\"\n",
              "       width=\"24px\">\n",
              "    <path d=\"M0 0h24v24H0V0z\" fill=\"none\"/>\n",
              "    <path d=\"M18.56 5.44l.94 2.06.94-2.06 2.06-.94-2.06-.94-.94-2.06-.94 2.06-2.06.94zm-11 1L8.5 8.5l.94-2.06 2.06-.94-2.06-.94L8.5 2.5l-.94 2.06-2.06.94zm10 10l.94 2.06.94-2.06 2.06-.94-2.06-.94-.94-2.06-.94 2.06-2.06.94z\"/><path d=\"M17.41 7.96l-1.37-1.37c-.4-.4-.92-.59-1.43-.59-.52 0-1.04.2-1.43.59L10.3 9.45l-7.72 7.72c-.78.78-.78 2.05 0 2.83L4 21.41c.39.39.9.59 1.41.59.51 0 1.02-.2 1.41-.59l7.78-7.78 2.81-2.81c.8-.78.8-2.07 0-2.86zM5.41 20L4 18.59l7.72-7.72 1.47 1.35L5.41 20z\"/>\n",
              "  </svg>\n",
              "      </button>\n",
              "      \n",
              "  <style>\n",
              "    .colab-df-container {\n",
              "      display:flex;\n",
              "      flex-wrap:wrap;\n",
              "      gap: 12px;\n",
              "    }\n",
              "\n",
              "    .colab-df-convert {\n",
              "      background-color: #E8F0FE;\n",
              "      border: none;\n",
              "      border-radius: 50%;\n",
              "      cursor: pointer;\n",
              "      display: none;\n",
              "      fill: #1967D2;\n",
              "      height: 32px;\n",
              "      padding: 0 0 0 0;\n",
              "      width: 32px;\n",
              "    }\n",
              "\n",
              "    .colab-df-convert:hover {\n",
              "      background-color: #E2EBFA;\n",
              "      box-shadow: 0px 1px 2px rgba(60, 64, 67, 0.3), 0px 1px 3px 1px rgba(60, 64, 67, 0.15);\n",
              "      fill: #174EA6;\n",
              "    }\n",
              "\n",
              "    [theme=dark] .colab-df-convert {\n",
              "      background-color: #3B4455;\n",
              "      fill: #D2E3FC;\n",
              "    }\n",
              "\n",
              "    [theme=dark] .colab-df-convert:hover {\n",
              "      background-color: #434B5C;\n",
              "      box-shadow: 0px 1px 3px 1px rgba(0, 0, 0, 0.15);\n",
              "      filter: drop-shadow(0px 1px 2px rgba(0, 0, 0, 0.3));\n",
              "      fill: #FFFFFF;\n",
              "    }\n",
              "  </style>\n",
              "\n",
              "      <script>\n",
              "        const buttonEl =\n",
              "          document.querySelector('#df-df763e07-fb0a-4767-9a84-062bd4165b71 button.colab-df-convert');\n",
              "        buttonEl.style.display =\n",
              "          google.colab.kernel.accessAllowed ? 'block' : 'none';\n",
              "\n",
              "        async function convertToInteractive(key) {\n",
              "          const element = document.querySelector('#df-df763e07-fb0a-4767-9a84-062bd4165b71');\n",
              "          const dataTable =\n",
              "            await google.colab.kernel.invokeFunction('convertToInteractive',\n",
              "                                                     [key], {});\n",
              "          if (!dataTable) return;\n",
              "\n",
              "          const docLinkHtml = 'Like what you see? Visit the ' +\n",
              "            '<a target=\"_blank\" href=https://colab.research.google.com/notebooks/data_table.ipynb>data table notebook</a>'\n",
              "            + ' to learn more about interactive tables.';\n",
              "          element.innerHTML = '';\n",
              "          dataTable['output_type'] = 'display_data';\n",
              "          await google.colab.output.renderOutput(dataTable, element);\n",
              "          const docLink = document.createElement('div');\n",
              "          docLink.innerHTML = docLinkHtml;\n",
              "          element.appendChild(docLink);\n",
              "        }\n",
              "      </script>\n",
              "    </div>\n",
              "  </div>\n",
              "  "
            ]
          },
          "metadata": {},
          "execution_count": 571
        }
      ]
    },
    {
      "cell_type": "code",
      "source": [
        "# Converting the dataframes to arrays:\n",
        "def dataframe(dframe):\n",
        "  array = dframe.to_numpy()\n",
        "  feature_array = np.vstack((array[:, 0], array[:, 1])).T\n",
        "  labels = array[:, -1] # Extracting the labels from each dataset. \n",
        "  return feature_array, labels"
      ],
      "metadata": {
        "id": "_ZPEDAnh6ZI4"
      },
      "execution_count": 572,
      "outputs": []
    },
    {
      "cell_type": "code",
      "source": [
        "# Calculating the mean:\n",
        "def mean(x, y):\n",
        "  num = np.count_nonzero(y == 1.0)\n",
        "  diff = len(y) - num\n",
        "  x_1 = np.zeros((num, x.shape[1]))\n",
        "  x_2 = np.zeros((diff, x.shape[1]))\n",
        "  i = 0\n",
        "  j = 0\n",
        "  \n",
        "  for ele in range(len(y)):\n",
        "    \n",
        "    if y[ele] == 1.0:\n",
        "      x_1[i] = x[ele]\n",
        "      i += 1\n",
        "    else:\n",
        "      x_2[j] = x[ele]\n",
        "      j +=1\n",
        "  \n",
        "  if x.shape[1] > 1:\n",
        "    mean = np.zeros((2, 2))\n",
        "    mean[0][0] = np.mean(x_1[:, 0])\n",
        "    mean[0][1] = np.mean(x_1[:, 1])\n",
        "    mean[1][0] = np.mean(x_2[:, 0])\n",
        "    mean[1][1] = np.mean(x_2[:, 1])\n",
        "  else:\n",
        "    mean = np.zeros(2)\n",
        "    mean[0] = np.mean(x_1)\n",
        "    mean[1] = np.mean(x_2)\n",
        "  \n",
        "  return mean"
      ],
      "metadata": {
        "id": "k1L_SDhLoZHl"
      },
      "execution_count": 573,
      "outputs": []
    },
    {
      "cell_type": "code",
      "source": [
        "# Calculating the Euclidean distance:\n",
        "def distance(x, y):\n",
        "  dis = math.sqrt((x[0] - y[0]) ** 2 + (x[1] - y[1]) ** 2)\n",
        "  return dis"
      ],
      "metadata": {
        "id": "obuvbUbrr-Jt"
      },
      "execution_count": 574,
      "outputs": []
    },
    {
      "cell_type": "code",
      "source": [
        "# Calculating the error in classification:\n",
        "def error(x, y, mean):\n",
        "  misclassification = 0.0\n",
        "  \n",
        "  for ele in range(len(x)):\n",
        "    flag = 1.0\n",
        "    mean_dis_1 = distance(x[ele], mean[0])\n",
        "    mean_dis_2 = distance(x[ele], mean[1])\n",
        "\n",
        "    if mean_dis_1 > mean_dis_2:\n",
        "      flag = 2.0\n",
        "    \n",
        "    if flag != y[ele]:\n",
        "      misclassification += 1\n",
        "\n",
        "  accuracy = (misclassification / len(x)) * 100\n",
        "  return accuracy "
      ],
      "metadata": {
        "id": "wtQFJEDzHrRC"
      },
      "execution_count": 575,
      "outputs": []
    },
    {
      "cell_type": "markdown",
      "source": [
        "**(a) Learning (training) and classification-** \n",
        "Use unnormalized data as supplied in the datasets. For each dataset (1, 2, and 3), do the following.\n",
        "Compute the class means on the training data.\n",
        "(i) Plot the training data (using different colors or symbols for the different classes), the class means, the decision boundary, and decision regions.\n",
        "Classify all data points in the training set and in the test set, using the class means computed above.\n",
        "(ii) Report the classification error rate on the training set, and separately on the test set.\n",
        "Classification error rate = (Number of misclassified points) / (total number of points), expressed as percentage."
      ],
      "metadata": {
        "id": "yb1DwDiTnfMe"
      }
    },
    {
      "cell_type": "code",
      "source": [
        "# Plotting \n",
        "train_f1, train_s1 = dataframe(df1_train)\n",
        "mean_1 = mean(train_f1, train_s1) \n",
        "plotDecBoundaries(train_f1, train_s1, mean_1, fsize = (12, 12))\n",
        "error_rate_1 = error(train_f1, train_s1, mean_1)\n",
        "print(\"The classification error for training dataset-1 =\", error_rate_1, \"%\")"
      ],
      "metadata": {
        "colab": {
          "base_uri": "https://localhost:8080/",
          "height": 721
        },
        "id": "HtQVV0BH0DJ8",
        "outputId": "b9dfc335-40e0-4137-db4d-46b95bde3aa4"
      },
      "execution_count": 576,
      "outputs": [
        {
          "output_type": "display_data",
          "data": {
            "text/plain": [
              "<Figure size 864x864 with 1 Axes>"
            ],
            "image/png": "[encoded data removed]"
          },
          "metadata": {
            "needs_background": "light"
          }
        },
        {
          "output_type": "stream",
          "name": "stdout",
          "text": [
            "The classification error for training dataset-1 = 0.0 %\n"
          ]
        }
      ]
    },
    {
      "cell_type": "code",
      "source": [
        "train_f2, train_s2 = dataframe(df2_train)\n",
        "mean_2 = mean(train_f2, train_s2) \n",
        "plotDecBoundaries(train_f2, train_s2, mean_2, fsize = (12, 12))\n",
        "error_rate_2 = error(train_f2, train_s2, mean_2)\n",
        "print(\"The classification error for training dataset-2 =\", error_rate_2, \"%\")"
      ],
      "metadata": {
        "colab": {
          "base_uri": "https://localhost:8080/",
          "height": 441
        },
        "id": "vyNh6lSZV_6i",
        "outputId": "8716f3a3-7b07-4d0e-a1b4-4454b9dc1e9e"
      },
      "execution_count": 577,
      "outputs": [
        {
          "output_type": "display_data",
          "data": {
            "text/plain": [
              "<Figure size 864x864 with 1 Axes>"
            ],
            "image/png": "[encoded data removed]"
          },
          "metadata": {
            "needs_background": "light"
          }
        },
        {
          "output_type": "stream",
          "name": "stdout",
          "text": [
            "The classification error for training dataset-2 = 17.17171717171717 %\n"
          ]
        }
      ]
    },
    {
      "cell_type": "code",
      "source": [
        "train_f3, train_s3 = dataframe(df3_train)\n",
        "mean_3 = mean(train_f3, train_s3) \n",
        "plotDecBoundaries(train_f3, train_s3, mean_3, fsize = (12, 12))\n",
        "error_rate_3 = error(train_f3, train_s3, mean_3)\n",
        "print(\"The classification error for training dataset-3 =\", error_rate_3, \"%\")"
      ],
      "metadata": {
        "colab": {
          "base_uri": "https://localhost:8080/",
          "height": 623
        },
        "id": "llhL3zVoWQ85",
        "outputId": "59df9195-79c4-4b73-81a4-666460d40b32"
      },
      "execution_count": 578,
      "outputs": [
        {
          "output_type": "display_data",
          "data": {
            "text/plain": [
              "<Figure size 864x864 with 1 Axes>"
            ],
            "image/png": "[encoded data removed]"
          },
          "metadata": {
            "needs_background": "light"
          }
        },
        {
          "output_type": "stream",
          "name": "stdout",
          "text": [
            "The classification error for training dataset-3 = 22.22222222222222 %\n"
          ]
        }
      ]
    },
    {
      "cell_type": "code",
      "source": [
        "test_f1, test_s1 = dataframe(df1_test)\n",
        "error_rate_test_1 = error(test_f1, test_s1, mean_1)\n",
        "print(\"The classification error for testing dataset-1 =\", error_rate_test_1, \"%\")"
      ],
      "metadata": {
        "colab": {
          "base_uri": "https://localhost:8080/"
        },
        "id": "IFU2oHvuWjIk",
        "outputId": "e8c7dcd1-50e0-41cd-bcd4-c9c22c663d0f"
      },
      "execution_count": 579,
      "outputs": [
        {
          "output_type": "stream",
          "name": "stdout",
          "text": [
            "The classification error for testing dataset-1 = 0.0 %\n"
          ]
        }
      ]
    },
    {
      "cell_type": "code",
      "source": [
        "test_f2, test_s2 = dataframe(df2_test)\n",
        "error_rate_test_2 = error(test_f2, test_s2, mean_2)\n",
        "print(\"The classification error for testing dataset-2 =\", error_rate_test_2, \"%\")"
      ],
      "metadata": {
        "colab": {
          "base_uri": "https://localhost:8080/"
        },
        "id": "ANzCrUQ4XxVK",
        "outputId": "8cd25755-8a83-4be1-dc1a-77f773fe75f6"
      },
      "execution_count": 580,
      "outputs": [
        {
          "output_type": "stream",
          "name": "stdout",
          "text": [
            "The classification error for testing dataset-2 = 26.262626262626267 %\n"
          ]
        }
      ]
    },
    {
      "cell_type": "code",
      "source": [
        "test_f3, test_s3 = dataframe(df3_test)\n",
        "error_rate_test_3 = error(test_f3, test_s3, mean_3)\n",
        "print(\"The classification error for testing dataset-3 =\", error_rate_test_3, \"%\")"
      ],
      "metadata": {
        "colab": {
          "base_uri": "https://localhost:8080/"
        },
        "id": "uImgC1cTXxFM",
        "outputId": "4dec003b-440c-4ae1-83ee-fe2455a05548"
      },
      "execution_count": 581,
      "outputs": [
        {
          "output_type": "stream",
          "name": "stdout",
          "text": [
            "The classification error for testing dataset-3 = 23.232323232323232 %\n"
          ]
        }
      ]
    },
    {
      "cell_type": "markdown",
      "source": [
        "**(c) Preprocessing: normalization-**\n",
        "Standardize the data (so that each feature, across both classes combined, has sample mean = 0 and sample variance = 1). For each dataset, compute the normalizing parameters from the training data, and then use those parameter values to standardize the training data and test data. The result is the (standardized) data you will use for this part.\n",
        "Repeat part (a), except on the normalized data."
      ],
      "metadata": {
        "id": "uI8pnJnVoBi6"
      }
    },
    {
      "cell_type": "code",
      "source": [
        "# Normalizing the train and test dataset:\n",
        "def normalize_train(x):\n",
        "  m = np.mean(x[:, 0])\n",
        "  variance = np.var(x[:, 0])\n",
        "  standard_deviation = math.sqrt(variance)\n",
        "  m_1 = np.mean(x[:, 1])\n",
        "  variance_1 = np.var(x[:, 1])\n",
        "  standard_deviation_1 = math.sqrt(variance_1)\n",
        "\n",
        "  for i in range(len(x)):\n",
        "    x[i][0] = (x[i][0] - m) / standard_deviation\n",
        "    x[i][1] = (x[i][1] - m_1) / standard_deviation_1\n",
        "\n",
        "  parameters = np.array([m, standard_deviation, m_1, standard_deviation_1])\n",
        "  return x, parameters\n",
        "\n",
        "def normalize_test(x, parameters):\n",
        "  for i in range(len(x)):\n",
        "    x[i][0] = (x[i][0] - parameters[0]) / parameters[1]\n",
        "    x[i][1] = (x[i][1] - parameters[2]) / parameters[3]\n",
        "  return x"
      ],
      "metadata": {
        "id": "8wB5EEEBYG6H"
      },
      "execution_count": 582,
      "outputs": []
    },
    {
      "cell_type": "code",
      "source": [
        "#Plotting decision boundary and classification error rate for train set 1\n",
        "train_f1, train_s1 = dataframe(df1_train)\n",
        "train_fs1_norm, train_fs1_params = normalize_train(train_f1)\n",
        "mean_1 = mean(train_fs1_norm, train_s1)\n",
        "plotDecBoundaries(train_fs1_norm, train_s1, mean_1, fsize = (12, 12))\n",
        "error_rate_1 = error(train_fs1_norm, train_s1, mean_1)\n",
        "print(\"The classification error for normalized training dataset-1 =\", error_rate_1,\"%\")"
      ],
      "metadata": {
        "colab": {
          "base_uri": "https://localhost:8080/",
          "height": 721
        },
        "id": "-aGF_1Y7Zkvn",
        "outputId": "2b7508e1-ac33-4a14-94bc-1abc9a01b123"
      },
      "execution_count": 583,
      "outputs": [
        {
          "output_type": "display_data",
          "data": {
            "text/plain": [
              "<Figure size 864x864 with 1 Axes>"
            ],
            "image/png": "[encoded data removed]"
          },
          "metadata": {
            "needs_background": "light"
          }
        },
        {
          "output_type": "stream",
          "name": "stdout",
          "text": [
            "The classification error for normalized training dataset-1 = 0.0 %\n"
          ]
        }
      ]
    },
    {
      "cell_type": "code",
      "source": [
        "train_f2, train_s2 = dataframe(df2_train)\n",
        "train_fs2_norm, train_fs2_params = normalize_train(train_f2)\n",
        "mean_2 = mean(train_fs2_norm, train_s2)\n",
        "plotDecBoundaries(train_fs2_norm, train_s2, mean_2, fsize = (12, 12))\n",
        "error_rate_2 = error(train_fs2_norm, train_s2, mean_2)\n",
        "print(\"The classification error for normalized training dataset-2 =\", error_rate_2,\"%\")"
      ],
      "metadata": {
        "colab": {
          "base_uri": "https://localhost:8080/",
          "height": 571
        },
        "id": "mNoSl3k6aqZu",
        "outputId": "72558f07-e60b-4129-d092-59f70685685b"
      },
      "execution_count": 584,
      "outputs": [
        {
          "output_type": "display_data",
          "data": {
            "text/plain": [
              "<Figure size 864x864 with 1 Axes>"
            ],
            "image/png": "[encoded data removed]"
          },
          "metadata": {
            "needs_background": "light"
          }
        },
        {
          "output_type": "stream",
          "name": "stdout",
          "text": [
            "The classification error for normalized training dataset-2 = 0.0 %\n"
          ]
        }
      ]
    },
    {
      "cell_type": "code",
      "source": [
        "train_f3, train_s3 = dataframe(df3_train)\n",
        "train_fs3_norm, train_fs3_params = normalize_train(train_f3)\n",
        "mean_3 = mean(train_fs3_norm, train_s3)\n",
        "plotDecBoundaries(train_fs3_norm, train_s3, mean_3, fsize = (12, 12))\n",
        "error_rate_3 = error(train_fs3_norm, train_s3, mean_3)\n",
        "print(\"The classification error for normalized training dataset-3 =\", error_rate_3,\"%\")"
      ],
      "metadata": {
        "colab": {
          "base_uri": "https://localhost:8080/",
          "height": 721
        },
        "id": "OVS1T3tMaqTN",
        "outputId": "e18dc6e7-3960-437b-d7b1-a162a97f2b88"
      },
      "execution_count": 585,
      "outputs": [
        {
          "output_type": "display_data",
          "data": {
            "text/plain": [
              "<Figure size 864x864 with 1 Axes>"
            ],
            "image/png": "[encoded data removed]"
          },
          "metadata": {
            "needs_background": "light"
          }
        },
        {
          "output_type": "stream",
          "name": "stdout",
          "text": [
            "The classification error for normalized training dataset-3 = 24.242424242424242 %\n"
          ]
        }
      ]
    },
    {
      "cell_type": "code",
      "source": [
        "test_f1, test_s1 = dataframe(df1_test)\n",
        "test_fs1_norm = normalize_test(test_f1, train_fs1_params)\n",
        "error_rate_test_1 = error(test_fs1_norm, test_s1, mean_1)\n",
        "print(\"The classification error for the normalized testing dataset-1 =\", error_rate_test_1, \"%\")"
      ],
      "metadata": {
        "colab": {
          "base_uri": "https://localhost:8080/"
        },
        "id": "nIkg5cqcbPM7",
        "outputId": "657ca9ed-172a-4bb8-8abb-b043d3fb77c6"
      },
      "execution_count": 586,
      "outputs": [
        {
          "output_type": "stream",
          "name": "stdout",
          "text": [
            "The classification error for the normalized testing dataset-1 = 0.0 %\n"
          ]
        }
      ]
    },
    {
      "cell_type": "code",
      "source": [
        "test_f2, test_s2 = dataframe(df2_test)\n",
        "test_fs2_norm = normalize_test(test_f2, train_fs2_params)\n",
        "error_rate_test_2 = error(test_fs2_norm, test_s2, mean_2)\n",
        "print(\"The classification error for the normalized testing dataset-2 =\", error_rate_test_2, \"%\")"
      ],
      "metadata": {
        "colab": {
          "base_uri": "https://localhost:8080/"
        },
        "id": "7YHA5neTbPJg",
        "outputId": "55b7bda9-7d6f-4986-9cf3-0aba487c37f0"
      },
      "execution_count": 587,
      "outputs": [
        {
          "output_type": "stream",
          "name": "stdout",
          "text": [
            "The classification error for the normalized testing dataset-2 = 4.040404040404041 %\n"
          ]
        }
      ]
    },
    {
      "cell_type": "code",
      "source": [
        "test_f3, test_s3 = dataframe(df3_test)\n",
        "test_fs3_norm = normalize_test(test_f3, train_fs3_params)\n",
        "error_rate_test_3 = error(test_fs3_norm, test_s3, mean_3)\n",
        "print(\"The classification error for the normalized testing dataset-3 =\", error_rate_test_3, \"%\")"
      ],
      "metadata": {
        "colab": {
          "base_uri": "https://localhost:8080/"
        },
        "id": "SunJrELsbPEI",
        "outputId": "21793bd3-d519-4d13-d4f4-bdf5b86f011a"
      },
      "execution_count": 588,
      "outputs": [
        {
          "output_type": "stream",
          "name": "stdout",
          "text": [
            "The classification error for the normalized testing dataset-3 = 22.22222222222222 %\n"
          ]
        }
      ]
    },
    {
      "cell_type": "markdown",
      "source": [
        "**(e) Feature transformation: feature reduction by projection-** \n",
        "For this part start with the standardized data. Reduce the number of features to 1 by using a projection transformation, as described below.\n",
        "A projection transformation will project all data points onto the same line, to result in a new, 1D feature space.\n",
        "For each (standardized) dataset, do the following:\n",
        "To get a somewhat optimal result for the feature transformation, try different directions for the line by using the following brute-force technique on the training set:\n",
        "Try 40 different vector directions 𝑟! to project onto, as follows:\n",
        "𝑟! = (10,𝑚), m = 0,1,2,⋯,9\n",
        "r\" = (20 − m, 10), m = 10,11,12,⋯,29\n",
        "𝑟! = (−10, 40 − 𝑚), m = 30,31,32,⋯,39\n",
        "For each value of 𝑚, project all the training data points onto 𝑟!. The result will be a set data points in 1D (projected) feature space. Then train the 1D classifier by computing the class means. Next, classify all the training data points in the 1D feature space. To optimize the feature transformation, plot the training error rate vs. m. Report which value(s) of m give(s) the lowest training error. Call it m∗; if more than one value of m give the\n",
        "lowest training error, then let m∗ be the lowest such m.\n",
        "Also report 𝑟!∗ .\n",
        "Then classify all the points in the test set in the 1D space for 𝑚 = 𝑚∗. Show the projected points, as well as the decision boundaries and regions, on a 2D plot (using the same axes as the other 2D plots), all for 𝑚 = 𝑚∗. Report the resulting test error."
      ],
      "metadata": {
        "id": "Q-vVbBRboOML"
      }
    },
    {
      "cell_type": "code",
      "source": [
        "def transformed_dataset(x, rm):\n",
        "  transformed_x = np.dot(rm.T, x.T) / math.sqrt(np.dot(rm.T, rm)[0][0])\n",
        "  return transformed_x.T"
      ],
      "metadata": {
        "id": "7RzQ-iQzc6FZ"
      },
      "execution_count": 589,
      "outputs": []
    },
    {
      "cell_type": "code",
      "source": [
        "def error_1d(x, y, mean):\n",
        "  misclassification = 0\n",
        "  \n",
        "  for ele in range(len(x)):\n",
        "    flag = 1.0\n",
        "    mean_dis_1 = abs(x[ele] - mean[0])\n",
        "    mean_dis_2 = abs(x[ele] - mean[1])\n",
        "    \n",
        "    if mean_dis_1 > mean_dis_2:\n",
        "      flag = 2.0\n",
        "    \n",
        "    if flag != y[ele]:      \n",
        "      misclassification += 1\n",
        "\n",
        "  accuracy = (misclassification / len(x)) * 100\n",
        "  return accuracy"
      ],
      "metadata": {
        "id": "Pe5aZOjve3st"
      },
      "execution_count": 590,
      "outputs": []
    },
    {
      "cell_type": "code",
      "source": [
        "def projection_1d(x, y):\n",
        "  accuracy_list = []\n",
        "  mean_matrix = np.zeros((len(x), 2))\n",
        "  i = 0\n",
        "  for m in range(40):\n",
        "    \n",
        "    if m < 10:\n",
        "      rm = np.array([[10], [m]])\n",
        "    \n",
        "    elif m < 30:\n",
        "      rm = np.array([[20 - m], [10]])\n",
        "    \n",
        "    else:\n",
        "      rm = np.array([[-10], [40 - m]])\n",
        "\n",
        "    transformed_x = transformed_dataset(x, rm)\n",
        "    mean_transformed_x = mean(transformed_x, y)\n",
        "    error_rate = error_1d(transformed_x, y, mean_transformed_x)\n",
        "    accuracy_list.append(error_rate)\n",
        "\n",
        "  plt.plot(range(40), accuracy_list)\n",
        "  plt.ylabel(\"Error rate (%)\")\n",
        "  plt.xlabel(\"m\")\n",
        "  plt.title(\"Error rate versus m\")\n",
        "\n",
        "  m_optimum = accuracy_list.index(min(accuracy_list))\n",
        "  \n",
        "  if m_optimum < 10:\n",
        "    rm_optimum = np.array([[10], [m_optimum]])\n",
        "  \n",
        "  elif m_optimum < 30:\n",
        "    rm_optimum = np.array([[20 - m_optimum], [10]])\n",
        "  \n",
        "  else:\n",
        "    rm_optimum = np.array([[-10], [40 - m_optimum]])\n",
        "\n",
        "  transformed_optimum_x = transformed_dataset(x, rm_optimum)\n",
        "  mean_transformed_optimum_x = mean(transformed_optimum_x, y)\n",
        "  return m_optimum, rm_optimum, mean_transformed_optimum_x"
      ],
      "metadata": {
        "id": "6yVHHv4edaDU"
      },
      "execution_count": 591,
      "outputs": []
    },
    {
      "cell_type": "code",
      "source": [
        "def projection_test(x, y, rm, mean):\n",
        "  transformed_x = transformed_dataset(x, rm)\n",
        "  error_rate = error_1d(transformed_x, y, mean)\n",
        "  return error_rate, transformed_x"
      ],
      "metadata": {
        "id": "WtFYzyX7f3II"
      },
      "execution_count": 592,
      "outputs": []
    },
    {
      "cell_type": "code",
      "source": [
        "m_optimum_1, rm_optimum_1, mean_transformed_optimum_x1 = projection_1d(train_fs1_norm, train_s1)\n",
        "error_rate_test_1, transformed_test_x1 = projection_test(test_fs1_norm, test_s1, rm_optimum_1, mean_transformed_optimum_x1)\n",
        "print(\"Optimum m = \", m_optimum_1,\"\\t Optimum Rm =\", rm_optimum_1)\n",
        "test_f1_inverse_transformed = np.zeros((99, 2))\n",
        "mean_inverse_transformed_1 = np.zeros((2, 2))\n",
        "\n",
        "for i in range(len(transformed_test_x1)):\n",
        "  test_f1_inverse_transformed[i] = (transformed_test_x1[i] * rm_optimum_1).T / math.sqrt(np.dot(rm_optimum_1.T, rm_optimum_1)[0][0])\n",
        "\n",
        "for i in range(len(mean_transformed_optimum_x1)):\n",
        "  mean_inverse_transformed_1[i] = (mean_transformed_optimum_x1[i] * rm_optimum_1).T / math.sqrt(np.dot(rm_optimum_1.T, rm_optimum_1)[0][0])\n",
        "\n",
        "plotDecBoundaries(test_f1_inverse_transformed, test_s1, mean_inverse_transformed_1, fsize = (12, 12))\n",
        "print(\"The classification error of transformed testing dataset-1 =\", error_rate_test_1, \"%\")"
      ],
      "metadata": {
        "colab": {
          "base_uri": "https://localhost:8080/",
          "height": 1000
        },
        "id": "kHZ2u38cgFa9",
        "outputId": "d2003f8b-8057-4f67-cd1b-feeba33077e3"
      },
      "execution_count": 593,
      "outputs": [
        {
          "output_type": "stream",
          "name": "stdout",
          "text": [
            "Optimum m =  28 \t Optimum Rm = [[-8]\n",
            " [10]]\n"
          ]
        },
        {
          "output_type": "display_data",
          "data": {
            "text/plain": [
              "<Figure size 432x288 with 1 Axes>"
            ],
            "image/png": "[encoded data removed]"
          },
          "metadata": {
            "needs_background": "light"
          }
        },
        {
          "output_type": "display_data",
          "data": {
            "text/plain": [
              "<Figure size 864x864 with 1 Axes>"
            ],
            "image/png": "[encoded data removed]"
          },
          "metadata": {
            "needs_background": "light"
          }
        },
        {
          "output_type": "stream",
          "name": "stdout",
          "text": [
            "The classification error of transformed testing dataset-1 = 0.0 %\n"
          ]
        }
      ]
    },
    {
      "cell_type": "code",
      "source": [
        "m_optimum_2, rm_optimum_2, mean_transformed_optimum_x2 = projection_1d(train_fs2_norm, train_s2)\n",
        "error_rate_test_2, transformed_test_x2 = projection_test(test_fs2_norm, test_s2, rm_optimum_2, mean_transformed_optimum_x2)\n",
        "print(\"Optimum m = \", m_optimum_2,\"\\t Optimum Rm =\", rm_optimum_2)\n",
        "test_f2_inverse_transformed = np.zeros((99, 2))\n",
        "mean_inverse_transformed_2 = np.zeros((2, 2))\n",
        "\n",
        "for i in range(len(transformed_test_x2)):\n",
        "  test_f2_inverse_transformed[i] = (transformed_test_x2[i] * rm_optimum_2).T / math.sqrt(np.dot(rm_optimum_2.T, rm_optimum_2)[0][0])\n",
        "\n",
        "for i in range(len(mean_transformed_optimum_x2)):\n",
        "  mean_inverse_transformed_2[i] = (mean_transformed_optimum_x2[i] * rm_optimum_2).T / math.sqrt(np.dot(rm_optimum_2.T, rm_optimum_2)[0][0])\n",
        "\n",
        "plotDecBoundaries(test_f2_inverse_transformed, test_s2, mean_inverse_transformed_2, fsize = (12, 12))\n",
        "print(\"The classification error of transformed testing dataset-2 =\", error_rate_test_2, \"%\")"
      ],
      "metadata": {
        "colab": {
          "base_uri": "https://localhost:8080/",
          "height": 1000
        },
        "id": "iewSefVSkKyz",
        "outputId": "7f0d9cfc-adc8-49d7-ce22-a282154f200b"
      },
      "execution_count": 594,
      "outputs": [
        {
          "output_type": "stream",
          "name": "stdout",
          "text": [
            "Optimum m =  18 \t Optimum Rm = [[ 2]\n",
            " [10]]\n"
          ]
        },
        {
          "output_type": "display_data",
          "data": {
            "text/plain": [
              "<Figure size 432x288 with 1 Axes>"
            ],
            "image/png": "[encoded data removed]"
          },
          "metadata": {
            "needs_background": "light"
          }
        },
        {
          "output_type": "display_data",
          "data": {
            "text/plain": [
              "<Figure size 864x864 with 1 Axes>"
            ],
            "image/png": "[encoded data removed]"
          },
          "metadata": {
            "needs_background": "light"
          }
        },
        {
          "output_type": "stream",
          "name": "stdout",
          "text": [
            "The classification error of transformed testing dataset-2 = 1.0101010101010102 %\n"
          ]
        }
      ]
    },
    {
      "cell_type": "code",
      "source": [
        "m_optimum_3, rm_optimum_3, mean_transformed_optimum_x3 = projection_1d(train_fs3_norm, train_s3)\n",
        "error_rate_test_3, transformed_test_x3 = projection_test(test_fs3_norm, test_s3, rm_optimum_3, mean_transformed_optimum_x3)\n",
        "print(\"Optimum m = \", m_optimum_3,\"\\t Optimum Rm =\", rm_optimum_3)\n",
        "test_f3_inverse_transformed = np.zeros((99, 2))\n",
        "mean_inverse_transformed_3 = np.zeros((2, 2))\n",
        "\n",
        "for i in range(len(transformed_test_x3)):\n",
        "  test_f3_inverse_transformed[i] = (transformed_test_x3[i] * rm_optimum_3).T / math.sqrt(np.dot(rm_optimum_3.T, rm_optimum_3)[0][0])\n",
        "\n",
        "for i in range(len(mean_transformed_optimum_x3)):\n",
        "  mean_inverse_transformed_3[i] = (mean_transformed_optimum_x3[i] * rm_optimum_3).T / math.sqrt(np.dot(rm_optimum_3.T, rm_optimum_3)[0][0])\n",
        "\n",
        "plotDecBoundaries(test_f3_inverse_transformed, test_s3, mean_inverse_transformed_3, fsize = (12, 12))\n",
        "print(\"The classification error of transformed testing dataset-3 =\", error_rate_test_3, \"%\")"
      ],
      "metadata": {
        "colab": {
          "base_uri": "https://localhost:8080/",
          "height": 968
        },
        "id": "iE_kG0-wlLkG",
        "outputId": "af4dd3ed-858c-4809-b9af-817a3dd11de7"
      },
      "execution_count": 595,
      "outputs": [
        {
          "output_type": "stream",
          "name": "stdout",
          "text": [
            "Optimum m =  8 \t Optimum Rm = [[10]\n",
            " [ 8]]\n"
          ]
        },
        {
          "output_type": "display_data",
          "data": {
            "text/plain": [
              "<Figure size 432x288 with 1 Axes>"
            ],
            "image/png": "[encoded data removed]"
          },
          "metadata": {
            "needs_background": "light"
          }
        },
        {
          "output_type": "display_data",
          "data": {
            "text/plain": [
              "<Figure size 864x864 with 1 Axes>"
            ],
            "image/png": "[encoded data removed]"
          },
          "metadata": {
            "needs_background": "light"
          }
        },
        {
          "output_type": "stream",
          "name": "stdout",
          "text": [
            "The classification error of transformed testing dataset-3 = 24.242424242424242 %\n"
          ]
        }
      ]
    }
  ]
}