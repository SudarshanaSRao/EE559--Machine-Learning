{
  "cells": [
    {
      "cell_type": "markdown",
      "id": "c94b12af",
      "metadata": {
        "id": "c94b12af"
      },
      "source": [
        "4. Code up a 2-class perceptron learning algorithm and classifier. For this problem, you may use only python built-in functions, numpy, matplotlibmatplotlib; you may use the PlotDecBoundaries.py function provided with Homework 1; and you may use pandas only for reading and/or writing csv files. Please observe the following:\n",
        "(i) For the optimization, use basic sequential GD. Also use SGD variant 1, which is the same as basic sequential GD, except a shuffle is done at the start of every epoch whereas in basic sequential GD a shuffle is done only before the first epoch and the order is held fixed thereafter.\n",
        "(ii) For the initial weight vector, use w(0) = a1, in which 𝑎 = 0.1 .\n",
        "(iii) For the learning rate parameter, use η(i) = 1 ∀% .\n",
        "(iv) For the halting condition, use 2 conditions, such that it halts when either one is met:\n",
        "i.1 When all the training data points are correctly classified. In this case, it also outputs the statement “data is linearly separable”.\n",
        "i.2 When 10,000 iterations have been performed. In this case, choose for the\n",
        "final weight vector w7 as the weight vector corresponding to the lowest J$w% over all iterations.\n",
        "(v) You will also need a function that classifies any given data point, using the optimal w7 from the learning algorithm."
      ]
    },
    {
      "cell_type": "code",
      "source": [
        "# Importing the required libraries:\n",
        "import csv\n",
        "import numpy as np\n",
        "import matplotlib.pyplot as plt\n",
        "import math\n",
        "from sklearn.preprocessing import normalize\n",
        "from sklearn.utils import shuffle\n",
        "import copy\n",
        "import random"
      ],
      "metadata": {
        "id": "fLPWEo7OucP2"
      },
      "id": "fLPWEo7OucP2",
      "execution_count": null,
      "outputs": []
    },
    {
      "cell_type": "code",
      "source": [
        "# Reading the dataset files:\n",
        "def open_datasets(file):\n",
        "    data = []\n",
        "    \n",
        "    with open(file) as csv_file: # Reading the file row-wise.\n",
        "        df = csv.reader(csv_file, delimiter=',')\n",
        "        \n",
        "        for row in df:\n",
        "            data.append(row)\n",
        "\n",
        "    data = np.array(data).astype(float) # Converting the datapoints to a numpy floating point array.\n",
        "    return data"
      ],
      "metadata": {
        "id": "CO5hctNAvYkQ"
      },
      "id": "CO5hctNAvYkQ",
      "execution_count": null,
      "outputs": []
    },
    {
      "cell_type": "code",
      "source": [
        "# Defining the classification function:\n",
        "def classifier(datapoint, weight):\n",
        "    dataset_dimension = datapoint.shape[0]\n",
        "    weight_vec= np.zeros([dataset_dimension, 1]) # Initializing the weight vector.\n",
        "    \n",
        "    for ele in range(dataset_dimension):\n",
        "        z_n = np.dot(weight.T, datapoint[ele, :])\n",
        "        \n",
        "        if z_n < 0:\n",
        "          weight_vec[ele] = 2\n",
        "        else:\n",
        "          weight_vec[ele] = 1\n",
        "        \n",
        "    return weight_vec"
      ],
      "metadata": {
        "id": "k5hzVenwwAIu"
      },
      "id": "k5hzVenwwAIu",
      "execution_count": null,
      "outputs": []
    },
    {
      "cell_type": "code",
      "source": [
        "# Defining the criterion function for the classifier:\n",
        "def criterion_function(weights, dp):\n",
        "    dataset_dimension = dp.shape[0]\n",
        "    J = 0\n",
        "    \n",
        "    for i in range(dataset_dimension):\n",
        "        \n",
        "        if np.dot(weights.T, dp[i, :]) < 0:\n",
        "            J -= np.dot(weights.T, dp[i, :])\n",
        "    \n",
        "    return J"
      ],
      "metadata": {
        "id": "hOTRJoKNw8vL"
      },
      "id": "hOTRJoKNw8vL",
      "execution_count": null,
      "outputs": []
    },
    {
      "cell_type": "code",
      "execution_count": null,
      "id": "ed8a415f",
      "metadata": {
        "id": "ed8a415f"
      },
      "outputs": [],
      "source": [
        "# Computing the misclassification rate:\n",
        "def misclassification_rate(true, predicted):\n",
        "    count = 0\n",
        "    \n",
        "    for iter in range(len(predicted)):\n",
        "        \n",
        "        if true[iter] != predicted[iter]:\n",
        "                   count += 1\n",
        "    \n",
        "    accuracy = 100 * count / len(predicted)\n",
        "    return accuracy"
      ]
    },
    {
      "cell_type": "code",
      "source": [
        "# this function is from Prof. Chugg's nearest_means_classifier notebook\n",
        "# https://github.com/keithchugg/ee559_spring2023/blob/main/lecture/nearest_means_classifier.ipynb\n",
        "# Defining a function to plot graphs:\n",
        "def graph_func(data, label, w):\n",
        "    x = np.linspace(min(data[:, 1]), max(data[:, 1]))\n",
        "    y = -(w[0] + w[1] * x) / w[2]\n",
        "    plt.plot(x, y, label = 'Decision Boundary')\n",
        "    plt.scatter(data[label == 1, 1], data[label == 1, 2], c = 'orange', label = 'Γ1')\n",
        "    plt.scatter(data[label == 2, 1], data[label == 2, 2], c = 'yellow', label = 'Γ2')\n",
        "    plt.legend() "
      ],
      "metadata": {
        "id": "RlauD0qnx1OK"
      },
      "id": "RlauD0qnx1OK",
      "execution_count": null,
      "outputs": []
    },
    {
      "cell_type": "markdown",
      "id": "bd40c4bf",
      "metadata": {
        "id": "bd40c4bf"
      },
      "source": [
        "(a) For the synthetic dataset1 given with Homework 1, implement the following:\n",
        "(i) Run the perceptron learning algorithm to find w7. Give the resulting w7 vector; state whether the algorithm converged (i.1 reached)\n",
        "or halted without convergence (i.2 reached); and give the final criterion function value J$w7%.\n",
        "(ii) Produce a learning curve, which is a plot of the values of the criterion function during the training process. If the training goes for more than 10 epochs, plot the criterion function vs. epochs. If training ends before 10 epochs, plot the criterion function vs. iterations. Recall that one epoch is one pass through the entire training set while one iteration is one weight vector update. You may also want to include the misclassification rate vs. epoch (or iterations) on this plot as well.\n",
        "(iii) Run the perceptron classifier on the training set and the test set using the final w7. Give the classification error of each.\n",
        "(iv) Plot in feature space the training data points, decision boundaries, and decision regions. The decision boundaries and regions should use the final w7."
      ]
    },
    {
      "cell_type": "code",
      "execution_count": null,
      "id": "c57bcd01",
      "metadata": {
        "colab": {
          "base_uri": "https://localhost:8080/"
        },
        "id": "c57bcd01",
        "outputId": "42257281-a715-4c24-9ecf-104ef4e85f7c"
      },
      "outputs": [
        {
          "output_type": "stream",
          "name": "stdout",
          "text": [
            "The given data is linearly separable\n",
            "The best weights are:  [-0.9        -3.40587521  3.54772706]\n"
          ]
        }
      ],
      "source": [
        "data = open_datasets('dataset1_train.csv')\n",
        "random_shuffle = shuffle(data, random_state = 0)\n",
        "X = np.array(random_shuffle[:, :2])\n",
        "y = np.array(random_shuffle[:, 2])\n",
        "X = np.vstack([np.ones([1, 100]), X.T]).T\n",
        "w = 0.1 * np.ones([3, 1])\n",
        "weights_list = np.ones([3, 10000])\n",
        "index_list = []\n",
        "reflected_data = copy.deepcopy(X)\n",
        "dataset_dimension = int(X.shape[0])\n",
        "J = np.zeros([10000])\n",
        "epoch = int(10000 / dataset_dimension)\n",
        "list_epoch = []\n",
        "\n",
        "for line in range(dataset_dimension):\n",
        "    \n",
        "    if y[line] == 2:\n",
        "        reflected_data[line, :] *= -1\n",
        "        \n",
        "for i in range(epoch):\n",
        "    flag = None\n",
        "    count = 0\n",
        "    list_epoch.append(i + 1)\n",
        "    \n",
        "    for j in range(dataset_dimension):\n",
        "        index = i * epoch + j\n",
        "        index_list.append(index + 1)\n",
        "        z_n = np.dot(w.T, reflected_data[j, :])\n",
        "        \n",
        "        if z_n <= 0:\n",
        "            w += 1 * reflected_data[j, :].reshape([3, 1])\n",
        "            count = 0\n",
        "        else:\n",
        "            count += 1\n",
        "        weights_list[:, index] = w.T\n",
        "\n",
        "    if count == 100:\n",
        "        flag = 1\n",
        "        print(\"The given data is linearly separable\")\n",
        "        break\n",
        "    elif count > 100:\n",
        "      flag = 0\n",
        "      print(\"The algorithm did not converge!\")\n",
        "      break\n",
        "\n",
        "for i in range(10000):\n",
        "    J[i] = criterion_function(weights_list[:, i], reflected_data)\n",
        "\n",
        "if flag == 0:\n",
        "  print(\"The cost function for the best weights: \", np.min(J))\n",
        "\n",
        "best_weight = weights_list[:, np.argmin(J)]\n",
        "print(\"The best weights are: \", best_weight)"
      ]
    },
    {
      "cell_type": "code",
      "execution_count": null,
      "id": "716b2417",
      "metadata": {
        "colab": {
          "base_uri": "https://localhost:8080/"
        },
        "id": "716b2417",
        "outputId": "d858688f-a521-44a7-b982-dbb64e1c5555"
      },
      "outputs": [
        {
          "output_type": "stream",
          "name": "stdout",
          "text": [
            "The misclassification rate of the training_1 dataset =  0.0 %\n",
            "The misclassification rate of the testing_1 dataset =  0.0 %\n"
          ]
        }
      ],
      "source": [
        "class_label = classifier(X, best_weight)\n",
        "data = open_datasets('dataset1_test.csv')\n",
        "test_x = np.array(data[:, :2])\n",
        "test_y = np.array(data[:, 2])\n",
        "X_test = np.vstack([np.ones([1, 100]), test_x.T]).T\n",
        "test_label = classifier(X_test, best_weight)\n",
        "print(\"The misclassification rate of the training_1 dataset = \", misclassification_rate(y, class_label), \"%\")\n",
        "print(\"The misclassification rate of the testing_1 dataset = \", misclassification_rate(test_y, test_label), \"%\")"
      ]
    },
    {
      "cell_type": "code",
      "execution_count": null,
      "id": "a1acfc42",
      "metadata": {
        "colab": {
          "base_uri": "https://localhost:8080/",
          "height": 312
        },
        "id": "a1acfc42",
        "outputId": "5d30f5d7-a0dc-4801-8e84-f00b991d0d6f"
      },
      "outputs": [
        {
          "output_type": "execute_result",
          "data": {
            "text/plain": [
              "[<matplotlib.lines.Line2D at 0x7f05b22d51f0>]"
            ]
          },
          "metadata": {},
          "execution_count": 297
        },
        {
          "output_type": "display_data",
          "data": {
            "text/plain": [
              "<Figure size 432x288 with 1 Axes>"
            ],
            "image/png": "[encoded data removed]"
          },
          "metadata": {
            "needs_background": "light"
          }
        }
      ],
      "source": [
        "if len(list_epoch) > 10:\n",
        "  plt.xlabel(\"Number of epochs\")\n",
        "else:\n",
        "  plt.xlabel(\"Number of iterations\")\n",
        "\n",
        "plt.ylabel(\"Criterion function\")\n",
        "plt.title(\"Learning curve\")\n",
        "plt.plot(index_list, J[:len(index_list)], marker = 'd')"
      ]
    },
    {
      "cell_type": "code",
      "execution_count": null,
      "id": "6b4e98e7",
      "metadata": {
        "colab": {
          "base_uri": "https://localhost:8080/",
          "height": 269
        },
        "id": "6b4e98e7",
        "outputId": "df717a60-7b73-4c84-892f-2dd6d37da869"
      },
      "outputs": [
        {
          "output_type": "display_data",
          "data": {
            "text/plain": [
              "<Figure size 432x288 with 1 Axes>"
            ],
            "image/png": "[encoded data removed]"
          },
          "metadata": {
            "needs_background": "light"
          }
        }
      ],
      "source": [
        "graph_func(X, np.array(y), best_weight)"
      ]
    },
    {
      "cell_type": "markdown",
      "id": "f93f1e1f",
      "metadata": {
        "id": "f93f1e1f"
      },
      "source": [
        "(b) Repeat part (a) except use the synthetic dataset2 datasets given with Homework 1"
      ]
    },
    {
      "cell_type": "code",
      "execution_count": null,
      "id": "a1b7db92",
      "metadata": {
        "colab": {
          "base_uri": "https://localhost:8080/"
        },
        "id": "a1b7db92",
        "outputId": "0ffd9a48-bdc3-40cb-93be-0ba6b2ae37f1"
      },
      "outputs": [
        {
          "output_type": "stream",
          "name": "stdout",
          "text": [
            "The given data is linearly separable\n",
            "The best weights are:  [-1.9        -0.18105057  3.39353714]\n"
          ]
        }
      ],
      "source": [
        "data = open_datasets('dataset2_train.csv')\n",
        "random_shuffle = shuffle(data, random_state = 0)\n",
        "X = np.array(random_shuffle[:, :2])\n",
        "y = np.array(random_shuffle[:, 2])\n",
        "X = np.vstack([np.ones([1, 100]), X.T]).T\n",
        "w = 0.1 * np.ones([3, 1])\n",
        "weights_list = np.ones([3, 10000])\n",
        "index_list = []\n",
        "reflected_data = copy.deepcopy(X)\n",
        "dataset_dimension = int(X.shape[0])\n",
        "epoch = int(10000 / dataset_dimension)\n",
        "list_epoch = []\n",
        "J = np.zeros([10000])\n",
        "\n",
        "for i in range(dataset_dimension):\n",
        "    \n",
        "    if y[i] == 2:\n",
        "        reflected_data[i, :] *= -1\n",
        "\n",
        "for i in range(epoch):\n",
        "    flag = None\n",
        "    count = 0\n",
        "    list_epoch.append(i + 1)\n",
        "    \n",
        "    for j in range(dataset_dimension):\n",
        "        index = i * epoch + j\n",
        "        index_list.append(index + 1)\n",
        "        z_n = np.dot(w.T, reflected_data[j, :])\n",
        "        \n",
        "        if z_n <= 0:\n",
        "            w += 1 * reflected_data[j, :].reshape([3, 1])\n",
        "            count = 0\n",
        "        else:\n",
        "            count += 1\n",
        "        weights_list[:, index] = w.T\n",
        "\n",
        "    if count == 100:\n",
        "        flag = 1\n",
        "        print(\"The given data is linearly separable\")\n",
        "        break\n",
        "    elif count > 100:\n",
        "      flag = 0\n",
        "      print(\"The algorithm did not converge!\")\n",
        "      break\n",
        "        \n",
        "for i in range(10000):\n",
        "    J[i] = criterion_function(weights_list[:, i], reflected_data)\n",
        "\n",
        "if flag == 0:\n",
        "  print(\"The cost function for the best weights: \", np.min(j))\n",
        "\n",
        "best_weight = weights_list[:, np.argmin(J)]\n",
        "print(\"The best weights are: \", best_weight)"
      ]
    },
    {
      "cell_type": "code",
      "execution_count": null,
      "id": "d8f0d12b",
      "metadata": {
        "colab": {
          "base_uri": "https://localhost:8080/"
        },
        "id": "d8f0d12b",
        "outputId": "9f4d17e3-baa6-4d29-cf1b-95e68ba9e150"
      },
      "outputs": [
        {
          "output_type": "stream",
          "name": "stdout",
          "text": [
            "The misclassification rate of the training_2 dataset =  0.0 %\n",
            "The misclassification rate of the testing_2 dataset =  0.0 %\n"
          ]
        }
      ],
      "source": [
        "class_label = classifier(X, best_weight)\n",
        "data = open_datasets('dataset2_test.csv')\n",
        "X_test = np.array(data[:, :2])\n",
        "y_test = np.array(data[:, 2])\n",
        "X_test = np.vstack([np.ones([1, 100]), X_test.T]).T\n",
        "test_label = classifier(X_test, best_weight)\n",
        "print(\"The misclassification rate of the training_2 dataset = \", misclassification_rate(y, class_label), \"%\")\n",
        "print(\"The misclassification rate of the testing_2 dataset = \", misclassification_rate(y_test, test_label), \"%\")"
      ]
    },
    {
      "cell_type": "code",
      "execution_count": null,
      "id": "74ba23ad",
      "metadata": {
        "colab": {
          "base_uri": "https://localhost:8080/",
          "height": 312
        },
        "id": "74ba23ad",
        "outputId": "a772f55d-d307-4929-f40d-33db17d68a56"
      },
      "outputs": [
        {
          "output_type": "execute_result",
          "data": {
            "text/plain": [
              "[<matplotlib.lines.Line2D at 0x7f05b1f6b0d0>]"
            ]
          },
          "metadata": {},
          "execution_count": 301
        },
        {
          "output_type": "display_data",
          "data": {
            "text/plain": [
              "<Figure size 432x288 with 1 Axes>"
            ],
            "image/png": "[encoded data removed]"
          },
          "metadata": {
            "needs_background": "light"
          }
        }
      ],
      "source": [
        "if len(list_epoch) > 10:\n",
        "  plt.xlabel(\"Number of epochs\")\n",
        "else:\n",
        "  plt.xlabel(\"Number of iterations\")\n",
        "\n",
        "plt.ylabel(\"Criterion function\")\n",
        "plt.title(\"Learning curve\")\n",
        "plt.plot(index_list, J[:len(index_list)], marker = 'd')"
      ]
    },
    {
      "cell_type": "code",
      "execution_count": null,
      "id": "fe0e2cd6",
      "metadata": {
        "colab": {
          "base_uri": "https://localhost:8080/",
          "height": 265
        },
        "id": "fe0e2cd6",
        "outputId": "eedb828d-a2d6-41ca-974d-60170d7495fc"
      },
      "outputs": [
        {
          "output_type": "display_data",
          "data": {
            "text/plain": [
              "<Figure size 432x288 with 1 Axes>"
            ],
            "image/png": "[encoded data removed]"
          },
          "metadata": {
            "needs_background": "light"
          }
        }
      ],
      "source": [
        "graph_func(X, y, best_weight)"
      ]
    },
    {
      "cell_type": "markdown",
      "id": "148fdae6",
      "metadata": {
        "id": "148fdae6"
      },
      "source": [
        "(c) Repeat part (a) except use the synthetic dataset3 datasets given with Homework 1."
      ]
    },
    {
      "cell_type": "code",
      "execution_count": null,
      "id": "72808a2f",
      "metadata": {
        "colab": {
          "base_uri": "https://localhost:8080/"
        },
        "id": "72808a2f",
        "outputId": "e861337c-d8f8-4710-d8dc-ede2482a8f35"
      },
      "outputs": [
        {
          "output_type": "stream",
          "name": "stdout",
          "text": [
            "The best weights are:  [ 0.1        -0.09394461 -0.14335023]\n",
            "The algorithm did not converge!\n",
            "The cost function for the best weights:  4.637582269755614\n"
          ]
        }
      ],
      "source": [
        "data = open_datasets('dataset3_train.csv')\n",
        "random_shuffle = shuffle(data, random_state = 10)\n",
        "X = np.array(random_shuffle[:, :2])\n",
        "y = np.array(random_shuffle[:, 2])\n",
        "X = np.vstack([np.ones([1, 100]), X.T]).T\n",
        "w = 0.1 * np.ones([3, 1])\n",
        "weights_list = np.ones([3, 10000])\n",
        "index_list = []\n",
        "reflected_data = copy.deepcopy(X)\n",
        "dataset_dimension = int(X.shape[0])\n",
        "epoch = int(10000 / dataset_dimension)\n",
        "list_epoch = []\n",
        "J = np.zeros([10000])\n",
        "\n",
        "for i in range(dataset_dimension):\n",
        "    if y[i] == 2:\n",
        "        reflected_data[i, :] *= -1\n",
        "\n",
        "for i in range(epoch):\n",
        "    count = 0\n",
        "    list_epoch.append(i + 1)\n",
        "    \n",
        "    for j in range(dataset_dimension):\n",
        "        index = i * epoch + j\n",
        "        index_list.append(index + 1)\n",
        "        z_n = np.dot(w.T, reflected_data[j, :])\n",
        "        \n",
        "        if z_n <= 0:\n",
        "            w += 1 * reflected_data[j, :].reshape([3, 1])\n",
        "            count = 0\n",
        "        else:\n",
        "            count += 1\n",
        "        weights_list[:, index] = w.T\n",
        "\n",
        "    if count == 100:\n",
        "        print(\"The given data is linearly separable\")\n",
        "        break\n",
        "\n",
        "for i in range(10000):\n",
        "    J[i] = criterion_function(weights_list[:, i], reflected_data)\n",
        "    \n",
        "best_weight = weights_list[:, np.argmin(J)]\n",
        "print(\"The best weights are: \", best_weight)\n",
        "print(\"The algorithm did not converge!\")\n",
        "print(\"The cost function for the best weights: \", np.min(J))"
      ]
    },
    {
      "cell_type": "code",
      "execution_count": null,
      "id": "9da16cff",
      "metadata": {
        "colab": {
          "base_uri": "https://localhost:8080/"
        },
        "id": "9da16cff",
        "outputId": "661f3361-c3cc-41f7-b8b2-fa6bf5024d11"
      },
      "outputs": [
        {
          "output_type": "stream",
          "name": "stdout",
          "text": [
            "The misclassification rate of the training_3 dataset =  23.0 %\n",
            "The misclassification rate of the testing_3 dataset =  22.0 %\n"
          ]
        }
      ],
      "source": [
        "class_label = classifier(X, best_weight)\n",
        "data = open_datasets('dataset3_test.csv')\n",
        "X_test = np.array(data[:, :2])\n",
        "y_test = np.array(data[:, 2])\n",
        "X_test = np.vstack([np.ones([1, 100]), X_test.T]).T\n",
        "test_label = classifier(X_test, best_weight)\n",
        "print(\"The misclassification rate of the training_3 dataset = \" , misclassification_rate(y, class_label), \"%\")\n",
        "print(\"The misclassification rate of the testing_3 dataset = \", misclassification_rate(y_test, test_label), \"%\")"
      ]
    },
    {
      "cell_type": "code",
      "execution_count": null,
      "id": "d2a714e8",
      "metadata": {
        "colab": {
          "base_uri": "https://localhost:8080/",
          "height": 312
        },
        "id": "d2a714e8",
        "outputId": "025de222-d0bc-46b9-bdb9-ae07a412c93e"
      },
      "outputs": [
        {
          "output_type": "execute_result",
          "data": {
            "text/plain": [
              "[<matplotlib.lines.Line2D at 0x7f05b1e68730>]"
            ]
          },
          "metadata": {},
          "execution_count": 305
        },
        {
          "output_type": "display_data",
          "data": {
            "text/plain": [
              "<Figure size 432x288 with 1 Axes>"
            ],
            "image/png": "[encoded data removed]"
          },
          "metadata": {
            "needs_background": "light"
          }
        }
      ],
      "source": [
        "if len(list_epoch) > 10:\n",
        "  plt.xlabel(\"Number of epochs\")\n",
        "else:\n",
        "  plt.xlabel(\"Number of iterations\")\n",
        "\n",
        "plt.ylabel(\"Criterion function\")\n",
        "plt.title(\"Learning curve\")\n",
        "plt.plot(list_epoch, J[:len(list_epoch)], marker = 'd')"
      ]
    },
    {
      "cell_type": "code",
      "execution_count": null,
      "id": "033c586d",
      "metadata": {
        "colab": {
          "base_uri": "https://localhost:8080/",
          "height": 265
        },
        "id": "033c586d",
        "outputId": "679a60f6-fbb3-4f85-feba-513a004085ef"
      },
      "outputs": [
        {
          "output_type": "display_data",
          "data": {
            "text/plain": [
              "<Figure size 432x288 with 1 Axes>"
            ],
            "image/png": "[encoded data removed]"
          },
          "metadata": {
            "needs_background": "light"
          }
        }
      ],
      "source": [
        "graph_func(X, y, best_weight)"
      ]
    },
    {
      "cell_type": "markdown",
      "id": "68778063",
      "metadata": {
        "id": "68778063"
      },
      "source": [
        "(d) Repeat part (a) except use the breast cancer dataset. The data is provided in a .npy file for both train and test. The training data comprises 480 data points and the test set is 31 points. The feature vector has dimension D=30. The data has 31 dimensions, with the first component being the label: 1 = Malignant, 2 = Benign. More details and resources will be posted with the data. When working with the breast cancer data, you will find that the features vary significantly in their dynamic range. You should normalize this data. You can use sklearn.preprocessing.normalize() to normalize the BC data. Specifically, a recommended normalization that works well with the weight\n",
        "vector initialization is: x = 100 * skilearn.preprocesing.normalize(x, axis = 0, norm = 'l1'). It is a good idea to visually inspect (i.e., do some plotting) of your data before and after normalization."
      ]
    },
    {
      "cell_type": "code",
      "execution_count": null,
      "id": "4f6853e6",
      "metadata": {
        "id": "4f6853e6"
      },
      "outputs": [],
      "source": [
        "def normalize_data(x):\n",
        "    x = 100 * normalize(x, axis = 0, norm = 'l1')\n",
        "    return x"
      ]
    },
    {
      "cell_type": "code",
      "execution_count": null,
      "id": "52cb738c",
      "metadata": {
        "colab": {
          "base_uri": "https://localhost:8080/"
        },
        "id": "52cb738c",
        "outputId": "3d277da6-5eac-47a9-c377-88b499402eb4"
      },
      "outputs": [
        {
          "output_type": "stream",
          "name": "stdout",
          "text": [
            "The best weights are  [-5.9         0.4720722   1.45337732  0.54012608  2.2135899  -0.89948393\n",
            " -0.51753194  3.43072675  3.81417231 -0.65328251 -1.65124797  2.0384367\n",
            "  0.27025276  1.24074066  4.21210027 -1.3295186  -1.69061993 -2.74964089\n",
            " -0.88014653  0.58624999 -2.79438405  1.45423265  2.92592155  1.41325085\n",
            "  3.98447618  0.2865009   2.00500563  3.51700504  4.02139615  1.95692788\n",
            " -0.3591248 ]\n",
            "The algorithm did not converge!\n",
            "The cost function for the best weights:  3.836599664343942\n"
          ]
        }
      ],
      "source": [
        "data = np.load('breast_cancer_train.npy')\n",
        "reorder_data = shuffle(data, random_state = 10)\n",
        "dataset_dimension = int(data.shape[0]) \n",
        "X = reorder_data[:, 1:]\n",
        "y = reorder_data[:, 0]\n",
        "X = normalize_data(X)\n",
        "X = np.vstack([np.ones([1, dataset_dimension]), X.T]).T\n",
        "reflected_data = copy.deepcopy(X)\n",
        "feature_size = X.shape[1]\n",
        "w = 0.1 * np.ones([feature_size, 1])\n",
        "weights_list = np.ones([feature_size, 10000])\n",
        "epoch = int(10000 / dataset_dimension)\n",
        "index_list = []\n",
        "count_norm = 0\n",
        "list_epoch = []\n",
        "J = np.zeros([10000])\n",
        "\n",
        "for i in range(dataset_dimension):\n",
        "    \n",
        "    if y[i] == 2:\n",
        "        reflected_data[i, :] *= -1\n",
        "        \n",
        "for i in range(epoch + 1):\n",
        "    count = 0\n",
        "    list_epoch.append(i + 1)\n",
        "    \n",
        "    for j in range(dataset_dimension):\n",
        "        count_norm += 1\n",
        "        index_list.append(count_norm)\n",
        "        z_n = np.dot(w.T, reflected_data[j, :])\n",
        "        \n",
        "        if z_n <= 0:\n",
        "            w += 1 * reflected_data[j, :].reshape([feature_size, 1])\n",
        "            count = 0\n",
        "        else:\n",
        "            count += 1\n",
        "        \n",
        "        if count_norm < 10000:\n",
        "            weights_list[:, count_norm] = w.T\n",
        "    \n",
        "    if count_norm == 10000:\n",
        "        break\n",
        "    \n",
        "    if count == dataset_dimension:\n",
        "        print(\"The given data is linearly separable\")\n",
        "        break\n",
        "\n",
        "for i in range(10000):\n",
        "    J[i] = criterion_function(weights_list[:, i], reflected_data)\n",
        "\n",
        "best_weight = weights_list[:, np.argmin(J)]\n",
        "print(\"The best weights are \", best_weight)\n",
        "print(\"The algorithm did not converge!\")\n",
        "print(\"The cost function for the best weights: \", np.min(J))"
      ]
    },
    {
      "cell_type": "code",
      "execution_count": null,
      "id": "34575ae3",
      "metadata": {
        "colab": {
          "base_uri": "https://localhost:8080/"
        },
        "id": "34575ae3",
        "outputId": "778ea1b3-00b3-4def-ad0c-bce23b8402cf"
      },
      "outputs": [
        {
          "output_type": "stream",
          "name": "stdout",
          "text": [
            "The misclassification rate for the training data is =  2.0833333333333335 %\n",
            "The misclassification rate for the testing dataset is =  51.68539325842696 %\n"
          ]
        }
      ],
      "source": [
        "class_label = classifier(X, best_weight)\n",
        "data_test = np.load('breast_cancer_test.npy')\n",
        "X_test = np.array(data_test[:, 1:])\n",
        "y_test = np.array(data_test[:, 0])\n",
        "X_test = normalize_data(X_test)\n",
        "X_test = np.vstack([np.ones([1, int(data_test.shape[0])]), X_test.T]).T\n",
        "test_label = classifier(X_test, best_weight)\n",
        "print(\"The misclassification rate for the training data is = \", misclassification_rate(y, class_label), \"%\")\n",
        "print(\"The misclassification rate for the testing dataset is = \", misclassification_rate(y_test, test_label), \"%\")"
      ]
    },
    {
      "cell_type": "code",
      "execution_count": null,
      "id": "ce06a257",
      "metadata": {
        "colab": {
          "base_uri": "https://localhost:8080/",
          "height": 312
        },
        "id": "ce06a257",
        "outputId": "d3e973fd-6def-4ea2-b3b6-7576e5f14903"
      },
      "outputs": [
        {
          "output_type": "execute_result",
          "data": {
            "text/plain": [
              "[<matplotlib.lines.Line2D at 0x7f05b1e4a640>]"
            ]
          },
          "metadata": {},
          "execution_count": 310
        },
        {
          "output_type": "display_data",
          "data": {
            "text/plain": [
              "<Figure size 432x288 with 1 Axes>"
            ],
            "image/png": "[encoded data removed]"
          },
          "metadata": {
            "needs_background": "light"
          }
        }
      ],
      "source": [
        "if len(list_epoch) > 10:\n",
        "  plt.xlabel(\"Number of epochs\")\n",
        "else:\n",
        "  plt.xlabel(\"Number of iterations\")\n",
        "\n",
        "plt.ylabel(\"Criterion function\")\n",
        "plt.title(\"Learning curve\")\n",
        "plt.plot(list_epoch, J[:len(list_epoch)], marker = 'd')"
      ]
    },
    {
      "cell_type": "code",
      "execution_count": null,
      "id": "017b1ab7",
      "metadata": {
        "colab": {
          "base_uri": "https://localhost:8080/",
          "height": 296
        },
        "id": "017b1ab7",
        "outputId": "ca871b5e-6443-49e5-84f6-a79612f870b9"
      },
      "outputs": [
        {
          "output_type": "execute_result",
          "data": {
            "text/plain": [
              "<matplotlib.legend.Legend at 0x7f05b1d05f40>"
            ]
          },
          "metadata": {},
          "execution_count": 311
        },
        {
          "output_type": "display_data",
          "data": {
            "text/plain": [
              "<Figure size 432x288 with 1 Axes>"
            ],
            "image/png": "[encoded data removed]"
          },
          "metadata": {
            "needs_background": "light"
          }
        }
      ],
      "source": [
        "\"\"\"\n",
        "This function is based on chugg_foo() function in Prof. Chugg's nearest_means_classifier notebook\n",
        "https://github.com/keithchugg/ee559_spring2023/blob/main/lecture/nearest_means_classifier.ipynb\n",
        "\"\"\"\n",
        "data_histx = data[:, 1:]\n",
        "data_histy = data[:, 0]\n",
        "data_histx = normalize_data(data_histx)\n",
        "data_histx = np.vstack([np.ones([1, dataset_dimension]), data_histx.T]).T\n",
        "data_list = []\n",
        "\n",
        "for i in range(dataset_dimension):\n",
        "    value = np.dot(best_weight.T, data_histx[i, :]) / np.linalg.norm(best_weight)\n",
        "    data_list.append([value])\n",
        "\n",
        "data_list = np.array([data_list]).reshape(480, 1)\n",
        "class_1 = data_list[data_histy == 1]\n",
        "class_2 = data_list[data_histy == 2]\n",
        "plt.hist(data_list, label = 'Datapoints', edgecolor = 'black')\n",
        "plt.hist(class_1, label = 'Γ-1', edgecolor = 'black')\n",
        "plt.hist(class_2, label = 'Γ-2', edgecolor = 'black')\n",
        "plt.xlabel(\"Distance from the decision boundary\")\n",
        "plt.ylabel(\"Frequency\")\n",
        "plt.legend()"
      ]
    },
    {
      "cell_type": "markdown",
      "id": "2c15ed66",
      "metadata": {
        "id": "2c15ed66"
      },
      "source": [
        "# **SGD Method (Variant 1)**\n",
        "\n",
        "\n",
        "\n",
        "\n",
        "\n"
      ]
    },
    {
      "cell_type": "markdown",
      "id": "d8bb3948",
      "metadata": {
        "id": "d8bb3948"
      },
      "source": [
        "**Question 4(a)**"
      ]
    },
    {
      "cell_type": "code",
      "execution_count": null,
      "id": "1fa1befe",
      "metadata": {
        "colab": {
          "base_uri": "https://localhost:8080/"
        },
        "id": "1fa1befe",
        "outputId": "43299159-2558-4a78-b40a-c6a67598f0df"
      },
      "outputs": [
        {
          "output_type": "stream",
          "name": "stdout",
          "text": [
            "The given data is linearly separable\n",
            "The most optimal weights are  [ 0.1        -3.93264443  4.39200058]\n"
          ]
        }
      ],
      "source": [
        "data = open_datasets('dataset1_train.csv')\n",
        "dataset_dimension = int(data.shape[0])\n",
        "epoch = int(10000 / dataset_dimension)\n",
        "list_epoch = []\n",
        "J = np.zeros([10000])\n",
        "w = 0.1*np.ones([3, 1])\n",
        "weights_list = np.ones([3, 10000])\n",
        "index_list = []\n",
        "\n",
        "for i in range(epoch):\n",
        "    count = 0\n",
        "    random_shuffle = shuffle(data)\n",
        "    X = np.array(random_shuffle[:, :2])\n",
        "    y = np.array(random_shuffle[:, 2])\n",
        "    X = np.vstack([np.ones([1, 100]), X.T]).T\n",
        "    reflected_data = copy.deepcopy(X)\n",
        "\n",
        "    for ele in range(dataset_dimension):\n",
        "        \n",
        "        if y[ele] == 2:\n",
        "            reflected_data[ele, :] *= -1\n",
        "            \n",
        "    list_epoch.append(i + 1)\n",
        "    \n",
        "    for j in range(dataset_dimension):\n",
        "        index = i * epoch + j\n",
        "        index_list.append(index + 1)\n",
        "        z_n = np.dot(w.T, reflected_data[j, :])\n",
        "        \n",
        "        if z_n <= 0:\n",
        "            w += 1 * reflected_data[j, :].reshape([3, 1])\n",
        "            count = 0\n",
        "        else:\n",
        "            count += 1\n",
        "        weights_list[:, index] = w.T\n",
        "\n",
        "    if count == 100:\n",
        "        print(\"The given data is linearly separable\")\n",
        "        break\n",
        "        \n",
        "for i in range(10000):\n",
        "    J[i] = criterion_function(weights_list[:, i], reflected_data)\n",
        "    \n",
        "best_weight = weights_list[:, np.argmin(J)]\n",
        "print(\"The most optimal weights are \", best_weight)"
      ]
    },
    {
      "cell_type": "code",
      "execution_count": null,
      "id": "0c61b6b2",
      "metadata": {
        "colab": {
          "base_uri": "https://localhost:8080/"
        },
        "id": "0c61b6b2",
        "outputId": "d4798a49-4015-40e7-ce0e-61aec94677b7"
      },
      "outputs": [
        {
          "output_type": "stream",
          "name": "stdout",
          "text": [
            "The misclassification rate for the training_1 data =  0.0 %\n",
            "The misclassification rate for the testing_1 dataset =  0.0 %\n"
          ]
        }
      ],
      "source": [
        "class_label = classifier(X, best_weight)\n",
        "data = open_datasets('dataset1_test.csv')\n",
        "X_test = np.array(data[:, :2])\n",
        "y_test = np.array(data[:, 2])\n",
        "X_test = np.vstack([np.ones([1, 100]), X_test.T]).T\n",
        "test_label = classifier(X_test, best_weight)\n",
        "print(\"The misclassification rate for the training_1 data = \", misclassification_rate(y, class_label), \"%\")\n",
        "print(\"The misclassification rate for the testing_1 dataset = \", misclassification_rate(y_test, test_label), \"%\")"
      ]
    },
    {
      "cell_type": "code",
      "execution_count": null,
      "id": "866dd252",
      "metadata": {
        "colab": {
          "base_uri": "https://localhost:8080/",
          "height": 312
        },
        "id": "866dd252",
        "outputId": "9443f333-56dc-41df-a027-7f7c6ed42064"
      },
      "outputs": [
        {
          "output_type": "execute_result",
          "data": {
            "text/plain": [
              "[<matplotlib.lines.Line2D at 0x7f05b1d8d910>]"
            ]
          },
          "metadata": {},
          "execution_count": 314
        },
        {
          "output_type": "display_data",
          "data": {
            "text/plain": [
              "<Figure size 432x288 with 1 Axes>"
            ],
            "image/png": "[encoded data removed]"
          },
          "metadata": {
            "needs_background": "light"
          }
        }
      ],
      "source": [
        "if len(list_epoch) > 10:\n",
        "  plt.xlabel(\"Number of epochs\")\n",
        "else:\n",
        "  plt.xlabel(\"Number of iterations\")\n",
        "\n",
        "plt.ylabel(\"Criterion function\")\n",
        "plt.title(\"Learning curve\")\n",
        "plt.plot(index_list, J[:len(index_list)], marker = 'd')"
      ]
    },
    {
      "cell_type": "code",
      "execution_count": null,
      "id": "d74a20b4",
      "metadata": {
        "colab": {
          "base_uri": "https://localhost:8080/",
          "height": 269
        },
        "id": "d74a20b4",
        "outputId": "0fc2157e-c936-4435-df11-cf0a7b542cb2"
      },
      "outputs": [
        {
          "output_type": "display_data",
          "data": {
            "text/plain": [
              "<Figure size 432x288 with 1 Axes>"
            ],
            "image/png": "[encoded data removed]"
          },
          "metadata": {
            "needs_background": "light"
          }
        }
      ],
      "source": [
        "graph_func(X, np.array(y), best_weight)"
      ]
    },
    {
      "cell_type": "markdown",
      "id": "2262023e",
      "metadata": {
        "id": "2262023e"
      },
      "source": [
        "**Question 4(b)**"
      ]
    },
    {
      "cell_type": "code",
      "execution_count": null,
      "id": "8f989f0b",
      "metadata": {
        "colab": {
          "base_uri": "https://localhost:8080/"
        },
        "id": "8f989f0b",
        "outputId": "715a2879-06a9-4fdb-d186-3fac34d93165"
      },
      "outputs": [
        {
          "output_type": "stream",
          "name": "stdout",
          "text": [
            "The given data is linearly separable\n",
            "The best weights are  [-1.9         0.03592419  3.66284817]\n"
          ]
        }
      ],
      "source": [
        "data = open_datasets('dataset2_train.csv')\n",
        "dataset_dimension = int(data.shape[0])\n",
        "epoch = int(10000 / dataset_dimension)\n",
        "list_epoch = []  \n",
        "J = np.zeros([10000])\n",
        "w = 0.1 * np.ones([3, 1])\n",
        "weights_list = np.ones([3, 10000])\n",
        "index_list = []\n",
        "\n",
        "for i in range(epoch):\n",
        "    count = 0\n",
        "    random_shuffle = shuffle(data)\n",
        "    X = np.array(random_shuffle[:, :2])\n",
        "    y = np.array(random_shuffle[:, 2])\n",
        "    X = np.vstack([np.ones([1, 100]), X.T]).T\n",
        "    reflected_data = copy.deepcopy(X)\n",
        "\n",
        "    for ele in range(dataset_dimension):\n",
        "        \n",
        "        if y[ele] == 2:\n",
        "            reflected_data[ele, :] *= -1     \n",
        "    \n",
        "    list_epoch.append(i + 1)\n",
        "    \n",
        "    for j in range(dataset_dimension):\n",
        "        index = i * epoch + j\n",
        "        index_list.append(index + 1)\n",
        "        z_n = np.dot(w.T, reflected_data[j, :])\n",
        "        \n",
        "        if z_n <= 0:\n",
        "            w += 1 * reflected_data[j, :].reshape([3, 1])\n",
        "            count = 0\n",
        "        else:\n",
        "            count += 1\n",
        "        weights_list[:, index] = w.T\n",
        "\n",
        "    if count == 100:\n",
        "        print(\"The given data is linearly separable\")\n",
        "        break\n",
        "        \n",
        "for i in range(10000):\n",
        "    J[i] = criterion_function(weights_list[:, i], reflected_data)\n",
        "    \n",
        "best_weight = weights_list[:, np.argmin(J)]\n",
        "print(\"The best weights are \", best_weight)"
      ]
    },
    {
      "cell_type": "code",
      "execution_count": null,
      "id": "69571fed",
      "metadata": {
        "colab": {
          "base_uri": "https://localhost:8080/"
        },
        "id": "69571fed",
        "outputId": "8eba16d7-e187-40e3-b252-f555fde11f7e"
      },
      "outputs": [
        {
          "output_type": "stream",
          "name": "stdout",
          "text": [
            "The misclassification rate for the training_2 data =  0.0 %\n",
            "The misclassification rate for the testing_2 data =  0.0 %\n"
          ]
        }
      ],
      "source": [
        "class_label = classifier(X, best_weight)\n",
        "data = open_datasets('dataset2_test.csv')\n",
        "X_test_2 = np.array(data[:, :2])\n",
        "y_test_2 = np.array(data[:, 2])\n",
        "X_test_2 = np.vstack([np.ones([1, 100]), X_test_2.T]).T\n",
        "test_label = classifier(X_test_2, best_weight)\n",
        "print(\"The misclassification rate for the training_2 data = \", misclassification_rate(y, class_label), \"%\")\n",
        "print(\"The misclassification rate for the testing_2 data = \", misclassification_rate(y_test_2, test_label), \"%\")"
      ]
    },
    {
      "cell_type": "code",
      "execution_count": null,
      "id": "a65954d2",
      "metadata": {
        "colab": {
          "base_uri": "https://localhost:8080/",
          "height": 312
        },
        "id": "a65954d2",
        "outputId": "cd210515-67ad-4cac-b68f-ca9f18121e2c"
      },
      "outputs": [
        {
          "output_type": "execute_result",
          "data": {
            "text/plain": [
              "[<matplotlib.lines.Line2D at 0x7f05b1af0280>]"
            ]
          },
          "metadata": {},
          "execution_count": 337
        },
        {
          "output_type": "display_data",
          "data": {
            "text/plain": [
              "<Figure size 432x288 with 1 Axes>"
            ],
            "image/png": "[encoded data removed]"
          },
          "metadata": {
            "needs_background": "light"
          }
        }
      ],
      "source": [
        "if len(list_epoch) > 10:\n",
        "  plt.xlabel(\"Number of epochs\")\n",
        "else:\n",
        "  plt.xlabel(\"Number of iterations\")\n",
        "\n",
        "plt.ylabel(\"Criterion function\")\n",
        "plt.title(\"Learning curve\")\n",
        "plt.plot(index_list, J[:len(index_list)], marker = 'd')"
      ]
    },
    {
      "cell_type": "code",
      "source": [
        "graph_func(X, np.array(y), best_weight)"
      ],
      "metadata": {
        "colab": {
          "base_uri": "https://localhost:8080/",
          "height": 265
        },
        "id": "OZ_Z-8tq0zry",
        "outputId": "0fc0f772-febe-42da-bf75-04bd78ee5a37"
      },
      "id": "OZ_Z-8tq0zry",
      "execution_count": null,
      "outputs": [
        {
          "output_type": "display_data",
          "data": {
            "text/plain": [
              "<Figure size 432x288 with 1 Axes>"
            ],
            "image/png": "[encoded data removed]"
          },
          "metadata": {
            "needs_background": "light"
          }
        }
      ]
    },
    {
      "cell_type": "markdown",
      "id": "bd664ba1",
      "metadata": {
        "id": "bd664ba1"
      },
      "source": [
        "**Question 4(c)**"
      ]
    },
    {
      "cell_type": "code",
      "execution_count": null,
      "id": "fb938050",
      "metadata": {
        "colab": {
          "base_uri": "https://localhost:8080/"
        },
        "id": "fb938050",
        "outputId": "62989a72-409b-43aa-c160-a1c2aaaa52eb"
      },
      "outputs": [
        {
          "output_type": "stream",
          "name": "stdout",
          "text": [
            "The best weights are  [ 0.1        -0.06260918 -0.0992467 ]\n",
            "The algorithm did not converge!\n",
            "The cost function for the best weights is: 2.8539050900575993\n"
          ]
        }
      ],
      "source": [
        "data = open_datasets('dataset3_train.csv')\n",
        "dataset_dimension = int(data.shape[0])\n",
        "epoch = int(10000 / dataset_dimension)\n",
        "list_epoch = []\n",
        "J = np.zeros([10000])\n",
        "w = 0.1 * np.ones([3, 1])\n",
        "weights_list = np.ones([3, 10000])\n",
        "index_list = []\n",
        "\n",
        "for i in range(epoch):\n",
        "    count = 0\n",
        "    random_shuffle = shuffle(data)\n",
        "    X = np.array(random_shuffle[:, :2])\n",
        "    y = np.array(random_shuffle[:, 2])\n",
        "    X = np.vstack([np.ones([1, 100]), X.T]).T\n",
        "    reflected_data = copy.deepcopy(X)\n",
        "\n",
        "    for ele in range(dataset_dimension):\n",
        "        \n",
        "        if y[ele] == 2:\n",
        "            reflected_data[ele, :] *= -1\n",
        "            \n",
        "    list_epoch.append(i + 1)\n",
        "    \n",
        "    for j in range(dataset_dimension):\n",
        "        index = i * epoch + j\n",
        "        index_list.append(index + 1)\n",
        "        z_n = np.dot(w.T, reflected_data[j, :])\n",
        "        \n",
        "        if z_n <= 0:\n",
        "            w += 1 * reflected_data[j, :].reshape([3, 1])\n",
        "            count = 0\n",
        "        else:\n",
        "            count += 1\n",
        "        weights_list[:, index] = w.T\n",
        "\n",
        "    if count == 100:\n",
        "        print(\"Data is linearly separable\")\n",
        "        break\n",
        "        \n",
        "for i in range(10000):\n",
        "    J[i] = criterion_function(weights_list[:, i], reflected_data)\n",
        "    \n",
        "best_weight = weights_list[:, np.argmin(J)]\n",
        "print(\"The best weights are \", best_weight)\n",
        "print(\"The algorithm did not converge!\")\n",
        "print(\"The cost function for the best weights is:\", np.min(J))"
      ]
    },
    {
      "cell_type": "code",
      "execution_count": null,
      "id": "3676f778",
      "metadata": {
        "colab": {
          "base_uri": "https://localhost:8080/"
        },
        "id": "3676f778",
        "outputId": "71841568-4709-402e-98e3-fa00b6d671d3"
      },
      "outputs": [
        {
          "output_type": "stream",
          "name": "stdout",
          "text": [
            "The misclassification rate for the training_3 dataset =  31.0 %\n",
            "The misclassification rate for the testing_3 dataset =  31.0 %\n"
          ]
        }
      ],
      "source": [
        "class_label = classifier(X, best_weight)\n",
        "data = open_datasets('dataset3_test.csv')\n",
        "X_test = np.array(data[:, :2])\n",
        "y_test = np.array(data[:, 2])\n",
        "X_test = np.vstack([np.ones([1, 100]), X_test.T]).T\n",
        "test_label = classifier(X_test,best_weight)\n",
        "print(\"The misclassification rate for the training_3 dataset = \", misclassification_rate(y, class_label), \"%\")\n",
        "print(\"The misclassification rate for the testing_3 dataset = \", misclassification_rate(y_test, test_label), \"%\")"
      ]
    },
    {
      "cell_type": "code",
      "execution_count": null,
      "id": "a37d5a44",
      "metadata": {
        "colab": {
          "base_uri": "https://localhost:8080/",
          "height": 312
        },
        "id": "a37d5a44",
        "outputId": "16d3330b-ace3-437e-db7b-a65986493566"
      },
      "outputs": [
        {
          "output_type": "execute_result",
          "data": {
            "text/plain": [
              "[<matplotlib.lines.Line2D at 0x7f05b1ad2730>]"
            ]
          },
          "metadata": {},
          "execution_count": 322
        },
        {
          "output_type": "display_data",
          "data": {
            "text/plain": [
              "<Figure size 432x288 with 1 Axes>"
            ],
            "image/png": "[encoded data removed]"
          },
          "metadata": {
            "needs_background": "light"
          }
        }
      ],
      "source": [
        "if len(list_epoch) > 10:\n",
        "  plt.xlabel(\"Number of epochs\")\n",
        "else:\n",
        "  plt.xlabel(\"Number of iterations\")\n",
        "\n",
        "plt.ylabel(\"Criterion function\")\n",
        "plt.title(\"Learning curve\")\n",
        "plt.plot(list_epoch, J[:len(list_epoch)], marker = 'd')"
      ]
    },
    {
      "cell_type": "code",
      "source": [
        "graph_func(X, np.array(y), best_weight)"
      ],
      "metadata": {
        "colab": {
          "base_uri": "https://localhost:8080/",
          "height": 268
        },
        "id": "Umr23sN62XMl",
        "outputId": "97e078b7-da9a-4b9d-85e2-a5de4979271e"
      },
      "id": "Umr23sN62XMl",
      "execution_count": null,
      "outputs": [
        {
          "output_type": "display_data",
          "data": {
            "text/plain": [
              "<Figure size 432x288 with 1 Axes>"
            ],
            "image/png": "[encoded data removed]"
          },
          "metadata": {
            "needs_background": "light"
          }
        }
      ]
    },
    {
      "cell_type": "markdown",
      "id": "b7df1075",
      "metadata": {
        "id": "b7df1075"
      },
      "source": [
        "**Question 4(d)**"
      ]
    },
    {
      "cell_type": "code",
      "execution_count": null,
      "id": "2da0ca64",
      "metadata": {
        "colab": {
          "base_uri": "https://localhost:8080/"
        },
        "id": "2da0ca64",
        "outputId": "0cd5d201-866b-4eff-f68c-bb0aa9fe0890"
      },
      "outputs": [
        {
          "output_type": "stream",
          "name": "stdout",
          "text": [
            "The best weights are  [-2.9         0.47626323  0.57319307  0.52727585  1.51251949 -0.38371898\n",
            "  0.2802855   1.88581273  2.22655168 -0.33052896 -0.84643532  0.66144973\n",
            " -0.1257766   0.67390621  1.71922711 -0.99063808 -0.70475287 -0.81328097\n",
            " -0.08615674 -0.45297673 -2.17513405  0.73664957  0.943326    0.82023753\n",
            "  1.96125557 -0.04622098  1.23919875  2.15981505  2.07330953  0.31759419\n",
            " -0.30756744]\n",
            "The algorithm did not converge!\n",
            "The cost function for the best weights is: 2.87406664598328\n"
          ]
        }
      ],
      "source": [
        "data = np.load('breast_cancer_train.npy')\n",
        "dataset_dimension = int(data.shape[0])\n",
        "epoch = int(10000 / dataset_dimension)\n",
        "list_epoch = []\n",
        "w = 0.1 * np.ones([feature_size, 1])\n",
        "weights_list = np.ones([feature_size, 10000])\n",
        "index_list = []\n",
        "J = np.zeros([10000])\n",
        "count_norm = 0\n",
        "\n",
        "for i in range(epoch + 1):\n",
        "    count = 0\n",
        "    random_shuffle = shuffle(data)\n",
        "    X = random_shuffle[:, 1:]\n",
        "    y = random_shuffle[:, 0]\n",
        "    X = normalize_data(X)\n",
        "    X = np.vstack([np.ones([1, dataset_dimension]), X.T]).T\n",
        "    reflected_data = copy.deepcopy(X)\n",
        "    feature_size = X.shape[1]\n",
        "\n",
        "    for ele in range(dataset_dimension):\n",
        "        \n",
        "        if y[ele] == 2:\n",
        "            reflected_data[ele, :] *= -1\n",
        "    \n",
        "    list_epoch.append(i+1)\n",
        "    \n",
        "    for j in range(dataset_dimension):\n",
        "        count_norm += 1\n",
        "        index_list.append(count_norm)\n",
        "        z_n = np.dot(w.T, reflected_data[j, :])\n",
        "        \n",
        "        if z_n <= 0:\n",
        "            w += 1 * reflected_data[j, :].reshape([feature_size, 1])\n",
        "            count = 0\n",
        "        else:\n",
        "            count += 1\n",
        "        \n",
        "        if count_norm < 10000:\n",
        "            weights_list[:, count_norm] = w.T\n",
        "                \n",
        "    if count_norm == 10000:\n",
        "        break\n",
        "    \n",
        "    if count == dataset_dimension:\n",
        "        print(\"The given data is linearly separable\")\n",
        "        break\n",
        "\n",
        "for i in range(10000):\n",
        "    J[i] = criterion_function(weights_list[:, i], reflected_data)\n",
        "\n",
        "best_weight = weights_list[:, np.argmin(J)]\n",
        "print(\"The best weights are \", best_weight)\n",
        "print(\"The algorithm did not converge!\")\n",
        "print(\"The cost function for the best weights is:\", np.min(J))"
      ]
    },
    {
      "cell_type": "code",
      "execution_count": null,
      "id": "7fb4b6f2",
      "metadata": {
        "colab": {
          "base_uri": "https://localhost:8080/"
        },
        "id": "7fb4b6f2",
        "outputId": "a537079e-5e3a-40cc-8683-b9bbbf60fe9e"
      },
      "outputs": [
        {
          "output_type": "stream",
          "name": "stdout",
          "text": [
            "The misclassification rate for the training dataset =  2.9166666666666665 %\n",
            "The misclassification rate for the testing dataset =  58.42696629213483 %\n"
          ]
        }
      ],
      "source": [
        "class_label = classifier(X, best_weight)\n",
        "data_test = np.load('breast_cancer_test.npy')\n",
        "X_test = np.array(data_test[:, 1:])\n",
        "y_test = np.array(data_test[:, 0])\n",
        "X_test = normalize_data(X_test)\n",
        "X_test = np.vstack([np.ones([1, int(data_test.shape[0])]), X_test.T]).T\n",
        "test_label = classifier(X_test, best_weight)\n",
        "print(\"The misclassification rate for the training dataset = \", misclassification_rate(y, class_label), \"%\")\n",
        "print(\"The misclassification rate for the testing dataset = \", misclassification_rate(y_test, test_label), \"%\")"
      ]
    },
    {
      "cell_type": "code",
      "execution_count": null,
      "id": "74e47ca0",
      "metadata": {
        "colab": {
          "base_uri": "https://localhost:8080/",
          "height": 312
        },
        "id": "74e47ca0",
        "outputId": "fbb10cab-6bbb-4ce1-8f66-fe92c358c3fd"
      },
      "outputs": [
        {
          "output_type": "execute_result",
          "data": {
            "text/plain": [
              "[<matplotlib.lines.Line2D at 0x7f05b1b768e0>]"
            ]
          },
          "metadata": {},
          "execution_count": 326
        },
        {
          "output_type": "display_data",
          "data": {
            "text/plain": [
              "<Figure size 432x288 with 1 Axes>"
            ],
            "image/png": "[encoded data removed]"
          },
          "metadata": {
            "needs_background": "light"
          }
        }
      ],
      "source": [
        "if len(list_epoch) > 10:\n",
        "  plt.xlabel(\"Number of epochs\")\n",
        "else:\n",
        "  plt.xlabel(\"Number of iterations\")\n",
        "\n",
        "plt.ylabel(\"Criterion function\")\n",
        "plt.title(\"Learning curve\")\n",
        "plt.plot(list_epoch, J[:len(list_epoch)], marker = 'd')"
      ]
    },
    {
      "cell_type": "code",
      "execution_count": null,
      "id": "cb1d210a",
      "metadata": {
        "colab": {
          "base_uri": "https://localhost:8080/",
          "height": 296
        },
        "id": "cb1d210a",
        "outputId": "31635622-cfa2-46c2-9c12-1f09075510c9"
      },
      "outputs": [
        {
          "output_type": "execute_result",
          "data": {
            "text/plain": [
              "<matplotlib.legend.Legend at 0x7f05b1953520>"
            ]
          },
          "metadata": {},
          "execution_count": 328
        },
        {
          "output_type": "display_data",
          "data": {
            "text/plain": [
              "<Figure size 432x288 with 1 Axes>"
            ],
            "image/png": "[encoded data removed]"
          },
          "metadata": {
            "needs_background": "light"
          }
        }
      ],
      "source": [
        "\"\"\"\n",
        "This function is based on chugg_foo() function in Prof. Chugg's nearest_means_classifier notebook\n",
        "https://github.com/keithchugg/ee559_spring2023/blob/main/lecture/nearest_means_classifier.ipynb\n",
        "\"\"\"\n",
        "data_histx = data[:, 1:]\n",
        "data_histy = data[:, 0]\n",
        "data_histx = normalize_data(data_histx)\n",
        "data_histx = np.vstack([np.ones([1, dataset_dimension]), data_histx.T]).T\n",
        "data_list = []\n",
        "\n",
        "for i in range(dataset_dimension):\n",
        "    value = np.dot(best_weight.T, data_histx[i, :]) / np.linalg.norm(best_weight)\n",
        "    data_list.append([value])\n",
        "\n",
        "data_list = np.array([data_list]).reshape(480, 1)\n",
        "class_1 = data_list[data_histy == 1]\n",
        "class_2 = data_list[data_histy == 2]\n",
        "plt.hist(data_list, label = 'Datapoints', edgecolor = 'black')\n",
        "plt.hist(class_1, label = 'Γ-1', edgecolor = 'black')\n",
        "plt.hist(class_2, label = 'Γ-2', edgecolor = 'black')\n",
        "plt.xlabel(\"Distance from the decision boundary\")\n",
        "plt.ylabel(\"Frequency\")\n",
        "plt.legend()"
      ]
    },
    {
      "cell_type": "markdown",
      "source": [
        "5.(c) Repeat problem 4(d) (i.e., the breast cancer data) using this Logistic regression and compare the results to that obtained with perceptron learning."
      ],
      "metadata": {
        "id": "HfwK3dLCi81x"
      },
      "id": "HfwK3dLCi81x"
    },
    {
      "cell_type": "code",
      "source": [
        "def sigmoid(x):\n",
        "    pos = np.abs(x)\n",
        "    sigmoid_pos = 1.0 / (1.0 + np.exp(-pos))\n",
        "    magnitude = np.sign(x)\n",
        "    return (magnitude < 0) + magnitude * sigmoid_pos"
      ],
      "metadata": {
        "id": "lsn3wZmXi-rE"
      },
      "id": "lsn3wZmXi-rE",
      "execution_count": 344,
      "outputs": []
    },
    {
      "cell_type": "code",
      "source": [
        "def diff_softmax(w_trans, col):\n",
        "    data_dimension = col.shape[0]\n",
        "    J = 0\n",
        "    \n",
        "    for i in range(data_dimension):\n",
        "        J += math.log(1 + math.exp(np.dot(-w_trans.T, col[i, :])))\n",
        "    \n",
        "    return J"
      ],
      "metadata": {
        "id": "AIo7h23sjQV4"
      },
      "id": "AIo7h23sjQV4",
      "execution_count": 345,
      "outputs": []
    },
    {
      "cell_type": "code",
      "source": [
        "data = np.load('breast_cancer_train.npy')\n",
        "reorder_data = shuffle(data, random_state = 5)\n",
        "data_dimension = int(data.shape[0]) \n",
        "X = reorder_data[:, 1:]\n",
        "y = reorder_data[:, 0]\n",
        "X = normalize_data(X)\n",
        "w = 0.1 * np.ones([feature_size, 1])\n",
        "weights_list = np.ones([feature_size, 10000])\n",
        "index_list = []\n",
        "count_norm = 0\n",
        "J = np.zeros([10000])\n",
        "X = np.vstack([np.ones([1, data_dimension]), X.T]).T\n",
        "reflected_data = copy.deepcopy(X)\n",
        "feature_size = X.shape[1]\n",
        "epoch = int(10000 / data_dimension)\n",
        "list_epoch = []\n",
        "\n",
        "for i in range(data_dimension):\n",
        "    \n",
        "    if y[i] == 2:\n",
        "        reflected_data[i, :] *= -1\n",
        "\n",
        "for i in range(epoch + 1):\n",
        "    count = 0\n",
        "    list_epoch.append(i + 1)\n",
        "    \n",
        "    for j in range(data_dimension):\n",
        "        count_norm += 1\n",
        "        index_list.append(count_norm)\n",
        "        z_n = sigmoid(np.dot(-w.T, reflected_data[i, :])) * reflected_data[i, :]\n",
        "        w += 1 * z_n.reshape([feature_size, 1])\n",
        "        if count_norm < 10000:\n",
        "            weights_list[:, count_norm] = w.T\n",
        "    \n",
        "    if count_norm == 10000:\n",
        "        break\n",
        "\n",
        "for i in range(10000):\n",
        "    J[i] = diff_softmax(weights_list[:, i], reflected_data)\n",
        "\n",
        "best_weight = weights_list[:, np.argmin(J)]\n",
        "print(\"The best weights are\", best_weight)\n",
        "print('The algorithm did not converge!')\n",
        "print(\"The cost function for the best weights:\", np.min(J))"
      ],
      "metadata": {
        "colab": {
          "base_uri": "https://localhost:8080/"
        },
        "id": "A3g8oArSjZUc",
        "outputId": "c14b91e1-6e73-4aee-f70b-174b6109be28"
      },
      "id": "A3g8oArSjZUc",
      "execution_count": 355,
      "outputs": [
        {
          "output_type": "stream",
          "name": "stdout",
          "text": [
            "The best weights are [-5.72707722  0.44438746  0.10847659  0.55303533  2.03471187 -0.36352143\n",
            "  1.57560504  3.92334708  3.81544624 -0.50395992 -1.04778206  1.69585644\n",
            "  0.04150261  1.80112733  3.57077807 -2.28583852 -0.13951024  0.25566198\n",
            " -0.65878902 -0.73564728 -0.77212341  0.75621668  0.36408319  0.88795019\n",
            "  2.62728486 -0.34075008  2.35390578  2.95693219  2.44621406  0.01735879\n",
            " -0.35896718]\n",
            "The algorithm did not converge!\n",
            "The cost function for the best weights: 77.84901027516679\n"
          ]
        }
      ]
    },
    {
      "cell_type": "code",
      "source": [
        "class_label = classifier(X, best_weight)\n",
        "data_test = np.load('breast_cancer_test.npy')\n",
        "X_test = np.array(data_test[:, 1:])\n",
        "y_test = np.array(data_test[:, 0])\n",
        "X_test = normalize_data(X_test)\n",
        "X_test = np.vstack([np.ones([1, int(data_test.shape[0])]), X_test.T]).T\n",
        "test_label = classifier(X_test, best_weight)\n",
        "print(\"The misclassification rate for the training dataset = \", misclassification_rate(y, class_label), \"%\")\n",
        "print(\"The misclassification rate for the testing dataset = \", misclassification_rate(y_test, test_label), \"%\")"
      ],
      "metadata": {
        "colab": {
          "base_uri": "https://localhost:8080/"
        },
        "id": "TumFp6bnjwmY",
        "outputId": "dd6576aa-d4df-4f87-fc43-31e8e9430b1b"
      },
      "id": "TumFp6bnjwmY",
      "execution_count": 356,
      "outputs": [
        {
          "output_type": "stream",
          "name": "stdout",
          "text": [
            "The misclassification rate for the training dataset =  5.833333333333333 %\n",
            "The misclassification rate for the testing dataset =  61.79775280898876 %\n"
          ]
        }
      ]
    },
    {
      "cell_type": "code",
      "source": [
        "if len(list_epoch) > 10:\n",
        "  plt.xlabel(\"Number of epochs\")\n",
        "else:\n",
        "  plt.xlabel(\"Number of iterations\")\n",
        "\n",
        "plt.ylabel(\"Criterion function\")\n",
        "plt.title(\"Learning curve\")\n",
        "plt.plot(list_epoch, J[::data_dimension], marker = 'd')"
      ],
      "metadata": {
        "colab": {
          "base_uri": "https://localhost:8080/",
          "height": 312
        },
        "id": "g-bcyn-yj4Zv",
        "outputId": "8184faf5-08ac-4b25-8e09-5c669b7d3d3c"
      },
      "id": "g-bcyn-yj4Zv",
      "execution_count": 350,
      "outputs": [
        {
          "output_type": "execute_result",
          "data": {
            "text/plain": [
              "[<matplotlib.lines.Line2D at 0x7f05b1b27880>]"
            ]
          },
          "metadata": {},
          "execution_count": 350
        },
        {
          "output_type": "display_data",
          "data": {
            "text/plain": [
              "<Figure size 432x288 with 1 Axes>"
            ],
            "image/png": "[encoded data removed]"
          },
          "metadata": {
            "needs_background": "light"
          }
        }
      ]
    },
    {
      "cell_type": "code",
      "source": [
        "\"\"\"\n",
        "This function is based on chugg_foo() function in Prof. Chugg's nearest_means_classifier notebook\n",
        "https://github.com/keithchugg/ee559_spring2023/blob/main/lecture/nearest_means_classifier.ipynb\n",
        "\"\"\"\n",
        "data_hist_x = data[:, 1:]\n",
        "data_hist_y = data[:, 0]\n",
        "data_hist_x = normalize_data(data_hist_x)\n",
        "data_hist_x = np.vstack([np.ones([1, data_dimension]), data_hist_x.T]).T\n",
        "data_list = []\n",
        "\n",
        "for i in range(data_dimension):\n",
        "    value = np.dot(best_weight.T, data_hist_x[i, :]) / np.linalg.norm(best_weight)\n",
        "    data_list.append([value])\n",
        "\n",
        "data_list = np.array([data_list]).reshape(480, 1)\n",
        "class_1 = data_list[data_hist_y == 1]\n",
        "class_2 = data_list[data_hist_y == 2]\n",
        "plt.hist(data_list, label = 'Datapoints', edgecolor = 'black')\n",
        "plt.hist(class_1, label = 'Γ-1', edgecolor = 'black')\n",
        "plt.hist(class_2, label = 'Γ-2', edgecolor = 'black')\n",
        "plt.xlabel(\"Distance from the decision boundary\")\n",
        "plt.ylabel(\"Frequency\")\n",
        "plt.legend()"
      ],
      "metadata": {
        "colab": {
          "base_uri": "https://localhost:8080/",
          "height": 296
        },
        "id": "mt_3yOO5j7Kp",
        "outputId": "3e78785d-2b1a-4c11-8b1f-968af9556381"
      },
      "id": "mt_3yOO5j7Kp",
      "execution_count": 351,
      "outputs": [
        {
          "output_type": "execute_result",
          "data": {
            "text/plain": [
              "<matplotlib.legend.Legend at 0x7f05b1b2fca0>"
            ]
          },
          "metadata": {},
          "execution_count": 351
        },
        {
          "output_type": "display_data",
          "data": {
            "text/plain": [
              "<Figure size 432x288 with 1 Axes>"
            ],
            "image/png": "[encoded data removed]"
          },
          "metadata": {
            "needs_background": "light"
          }
        }
      ]
    }
  ],
  "metadata": {
    "kernelspec": {
      "display_name": "Python 3 (ipykernel)",
      "language": "python",
      "name": "python3"
    },
    "language_info": {
      "codemirror_mode": {
        "name": "ipython",
        "version": 3
      },
      "file_extension": ".py",
      "mimetype": "text/x-python",
      "name": "python",
      "nbconvert_exporter": "python",
      "pygments_lexer": "ipython3",
      "version": "3.10.9"
    },
    "colab": {
      "provenance": []
    }
  },
  "nbformat": 4,
  "nbformat_minor": 5
}